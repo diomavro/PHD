{
 "cells": [
  {
   "cell_type": "markdown",
   "metadata": {},
   "source": [
    "$$f(x) = \\frac{\\alpha x_{m}^{\\alpha} }{x^{a+1}} ~~~~~~~x \\geq x_m $$ \n",
    "\n",
    "$$ \\overline{x} =\\frac{\\alpha x_{m}}{\\alpha-1} ~~~~ if~ \\alpha > 1  $$\n",
    "\n",
    "$$ \\overline{x} = \\infty ~~~~ if~ \\alpha \\leq 1$$"
   ]
  },
  {
   "cell_type": "markdown",
   "metadata": {},
   "source": [
    "# Show that the mean is unstable"
   ]
  },
  {
   "cell_type": "code",
   "execution_count": 3,
   "metadata": {},
   "outputs": [],
   "source": [
    "import numpy as np\n",
    "import matplotlib.pyplot as plt"
   ]
  },
  {
   "cell_type": "code",
   "execution_count": 4,
   "metadata": {},
   "outputs": [],
   "source": [
    "mu = 0\n",
    "sigma = 1\n",
    "pareto = 0.5\n",
    "h = 0.01 #Probabilty of samling out of a pareto distribution\n",
    "\n",
    "def addobservation(y):\n",
    "    x = np.random.random()\n",
    "    t = np.random.random()\n",
    "    global mu,sigma,h\n",
    "    if x>h:\n",
    "        y = np.append(y, np.random.normal(mu,1))\n",
    "    if x <= h:\n",
    "        if t>= 0.5:\n",
    "            y = np.append(y, np.random.pareto(pareto,1))\n",
    "        if t<0.5:\n",
    "            y = np.append(y, -np.random.pareto(pareto,1))\n",
    "    return y\n",
    "\n",
    "def calculatemean(vector):\n",
    "    x = np.mean(vector)\n",
    "    return x"
   ]
  },
  {
   "cell_type": "code",
   "execution_count": 5,
   "metadata": {},
   "outputs": [
    {
     "data": {
      "text/plain": [
       "[<matplotlib.lines.Line2D at 0x22ecd9447f0>]"
      ]
     },
     "execution_count": 5,
     "metadata": {},
     "output_type": "execute_result"
    },
    {
     "data": {
      "image/png": "[encoded data removed]",
      "text/plain": [
       "<Figure size 432x288 with 1 Axes>"
      ]
     },
     "metadata": {
      "needs_background": "light"
     },
     "output_type": "display_data"
    }
   ],
   "source": [
    "g = np.random.normal(0,1,1)\n",
    "means = g\n",
    "index = 1\n",
    "observations = index\n",
    "iterations = 100000\n",
    "\n",
    "for i in range(iterations-1):\n",
    "    index = index +1\n",
    "    observations = np.append(observations, index)\n",
    "    g = addobservation(g)\n",
    "    means = np.append(means,calculatemean(g))\n",
    "\n",
    "plt.plot(observations, means)"
   ]
  },
  {
   "cell_type": "markdown",
   "metadata": {},
   "source": [
    "# Loglog "
   ]
  },
  {
   "cell_type": "code",
   "execution_count": 6,
   "metadata": {},
   "outputs": [
    {
     "name": "stdout",
     "output_type": "stream",
     "text": [
      "12.063107128954108\n",
      "0.2992797874617744\n"
     ]
    }
   ],
   "source": [
    "g = np.random.normal(0,1,1)\n",
    "t = np.random.pareto(0.9,10000)\n",
    "y = np.concatenate((g,t))\n",
    "m = calculatemean(y)\n",
    "print(m)\n",
    "\n",
    "x= np.random.random()\n",
    "print(x)"
   ]
  },
  {
   "cell_type": "code",
   "execution_count": 7,
   "metadata": {},
   "outputs": [
    {
     "data": {
      "text/plain": [
       "[<matplotlib.lines.Line2D at 0x22ecd9e5080>]"
      ]
     },
     "execution_count": 7,
     "metadata": {},
     "output_type": "execute_result"
    },
    {
     "data": {
      "image/png": "[encoded data removed]",
      "text/plain": [
       "<Figure size 432x288 with 1 Axes>"
      ]
     },
     "metadata": {
      "needs_background": "light"
     },
     "output_type": "display_data"
    }
   ],
   "source": [
    "hist, edg = np.histogram(y,bins=100)\n",
    "edg = edg[:-1]\n",
    "plt.subplot(121)\n",
    "plt.plot(edg,hist)\n",
    "##plt.xlim(10**-1,10**4)"
   ]
  },
  {
   "cell_type": "code",
   "execution_count": 8,
   "metadata": {},
   "outputs": [
    {
     "data": {
      "text/plain": [
       "[<matplotlib.lines.Line2D at 0x22ecda0c978>]"
      ]
     },
     "execution_count": 8,
     "metadata": {},
     "output_type": "execute_result"
    },
    {
     "data": {
      "image/png": "[encoded data removed]",
      "text/plain": [
       "<Figure size 432x288 with 1 Axes>"
      ]
     },
     "metadata": {
      "needs_background": "light"
     },
     "output_type": "display_data"
    }
   ],
   "source": [
    "plt.loglog(edg,hist)\n",
    "# plt.xlim(10**-1,10**4)"
   ]
  },
  {
   "cell_type": "markdown",
   "metadata": {},
   "source": [
    "https://learndatasci.com/tutorials/python-finance-part-yahoo-finance-api-pandas-matplotlib/\n",
    "https://david-salazar.github.io/2020/07/05/tail-risk-of-diseases-in-r/\n",
    "https://twitter.com/Heinonmatti/status/1280542746353303554\n",
    "https://cran.r-project.org/web/packages/poweRlaw/vignettes/d_jss_paper.pdf\n",
    "https://seaborn.pydata.org/tutorial/distributions.html\n",
    "https://docs.scipy.org/doc/scipy/reference/generated/scipy.stats.kstest.html"
   ]
  },
  {
   "cell_type": "code",
   "execution_count": null,
   "metadata": {},
   "outputs": [],
   "source": []
  }
 ],
 "metadata": {
  "kernelspec": {
   "display_name": "Python 3",
   "language": "python",
   "name": "python3"
  },
  "language_info": {
   "codemirror_mode": {
    "name": "ipython",
    "version": 3
   },
   "file_extension": ".py",
   "mimetype": "text/x-python",
   "name": "python",
   "nbconvert_exporter": "python",
   "pygments_lexer": "ipython3",
   "version": "3.7.3"
  }
 },
 "nbformat": 4,
 "nbformat_minor": 2
}
