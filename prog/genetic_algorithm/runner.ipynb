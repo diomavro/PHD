{
 "cells": [
  {
   "cell_type": "code",
   "execution_count": 8,
   "metadata": {},
   "outputs": [],
   "source": [
    "import openai \n",
    "openai.api_key = open(\"key.txt\", \"r\").read().strip('\\n')"
   ]
  },
  {
   "cell_type": "code",
   "execution_count": 38,
   "metadata": {},
   "outputs": [],
   "source": [
    "completion = openai.ChatCompletion.create(\n",
    "    model =\"gpt-3.5-turbo\",\n",
    "    messages = [{\"role\": \"user\", \"content\": \"what is the circumference of the moon in km?\"}]\n",
    ")\n",
    "reply_content = completion.choices[0].message.content\n",
    "message_history = []\n",
    "message_history.append({\"role\": \"user\", \"content\": reply_content})\n",
    "user_input = input(\">: \")\n",
    "message_history.append({\"role\": \"user\", \"content\": user_input})"
   ]
  },
  {
   "cell_type": "code",
   "execution_count": 36,
   "metadata": {},
   "outputs": [
    {
     "name": "stdout",
     "output_type": "stream",
     "text": [
      "\n",
      "\n",
      "This makes the moon's diameter approximately 3,475 km (2,159 miles). It takes approximately 27.3 days for the moon to orbit the Earth, and it rotates on its axis in the same amount of time, which is why we only see one side of the moon from Earth. The moon's gravity affects the tides on Earth, and it also plays a role in stabilizing Earth's tilt on its axis, which is important for maintaining stable climate conditions on our planet. The moon has been visited by humans six times during the Apollo space program, and it continues to be a focus of scientific interest and exploration.\n"
     ]
    }
   ],
   "source": [
    "completion = openai.ChatCompletion.create(\n",
    "    model=\"gpt-3.5-turbo\",\n",
    "    messages=message_history\n",
    ")\n",
    "reply_content = completion.choices[0].message.content\n",
    "print(reply_content)"
   ]
  },
  {
   "cell_type": "code",
   "execution_count": 25,
   "metadata": {},
   "outputs": [
    {
     "name": "stdout",
     "output_type": "stream",
     "text": [
      "As an AI language model, I do not have emotional experiences or personal preferences. Therefore, I am not capable of being happy or unhappy in the way humans understand these emotions. However, I am always here to provide assistance and help you communicate more effectively. Is there anything specific you would like me to do for you now?\n"
     ]
    }
   ],
   "source": []
  },
  {
   "cell_type": "code",
   "execution_count": null,
   "metadata": {},
   "outputs": [],
   "source": []
  }
 ],
 "metadata": {
  "kernelspec": {
   "display_name": "Python 3",
   "language": "python",
   "name": "python3"
  },
  "language_info": {
   "codemirror_mode": {
    "name": "ipython",
    "version": 3
   },
   "file_extension": ".py",
   "mimetype": "text/x-python",
   "name": "python",
   "nbconvert_exporter": "python",
   "pygments_lexer": "ipython3",
   "version": "3.11.1"
  },
  "orig_nbformat": 4,
  "vscode": {
   "interpreter": {
    "hash": "88c7dfc1309ce0f5bf9d7c6e7b9193a9c521273000b555bb9999f8300dc317d0"
   }
  }
 },
 "nbformat": 4,
 "nbformat_minor": 2
}
