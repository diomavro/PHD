{
 "cells": [
  {
   "cell_type": "code",
   "execution_count": null,
   "metadata": {
    "collapsed": true
   },
   "outputs": [],
   "source": [
    "\n",
    "\"\"\"\n",
    "Filename: illustrates_clt.py\n",
    "Authors: John Stachurski and Thomas J. Sargent\n",
    "\n",
    "Visual illustration of the central limit theorem.  Histograms draws of\n",
    "\n",
    "    Y_n := \\sqrt{n} (\\bar X_n - \\mu)\n",
    "\n",
    "for a given distribution of X_i, and a given choice of n.\n",
    "\"\"\"\n",
    "import numpy as np\n",
    "from scipy.stats import expon, norm\n",
    "import matplotlib.pyplot as plt\n",
    "from matplotlib import rc\n",
    "\n",
    "# == Specifying font, needs LaTeX integration == #\n",
    "rc('font', **{'family': 'serif', 'serif': ['Palatino']})\n",
    "rc('text', usetex=True)\n",
    "\n",
    "# == Set parameters == #\n",
    "n = 250     # Choice of n\n",
    "k = 100000  # Number of draws of Y_n\n",
    "distribution = expon(2)  # Exponential distribution, lambda = 1/2\n",
    "mu, s = distribution.mean(), distribution.std()\n",
    "\n",
    "# == Draw underlying RVs. Each row contains a draw of X_1,..,X_n == #\n",
    "data = distribution.rvs((k, n))\n",
    "# == Compute mean of each row, producing k draws of \\bar X_n == #\n",
    "sample_means = data.mean(axis=1)\n",
    "# == Generate observations of Y_n == #\n",
    "Y = np.sqrt(n) * (sample_means - mu)\n",
    "\n",
    "# == Plot == #\n",
    "fig, ax = plt.subplots()\n",
    "xmin, xmax = -3 * s, 3 * s\n",
    "ax.set_xlim(xmin, xmax)\n",
    "ax.hist(Y, bins=60, alpha=0.5, normed=True)\n",
    "xgrid = np.linspace(xmin, xmax, 200)\n",
    "ax.plot(xgrid, norm.pdf(xgrid, scale=s), 'k-', lw=2, label=r'$N(0, \\sigma^2)$')\n",
    "ax.legend()\n",
    "\n",
    "plt.show()\n",
    "\n",
    "\"\"\"\n",
    "np.convolve([1, 2, 3], [0, 1, 0.5])\n",
    "array([ 0. ,  1. ,  2.5,  4. ,  1.5])\n",
    "\"\"\""
   ]
  },
  {
   "cell_type": "code",
   "execution_count": null,
   "metadata": {
    "collapsed": true
   },
   "outputs": [],
   "source": []
  }
 ],
 "metadata": {
  "kernelspec": {
   "display_name": "Python 3",
   "language": "python",
   "name": "python3"
  },
  "language_info": {
   "codemirror_mode": {
    "name": "ipython",
    "version": 3
   },
   "file_extension": ".py",
   "mimetype": "text/x-python",
   "name": "python",
   "nbconvert_exporter": "python",
   "pygments_lexer": "ipython3",
   "version": "3.5.0"
  }
 },
 "nbformat": 4,
 "nbformat_minor": 0
}
