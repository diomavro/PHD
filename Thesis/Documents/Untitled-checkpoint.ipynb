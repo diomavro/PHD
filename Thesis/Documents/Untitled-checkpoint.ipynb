{
 "cells": [
  {
   "cell_type": "code",
   "execution_count": 70,
   "metadata": {
    "collapsed": false,
    "scrolled": false
   },
   "outputs": [
    {
     "name": "stdout",
     "output_type": "stream",
     "text": [
      "14.568663281914935\n",
      "7.870837078076166\n",
      "True\n",
      "11.699903116804823\n",
      "5.299476452524001\n",
      "True\n",
      "3.974038983625805\n",
      "6.1532929041898\n",
      "True\n",
      "14.357632001760399\n",
      "8.552534205186387\n",
      "True\n",
      "$$$$$$$$$$$$$$$$$$$$$$$$$$$$$$$$$$$$$$$$$$$$$$$$$$$$$\n",
      "[0.1, 0.8, 0.8, 0.8]\n",
      "4\n"
     ]
    }
   ],
   "source": [
    "import scipy.stats\n",
    "import random\n",
    "import matplotlib.pyplot as plt\n",
    "from matplotlib import rc\n",
    "\n",
    "consumerRatio = .1 \n",
    "periods = 3\n",
    "deter = 5\n",
    "people = 5\n",
    "consumerlist = []\n",
    "Ratiolist = [consumerRatio]\n",
    "\n",
    "class Consumer(object):\n",
    "\t\"\"\"Initialize consumers\"\"\"\n",
    "\tdef __init__(self, fixed, social,pirate):\n",
    "\t\tself.social = social\n",
    "\t\tself.fixed = fixed\n",
    "\t\tself.pirate = pirate\n",
    "\tdef decide(self):\n",
    "\t\tprint('one')\n",
    "\t\tif self.social*consumerRatio + self.fixed > deter: \n",
    "\t\t\tprint('two')\n",
    "\t\t\tif self.pirate == False:\n",
    "\t\t\t\tprint('Has changed from False to True')\n",
    "\t\t\t\tpass\n",
    "\t\t\tself.pirate = True\n",
    "\t\telse:\n",
    "\t\t\tprint('three')\n",
    "\t\t\tif self.pirate == True:\n",
    "\t\t\t\tprint('Has changed from True to False')\n",
    "\t\t\t\tpass\n",
    "\t\t\tself.pirate = False\n",
    "\n",
    "\"Compare Utility to deterence\"\n",
    "def compare(social,proportion,fixed,deter):\n",
    "\tif social*proportion + fixed > deter:  \n",
    "\t\treturn False\n",
    "\telse:\n",
    "\t\treturn True\n",
    "\n",
    "\"\"\"Establish prportion of people who are consuming\"\"\"\n",
    "def countpirates(list):\n",
    "\ttruths = sum(1 for x in range(0,len(list)) if list[x-1].pirate == True)\n",
    "\treturn truths\n",
    "\n",
    "\"\"\"Create an array of initialized consumers and add them to list\"\"\"\n",
    "for x in range(1,people):\n",
    "\tfixed = random.uniform(0,10)\n",
    "\tsocial = random.uniform(0,20)\n",
    "\tpirate = (social * 0.6 + fixed) > 5 # boolean\n",
    "\t\"Adds each consumer to the consumerlist\"\n",
    "\tconsumerlist.append(consumer(fixed,social,pirate))\n",
    "\n",
    "\"\"\"Print the consumers attributes\"\"\"\n",
    "for i in range(0,len(consumerlist)):\n",
    "\tprint(consumerlist[i-1].social)\n",
    "\tprint(consumerlist[i-1].fixed)\n",
    "\tprint(consumerlist[i-1].pirate)\n",
    "\n",
    "print(\"$$$$$$$$$$$$$$$$$$$$$$$$$$$$$$$$$$$$$$$$$$$$$$$$$$$$$\")\n",
    "consumerRatio = countpirates(consumerlist)/people\n",
    "\n",
    "for i in range(0,periods):\n",
    "\tfor x in range(1,len(consumerlist)):\n",
    "\t\tconsumerlist[x-1].decide()\n",
    "\tconsumerRatio = countpirates(consumerlist)/people\n",
    "\tRatiolist.append(consumerRatio)\n",
    "\n",
    "print(Ratiolist)\n",
    "print(countpirates(consumerlist))"
   ]
  },
  {
   "cell_type": "code",
   "execution_count": 16,
   "metadata": {
    "collapsed": false
   },
   "outputs": [
    {
     "name": "stdout",
     "output_type": "stream",
     "text": [
      "9\n"
     ]
    }
   ],
   "source": []
  },
  {
   "cell_type": "code",
   "execution_count": null,
   "metadata": {
    "collapsed": true
   },
   "outputs": [],
   "source": []
  }
 ],
 "metadata": {
  "kernelspec": {
   "display_name": "Python 3",
   "language": "python",
   "name": "python3"
  },
  "language_info": {
   "codemirror_mode": {
    "name": "ipython",
    "version": 3
   },
   "file_extension": ".py",
   "mimetype": "text/x-python",
   "name": "python",
   "nbconvert_exporter": "python",
   "pygments_lexer": "ipython3",
   "version": "3.5.0"
  }
 },
 "nbformat": 4,
 "nbformat_minor": 0
}
