{
 "cells": [
  {
   "cell_type": "code",
   "execution_count": null,
   "metadata": {
    "scrolled": true
   },
   "outputs": [
    {
     "name": "stdout",
     "output_type": "stream",
     "text": [
      "Question1:Torture, as a matter of principle, is always morally wrong.;end\n",
      "Boob\n",
      "Sorry wrong answer\n",
      "Question1:Torture, as a matter of principle, is always morally wrong.;end\n",
      "Yes\n",
      "breaking\n"
     ]
    }
   ],
   "source": [
    "def checkbinary(answer):\n",
    "    #checks if answers meet some condition and returns a value based on if they do\n",
    "    if answer in [\"yes\", \"y\", \"correct\"]:\n",
    "        result = 2\n",
    "    elif answer in [\"no\",\"n\"]:\n",
    "        result = 1\n",
    "    else: \n",
    "        result = 0\n",
    "    return result\n",
    "def strappend(string, number):\n",
    "    output = string + str(number)\n",
    "    return output\n",
    "def getquestion(address,number):\n",
    "    #gets the question from the textfile\n",
    "    questionfile = open(address,\"r\")\n",
    "    searchphrase = \"Question\" + str(number)\n",
    "    searchphrasestop = \"Question\" + str(number+1)\n",
    "    for line in questionfile:\n",
    "        if searchphrase in line:\n",
    "            question = line\n",
    "    return question\n",
    "for x in [1,2,3,4,5,6,7,8]:\n",
    "    while True:\n",
    "        try:\n",
    "            answer1 = input(getquestion(\"Textfiles\\Questions.txt\",x)).lower().strip()\n",
    "            valuefromtest = checkbinary(answer1)\n",
    "        except ValueError:\n",
    "            print(\"Sorry, I didn't understand that.\")\n",
    "            continue\n",
    "        if valuefromtest in [2,1]:\n",
    "            print(\"breaking\")\n",
    "            break\n",
    "        else: \n",
    "            print(\"Sorry wrong answer\")\n",
    "            continue"
   ]
  },
  {
   "cell_type": "markdown",
   "metadata": {},
   "source": [
    "https://www.philosophyexperiments.com/fatman/Default2.aspx\n",
    "\n",
    "https://www.guru99.com/reading-and-writing-files-in-python.html\n",
    "f= open(\"guru99.txt\",\"w+\") will create a text file, w for write, a for appent and r for read\n",
    "for i in range(10):\n",
    "     f.write(\"This is line %d\\r\\n\" % (i+1))\n",
    "f= open(\"guru99.txt\",\"r\")\n",
    "if f.mode == 'r':\n",
    "    contents = f.read()\n",
    "    print(contents)\n",
    "C:\\Users\\Dio.DESKTOP-QB6MRSV\\Desktop\\GIT\\PHD\\Ideas\\Game\\Textfiles"
   ]
  }
 ],
 "metadata": {
  "kernelspec": {
   "display_name": "Python 3",
   "language": "python",
   "name": "python3"
  },
  "language_info": {
   "codemirror_mode": {
    "name": "ipython",
    "version": 3
   },
   "file_extension": ".py",
   "mimetype": "text/x-python",
   "name": "python",
   "nbconvert_exporter": "python",
   "pygments_lexer": "ipython3",
   "version": "3.7.3"
  }
 },
 "nbformat": 4,
 "nbformat_minor": 2
}
