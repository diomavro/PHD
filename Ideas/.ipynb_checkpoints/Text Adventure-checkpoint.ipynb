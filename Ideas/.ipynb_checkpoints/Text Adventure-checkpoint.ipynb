{
 "cells": [
  {
   "cell_type": "code",
   "execution_count": 27,
   "metadata": {},
   "outputs": [
    {
     "name": "stdout",
     "output_type": "stream",
     "text": [
      "Question 1: Torture, as a matter of principle, is always morally wrongyes\n",
      "good\n",
      "Question 2: The morality of an action is determined by whether, compared to the other available options, it maximises the sum total of happiness of all the people affected by it.\n"
     ]
    }
   ],
   "source": [
    "answer = input(\"Question 1: Torture, as a matter of principle, is always morally wrong\").lower().strip()\n",
    "if answer == \"yes\" or \"y\" or \"correct\":\n",
    "    print(\"good\")\n",
    "else: \n",
    "    print(\"Too bad\")\n",
    "print(\"Question 2: The morality of an action is determined by whether, compared to the other available options, it maximises the sum total of happiness of all the people affected by it.\")"
   ]
  },
  {
   "cell_type": "code",
   "execution_count": null,
   "metadata": {},
   "outputs": [],
   "source": []
  }
 ],
 "metadata": {
  "kernelspec": {
   "display_name": "Python 3",
   "language": "python",
   "name": "python3"
  },
  "language_info": {
   "codemirror_mode": {
    "name": "ipython",
    "version": 3
   },
   "file_extension": ".py",
   "mimetype": "text/x-python",
   "name": "python",
   "nbconvert_exporter": "python",
   "pygments_lexer": "ipython3",
   "version": "3.7.3"
  }
 },
 "nbformat": 4,
 "nbformat_minor": 2
}
