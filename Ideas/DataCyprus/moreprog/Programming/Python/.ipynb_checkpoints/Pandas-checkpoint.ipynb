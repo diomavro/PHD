{
 "cells": [
  {
   "cell_type": "code",
   "execution_count": 2,
   "metadata": {},
   "outputs": [],
   "source": [
    "import pandas as pd\n",
    "\n",
    "data = pd.read_csv('C:\\Users\\DavidEttinger02\\Downloads\\\\AMZN.csv')"
   ]
  },
  {
   "cell_type": "code",
   "execution_count": 7,
   "metadata": {},
   "outputs": [
    {
     "data": {
      "text/html": [
       "<div>\n",
       "<style scoped>\n",
       "    .dataframe tbody tr th:only-of-type {\n",
       "        vertical-align: middle;\n",
       "    }\n",
       "\n",
       "    .dataframe tbody tr th {\n",
       "        vertical-align: top;\n",
       "    }\n",
       "\n",
       "    .dataframe thead th {\n",
       "        text-align: right;\n",
       "    }\n",
       "</style>\n",
       "<table border=\"1\" class=\"dataframe\">\n",
       "  <thead>\n",
       "    <tr style=\"text-align: right;\">\n",
       "      <th></th>\n",
       "      <th>Open</th>\n",
       "      <th>High</th>\n",
       "      <th>Low</th>\n",
       "      <th>Close</th>\n",
       "      <th>Adj Close</th>\n",
       "      <th>Volume</th>\n",
       "    </tr>\n",
       "  </thead>\n",
       "  <tbody>\n",
       "    <tr>\n",
       "      <th>count</th>\n",
       "      <td>21.000000</td>\n",
       "      <td>21.000000</td>\n",
       "      <td>21.000000</td>\n",
       "      <td>21.000000</td>\n",
       "      <td>21.000000</td>\n",
       "      <td>2.100000e+01</td>\n",
       "    </tr>\n",
       "    <tr>\n",
       "      <th>mean</th>\n",
       "      <td>1594.441430</td>\n",
       "      <td>1604.997628</td>\n",
       "      <td>1587.326660</td>\n",
       "      <td>1598.927618</td>\n",
       "      <td>1598.927618</td>\n",
       "      <td>3.136981e+06</td>\n",
       "    </tr>\n",
       "    <tr>\n",
       "      <th>std</th>\n",
       "      <td>19.359467</td>\n",
       "      <td>17.933848</td>\n",
       "      <td>21.361558</td>\n",
       "      <td>18.863317</td>\n",
       "      <td>18.863317</td>\n",
       "      <td>7.277459e+05</td>\n",
       "    </tr>\n",
       "    <tr>\n",
       "      <th>min</th>\n",
       "      <td>1560.010010</td>\n",
       "      <td>1574.800049</td>\n",
       "      <td>1546.020020</td>\n",
       "      <td>1572.079956</td>\n",
       "      <td>1572.079956</td>\n",
       "      <td>2.115600e+06</td>\n",
       "    </tr>\n",
       "    <tr>\n",
       "      <th>25%</th>\n",
       "      <td>1581.329956</td>\n",
       "      <td>1592.050049</td>\n",
       "      <td>1573.000000</td>\n",
       "      <td>1581.760010</td>\n",
       "      <td>1581.760010</td>\n",
       "      <td>2.642600e+06</td>\n",
       "    </tr>\n",
       "    <tr>\n",
       "      <th>50%</th>\n",
       "      <td>1595.000000</td>\n",
       "      <td>1606.949951</td>\n",
       "      <td>1587.829956</td>\n",
       "      <td>1601.540039</td>\n",
       "      <td>1601.540039</td>\n",
       "      <td>3.067900e+06</td>\n",
       "    </tr>\n",
       "    <tr>\n",
       "      <th>75%</th>\n",
       "      <td>1604.000000</td>\n",
       "      <td>1614.119995</td>\n",
       "      <td>1600.150024</td>\n",
       "      <td>1609.079956</td>\n",
       "      <td>1609.079956</td>\n",
       "      <td>3.443600e+06</td>\n",
       "    </tr>\n",
       "    <tr>\n",
       "      <th>max</th>\n",
       "      <td>1637.030029</td>\n",
       "      <td>1646.729980</td>\n",
       "      <td>1635.089966</td>\n",
       "      <td>1641.540039</td>\n",
       "      <td>1641.540039</td>\n",
       "      <td>5.077500e+06</td>\n",
       "    </tr>\n",
       "  </tbody>\n",
       "</table>\n",
       "</div>"
      ],
      "text/plain": [
       "              Open         High          Low        Close    Adj Close  \\\n",
       "count    21.000000    21.000000    21.000000    21.000000    21.000000   \n",
       "mean   1594.441430  1604.997628  1587.326660  1598.927618  1598.927618   \n",
       "std      19.359467    17.933848    21.361558    18.863317    18.863317   \n",
       "min    1560.010010  1574.800049  1546.020020  1572.079956  1572.079956   \n",
       "25%    1581.329956  1592.050049  1573.000000  1581.760010  1581.760010   \n",
       "50%    1595.000000  1606.949951  1587.829956  1601.540039  1601.540039   \n",
       "75%    1604.000000  1614.119995  1600.150024  1609.079956  1609.079956   \n",
       "max    1637.030029  1646.729980  1635.089966  1641.540039  1641.540039   \n",
       "\n",
       "             Volume  \n",
       "count  2.100000e+01  \n",
       "mean   3.136981e+06  \n",
       "std    7.277459e+05  \n",
       "min    2.115600e+06  \n",
       "25%    2.642600e+06  \n",
       "50%    3.067900e+06  \n",
       "75%    3.443600e+06  \n",
       "max    5.077500e+06  "
      ]
     },
     "execution_count": 7,
     "metadata": {},
     "output_type": "execute_result"
    }
   ],
   "source": [
    "data.describe()"
   ]
  },
  {
   "cell_type": "code",
   "execution_count": 11,
   "metadata": {},
   "outputs": [
    {
     "name": "stdout",
     "output_type": "stream",
     "text": [
      "Using matplotlib backend: Qt5Agg\n"
     ]
    },
    {
     "data": {
      "text/plain": [
       "<matplotlib.axes._subplots.AxesSubplot at 0xc015b00>"
      ]
     },
     "execution_count": 11,
     "metadata": {},
     "output_type": "execute_result"
    }
   ],
   "source": [
    "% matplotlib\n",
    "data.Close.plot()"
   ]
  },
  {
   "cell_type": "code",
   "execution_count": 19,
   "metadata": {},
   "outputs": [],
   "source": [
    "data = pd.read_csv('C:\\Users\\DavidEttinger02\\Downloads\\\\AMZN.csv')\n",
    "data = data.set_index('Date')\n",
    "data = data.drop(columns = ['Volume'])"
   ]
  },
  {
   "cell_type": "code",
   "execution_count": 22,
   "metadata": {},
   "outputs": [
    {
     "name": "stdout",
     "output_type": "stream",
     "text": [
      "Using matplotlib backend: Qt5Agg\n"
     ]
    },
    {
     "data": {
      "text/plain": [
       "<matplotlib.axes._subplots.AxesSubplot at 0xfda4a90>"
      ]
     },
     "execution_count": 22,
     "metadata": {},
     "output_type": "execute_result"
    }
   ],
   "source": [
    "% matplotlib\n",
    "from pylab import *\n",
    "style.use('ggplot')\n",
    "xkcd()\n",
    "data.plot()"
   ]
  },
  {
   "cell_type": "code",
   "execution_count": null,
   "metadata": {},
   "outputs": [],
   "source": []
  }
 ],
 "metadata": {
  "kernelspec": {
   "display_name": "Python 2",
   "language": "python",
   "name": "python2"
  },
  "language_info": {
   "codemirror_mode": {
    "name": "ipython",
    "version": 2
   },
   "file_extension": ".py",
   "mimetype": "text/x-python",
   "name": "python",
   "nbconvert_exporter": "python",
   "pygments_lexer": "ipython2",
   "version": "2.7.15"
  }
 },
 "nbformat": 4,
 "nbformat_minor": 2
}
