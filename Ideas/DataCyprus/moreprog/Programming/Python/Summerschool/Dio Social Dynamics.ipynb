{
 "cells": [
  {
   "cell_type": "markdown",
   "metadata": {},
   "source": []
  },
  {
   "cell_type": "code",
   "execution_count": 19,
   "metadata": {},
   "outputs": [],
   "source": [
    "import matplotlib\n",
    "matplotlib.use('Qt5Agg')\n",
    "\n",
    "from pylab import *\n",
    "from matplotlib.animation import FuncAnimation\n",
    "import networkx as nx\n",
    "import random as rd"
   ]
  },
  {
   "cell_type": "code",
   "execution_count": 23,
   "metadata": {},
   "outputs": [],
   "source": [
    "def init():\n",
    "    global g, positions, s\n",
    "    g = nx.karate_club_graph()\n",
    "    for i in g:\n",
    "        g.node[i]['state'] = 1 if random() < .5 else 0\n",
    "    s=rd.choice(list(g.node())) #### Changes! THis is the stubborn guy\n",
    "    positions = nx.spring_layout(g)\n",
    "    \n",
    "def update():\n",
    "    global g\n",
    "    listener = rd.choice(list(g.nodes()))\n",
    "    speaker = rd.choice(list(g.neighbors(listener)))\n",
    "    if listener != s:#### Changes!\n",
    "        g.node[listener]['state'] = g.node[speaker]['state']\n",
    "    \n",
    "def init_fig():\n",
    "    global fig, viz\n",
    "    fig = figure()\n",
    "    viz = nx.draw(g, with_labels=True, pos = positions,\n",
    "                 node_color = [choose_color(g.nodes[n]['state'], n) for n in g.nodes])\n",
    "\n",
    "def choose_color(state, node_num):\n",
    "    if state == 0 and node_num != s:\n",
    "        return 'g'\n",
    "    elif state == 1 and node_num != s:\n",
    "        return 'r'\n",
    "    else:\n",
    "        return 'b'\n",
    "    \n",
    "def observe():\n",
    "    global g\n",
    "    #cla()\n",
    "    nx.draw(g, cmap = cm.binary, vmin = 0, vmax = 1,\n",
    "        node_color = [choose_color(g.nodes[n]['state'], n)\n",
    "                               for n in g.nodes],\n",
    "            pos = positions)\n",
    "\n",
    "    \n",
    "########################################\n",
    "init()\n",
    "init_fig()\n",
    "def step(t):\n",
    "    update()\n",
    "    observe()\n",
    "    return [viz]\n",
    "ani = FuncAnimation(fig, step, interval=0)\n",
    "show()"
   ]
  },
  {
   "cell_type": "code",
   "execution_count": 15,
   "metadata": {},
   "outputs": [
    {
     "ename": "TypeError",
     "evalue": "'AtlasView' object does not support item assignment",
     "output_type": "error",
     "traceback": [
      "\u001b[1;31m\u001b[0m",
      "\u001b[1;31mTypeError\u001b[0mTraceback (most recent call last)",
      "\u001b[1;32m<ipython-input-15-500c322ab246>\u001b[0m in \u001b[0;36m<module>\u001b[1;34m()\u001b[0m\n\u001b[0;32m      1\u001b[0m \u001b[1;32mif\u001b[0m \u001b[0mrandom\u001b[0m\u001b[1;33m(\u001b[0m\u001b[1;33m)\u001b[0m \u001b[1;33m<\u001b[0m \u001b[1;36m.5\u001b[0m\u001b[1;33m:\u001b[0m\u001b[1;33m\u001b[0m\u001b[0m\n\u001b[1;32m----> 2\u001b[1;33m     \u001b[0mg\u001b[0m\u001b[1;33m[\u001b[0m\u001b[1;36m1\u001b[0m\u001b[1;33m]\u001b[0m\u001b[1;33m[\u001b[0m\u001b[1;34m\"state\"\u001b[0m\u001b[1;33m]\u001b[0m \u001b[1;33m=\u001b[0m \u001b[1;36m1\u001b[0m\u001b[1;33m\u001b[0m\u001b[0m\n\u001b[0m\u001b[0;32m      3\u001b[0m \u001b[1;32melse\u001b[0m\u001b[1;33m:\u001b[0m\u001b[1;33m\u001b[0m\u001b[0m\n\u001b[0;32m      4\u001b[0m     \u001b[0mg\u001b[0m\u001b[1;33m[\u001b[0m\u001b[1;36m1\u001b[0m\u001b[1;33m]\u001b[0m\u001b[1;33m[\u001b[0m\u001b[1;34m\"state\"\u001b[0m\u001b[1;33m]\u001b[0m \u001b[1;33m=\u001b[0m \u001b[1;36m0\u001b[0m\u001b[1;33m\u001b[0m\u001b[0m\n",
      "\u001b[1;31mTypeError\u001b[0m: 'AtlasView' object does not support item assignment"
     ]
    }
   ],
   "source": [
    "\n"
   ]
  },
  {
   "cell_type": "code",
   "execution_count": 5,
   "metadata": {},
   "outputs": [],
   "source": [
    "t = nx.fast_gnp_random_graph(100,.4)"
   ]
  },
  {
   "cell_type": "code",
   "execution_count": 8,
   "metadata": {},
   "outputs": [],
   "source": [
    "nx.draw(t)"
   ]
  },
  {
   "cell_type": "code",
   "execution_count": null,
   "metadata": {},
   "outputs": [],
   "source": []
  }
 ],
 "metadata": {
  "kernelspec": {
   "display_name": "Python 2",
   "language": "python",
   "name": "python2"
  },
  "language_info": {
   "codemirror_mode": {
    "name": "ipython",
    "version": 2
   },
   "file_extension": ".py",
   "mimetype": "text/x-python",
   "name": "python",
   "nbconvert_exporter": "python",
   "pygments_lexer": "ipython2",
   "version": "2.7.15"
  }
 },
 "nbformat": 4,
 "nbformat_minor": 2
}
