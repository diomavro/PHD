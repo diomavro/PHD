{
 "cells": [
  {
   "cell_type": "code",
   "execution_count": 9,
   "metadata": {},
   "outputs": [
    {
     "ename": "SyntaxError",
     "evalue": "invalid syntax (<ipython-input-9-7c09494a4c28>, line 18)",
     "output_type": "error",
     "traceback": [
      "\u001b[1;36m  File \u001b[1;32m\"<ipython-input-9-7c09494a4c28>\"\u001b[1;36m, line \u001b[1;32m18\u001b[0m\n\u001b[1;33m    dc = sorted(dict(nx.degree_centrality()).items(), key = lamba x:x[1])[-5:]\u001b[0m\n\u001b[1;37m                                                                  ^\u001b[0m\n\u001b[1;31mSyntaxError\u001b[0m\u001b[1;31m:\u001b[0m invalid syntax\n"
     ]
    }
   ],
   "source": [
    "%matplotlib\n",
    "\n",
    "from pylab import *\n",
    "from matplotlib.animation import FuncAnimation\n",
    "import networkx as nx\n",
    "\n",
    "def init():\n",
    "    global g, positions\n",
    "    g = nx.read_gml('lesmis.gml')\n",
    "    for n in g.nodes:\n",
    "        g.nodes[n]['state'] = 0\n",
    "        g.nodes[n]['next'] = 0\n",
    "        \n",
    "    ### implement your own policy to remove 5 nodes!!\n",
    "    \n",
    "    \n",
    "    #g.nodes['Valjean']['state'] = 1\n",
    "    dc = sorted(dict(nx.degree_centrality()).items(), key = lamba x:x[1])[-5:]\n",
    "    for dc in dc:\n",
    "        g.remove_node.(dc[0])\n",
    "    g.nodes[choice(list(g.nodes))]['state'] = 1\n",
    "    positions = nx.spring_layout(g)\n",
    "\n",
    "pr = 0.8\n",
    "pi = 0.3\n",
    "    \n",
    "def update():\n",
    "    global g\n",
    "    for n in g.nodes:\n",
    "        if g.nodes[n]['state'] == 1:\n",
    "            g.nodes[n]['next'] = 0 if random() < pr else 1\n",
    "        else:\n",
    "            k = sum(g.nodes[b]['state'] for b in g.neighbors(n))\n",
    "            g.nodes[n]['next'] = 1 if random() < 1-(1-pi)**k else 0\n",
    "    for n in g.nodes:\n",
    "        g.nodes[n]['state'] = g.nodes[n]['next']\n",
    "    \n",
    "def init_fig():\n",
    "    global fig, viz\n",
    "    fig = figure()\n",
    "    viz = nx.draw(g, with_labels=True, pos = positions,\n",
    "                 node_color = ['g' if g.nodes[n]['state'] == 0 else 'r'\n",
    "                               for n in g.nodes])\n",
    "    \n",
    "def observe():\n",
    "    cla()\n",
    "    viz = nx.draw(g, with_labels=True, pos = positions,\n",
    "                 node_color = ['g' if g.nodes[n]['state'] == 0 else 'r'\n",
    "                               for n in g.nodes])\n",
    "    \n",
    "########################################\n",
    "init()\n",
    "init_fig()\n",
    "def step(t):\n",
    "    update()\n",
    "    observe()\n",
    "    return [viz]\n",
    "ani = FuncAnimation(fig, step, interval=0)\n",
    "show()\n",
    "# 2001 Alexander Vespignani scale free networks research"
   ]
  },
  {
   "cell_type": "code",
   "execution_count": null,
   "metadata": {},
   "outputs": [],
   "source": []
  }
 ],
 "metadata": {
  "kernelspec": {
   "display_name": "Python 2",
   "language": "python",
   "name": "python2"
  },
  "language_info": {
   "codemirror_mode": {
    "name": "ipython",
    "version": 2
   },
   "file_extension": ".py",
   "mimetype": "text/x-python",
   "name": "python",
   "nbconvert_exporter": "python",
   "pygments_lexer": "ipython2",
   "version": "2.7.15"
  }
 },
 "nbformat": 4,
 "nbformat_minor": 2
}
