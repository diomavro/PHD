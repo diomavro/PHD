{
 "cells": [
  {
   "cell_type": "markdown",
   "metadata": {},
   "source": [
    "### TITLE\n",
    "\n",
    "This document shows some introductory technique of python coding"
   ]
  },
  {
   "cell_type": "markdown",
   "metadata": {},
   "source": [
    "$f(x) = sin(x)$"
   ]
  },
  {
   "cell_type": "markdown",
   "metadata": {},
   "source": [
    "# this is my first python code"
   ]
  },
  {
   "cell_type": "code",
   "execution_count": 83,
   "metadata": {},
   "outputs": [
    {
     "data": {
      "text/plain": [
       "68"
      ]
     },
     "execution_count": 83,
     "metadata": {},
     "output_type": "execute_result"
    }
   ],
   "source": [
    "x = x + 1\n",
    "x"
   ]
  },
  {
   "cell_type": "code",
   "execution_count": 98,
   "metadata": {},
   "outputs": [
    {
     "data": {
      "text/plain": [
       "[2, 3]"
      ]
     },
     "execution_count": 98,
     "metadata": {},
     "output_type": "execute_result"
    }
   ],
   "source": [
    "x = [1,2,3,-100.5,'hello']\n",
    "x[4]= 10\n",
    "x[1:3]"
   ]
  },
  {
   "cell_type": "code",
   "execution_count": 100,
   "metadata": {},
   "outputs": [
    {
     "data": {
      "text/plain": [
       "[1, 2, 3, -100.5, 10, 8, 8]"
      ]
     },
     "execution_count": 100,
     "metadata": {},
     "output_type": "execute_result"
    }
   ],
   "source": [
    "x.append(8)\n",
    "x"
   ]
  },
  {
   "cell_type": "code",
   "execution_count": 104,
   "metadata": {},
   "outputs": [
    {
     "data": {
      "text/plain": [
       "'Hello'"
      ]
     },
     "execution_count": 104,
     "metadata": {},
     "output_type": "execute_result"
    }
   ],
   "source": [
    "\"Hello\""
   ]
  },
  {
   "cell_type": "code",
   "execution_count": 105,
   "metadata": {},
   "outputs": [
    {
     "data": {
      "text/plain": [
       "'HELLO'"
      ]
     },
     "execution_count": 105,
     "metadata": {},
     "output_type": "execute_result"
    }
   ],
   "source": [
    "_.upper()"
   ]
  },
  {
   "cell_type": "code",
   "execution_count": 106,
   "metadata": {},
   "outputs": [
    {
     "data": {
      "text/plain": [
       "['HE', '', 'O']"
      ]
     },
     "execution_count": 106,
     "metadata": {},
     "output_type": "execute_result"
    }
   ],
   "source": [
    "_.split('L')"
   ]
  },
  {
   "cell_type": "code",
   "execution_count": 107,
   "metadata": {},
   "outputs": [],
   "source": [
    "x.sort()"
   ]
  },
  {
   "cell_type": "code",
   "execution_count": 108,
   "metadata": {},
   "outputs": [
    {
     "data": {
      "text/plain": [
       "[-100.5, 2, 3, 8, 8, 10]"
      ]
     },
     "execution_count": 108,
     "metadata": {},
     "output_type": "execute_result"
    }
   ],
   "source": [
    "x"
   ]
  },
  {
   "cell_type": "code",
   "execution_count": 109,
   "metadata": {},
   "outputs": [],
   "source": [
    "y = range(1000)"
   ]
  },
  {
   "cell_type": "code",
   "execution_count": 110,
   "metadata": {},
   "outputs": [],
   "source": [
    "from pylab import *"
   ]
  },
  {
   "cell_type": "code",
   "execution_count": 112,
   "metadata": {},
   "outputs": [
    {
     "data": {
      "text/plain": [
       "[<matplotlib.lines.Line2D at 0x58c9b00>]"
      ]
     },
     "execution_count": 112,
     "metadata": {},
     "output_type": "execute_result"
    },
    {
     "data": {
      "image/png": "[encoded data removed]",
      "text/plain": [
       "<Figure size 432x288 with 1 Axes>"
      ]
     },
     "metadata": {},
     "output_type": "display_data"
    }
   ],
   "source": [
    "plot(y)"
   ]
  },
  {
   "cell_type": "code",
   "execution_count": 120,
   "metadata": {},
   "outputs": [
    {
     "data": {
      "text/plain": [
       "(array([103.,  91., 118.,  82.,  93.,  85.,  95., 100.,  93., 102.,  90.,\n",
       "         82., 117.,  90.,  96.,  96., 119., 101., 106., 100., 109., 124.,\n",
       "        109., 106.,  96., 103.,  98., 106., 107.,  89., 105., 104.,  75.,\n",
       "         97., 112., 111., 104.,  97.,  94., 113., 128., 124., 106.,  97.,\n",
       "         89., 119.,  90., 104.,  98., 110., 111.,  92.,  99.,  98., 107.,\n",
       "         86., 101.,  90.,  94.,  84., 106.,  87.,  91., 101.,  98.,  94.,\n",
       "        111.,  91.,  93.,  86., 109.,  82., 112., 108., 109., 100., 104.,\n",
       "         97.,  90., 101.,  87.,  89.,  87., 102.,  96., 104., 102., 106.,\n",
       "        113.,  99., 114.,  87., 109.,  92., 104.,  93., 107.,  86., 109.,\n",
       "         99.]),\n",
       " array([7.57815863e-05, 1.00749950e-02, 2.00742085e-02, 3.00734219e-02,\n",
       "        4.00726353e-02, 5.00718487e-02, 6.00710622e-02, 7.00702756e-02,\n",
       "        8.00694890e-02, 9.00687025e-02, 1.00067916e-01, 1.10067129e-01,\n",
       "        1.20066343e-01, 1.30065556e-01, 1.40064770e-01, 1.50063983e-01,\n",
       "        1.60063197e-01, 1.70062410e-01, 1.80061623e-01, 1.90060837e-01,\n",
       "        2.00060050e-01, 2.10059264e-01, 2.20058477e-01, 2.30057691e-01,\n",
       "        2.40056904e-01, 2.50056117e-01, 2.60055331e-01, 2.70054544e-01,\n",
       "        2.80053758e-01, 2.90052971e-01, 3.00052185e-01, 3.10051398e-01,\n",
       "        3.20050611e-01, 3.30049825e-01, 3.40049038e-01, 3.50048252e-01,\n",
       "        3.60047465e-01, 3.70046679e-01, 3.80045892e-01, 3.90045105e-01,\n",
       "        4.00044319e-01, 4.10043532e-01, 4.20042746e-01, 4.30041959e-01,\n",
       "        4.40041173e-01, 4.50040386e-01, 4.60039599e-01, 4.70038813e-01,\n",
       "        4.80038026e-01, 4.90037240e-01, 5.00036453e-01, 5.10035667e-01,\n",
       "        5.20034880e-01, 5.30034093e-01, 5.40033307e-01, 5.50032520e-01,\n",
       "        5.60031734e-01, 5.70030947e-01, 5.80030161e-01, 5.90029374e-01,\n",
       "        6.00028588e-01, 6.10027801e-01, 6.20027014e-01, 6.30026228e-01,\n",
       "        6.40025441e-01, 6.50024655e-01, 6.60023868e-01, 6.70023082e-01,\n",
       "        6.80022295e-01, 6.90021508e-01, 7.00020722e-01, 7.10019935e-01,\n",
       "        7.20019149e-01, 7.30018362e-01, 7.40017576e-01, 7.50016789e-01,\n",
       "        7.60016002e-01, 7.70015216e-01, 7.80014429e-01, 7.90013643e-01,\n",
       "        8.00012856e-01, 8.10012070e-01, 8.20011283e-01, 8.30010496e-01,\n",
       "        8.40009710e-01, 8.50008923e-01, 8.60008137e-01, 8.70007350e-01,\n",
       "        8.80006564e-01, 8.90005777e-01, 9.00004990e-01, 9.10004204e-01,\n",
       "        9.20003417e-01, 9.30002631e-01, 9.40001844e-01, 9.50001058e-01,\n",
       "        9.60000271e-01, 9.69999485e-01, 9.79998698e-01, 9.89997911e-01,\n",
       "        9.99997125e-01]),\n",
       " <a list of 100 Patch objects>)"
      ]
     },
     "execution_count": 120,
     "metadata": {},
     "output_type": "execute_result"
    },
    {
     "data": {
      "image/png": "[encoded data removed]",
      "text/plain": [
       "<Figure size 432x288 with 1 Axes>"
      ]
     },
     "metadata": {},
     "output_type": "display_data"
    }
   ],
   "source": [
    "r = uniform(0,1,10000)\n",
    "hist(r, bins = 100)"
   ]
  },
  {
   "cell_type": "code",
   "execution_count": 121,
   "metadata": {},
   "outputs": [],
   "source": [
    "d = {}"
   ]
  },
  {
   "cell_type": "code",
   "execution_count": 122,
   "metadata": {},
   "outputs": [],
   "source": [
    "d['name'] = 'Dio'\n",
    "d['job'] = 'PHD'\n",
    "d['age'] = 10"
   ]
  },
  {
   "cell_type": "code",
   "execution_count": 124,
   "metadata": {},
   "outputs": [],
   "source": [
    "d['address'] = 'Canada'"
   ]
  },
  {
   "cell_type": "code",
   "execution_count": 126,
   "metadata": {},
   "outputs": [
    {
     "data": {
      "text/plain": [
       "['age', 'job', 'name', 'address']"
      ]
     },
     "execution_count": 126,
     "metadata": {},
     "output_type": "execute_result"
    }
   ],
   "source": [
    "d.keys()"
   ]
  },
  {
   "cell_type": "code",
   "execution_count": 127,
   "metadata": {},
   "outputs": [],
   "source": [
    "t = (1,10,-2,4)"
   ]
  },
  {
   "cell_type": "code",
   "execution_count": 128,
   "metadata": {},
   "outputs": [],
   "source": [
    "A = {'a','b','c'}\n",
    "B = {'c','d','e'}"
   ]
  },
  {
   "cell_type": "code",
   "execution_count": 130,
   "metadata": {},
   "outputs": [
    {
     "data": {
      "text/plain": [
       "{'a', 'b', 'c', 'd', 'e'}"
      ]
     },
     "execution_count": 130,
     "metadata": {},
     "output_type": "execute_result"
    }
   ],
   "source": [
    "A | B"
   ]
  },
  {
   "cell_type": "code",
   "execution_count": 131,
   "metadata": {},
   "outputs": [
    {
     "name": "stdout",
     "output_type": "stream",
     "text": [
      "123\n",
      "10.0\n",
      "(10+0j)\n",
      "[1, 2, 3]\n"
     ]
    }
   ],
   "source": [
    "print int('123')\n",
    "print float(10)\n",
    "print complex(10)\n",
    "print str([1,2,3])"
   ]
  },
  {
   "cell_type": "code",
   "execution_count": 133,
   "metadata": {},
   "outputs": [
    {
     "data": {
      "text/plain": [
       "float"
      ]
     },
     "execution_count": 133,
     "metadata": {},
     "output_type": "execute_result"
    }
   ],
   "source": [
    "type(1.)"
   ]
  },
  {
   "cell_type": "code",
   "execution_count": null,
   "metadata": {},
   "outputs": [],
   "source": [
    "# list comprehension"
   ]
  },
  {
   "cell_type": "code",
   "execution_count": 134,
   "metadata": {},
   "outputs": [
    {
     "data": {
      "text/plain": [
       "[0, 1, 4, 9, 16, 25, 36, 49, 64, 81]"
      ]
     },
     "execution_count": 134,
     "metadata": {},
     "output_type": "execute_result"
    }
   ],
   "source": [
    "[x**2 for x in range(10)]"
   ]
  },
  {
   "cell_type": "code",
   "execution_count": 136,
   "metadata": {},
   "outputs": [
    {
     "data": {
      "text/plain": [
       "array([0.51601985, 0.9864907 , 0.67572987, 0.49499585, 0.36780907,\n",
       "       0.48318311, 0.80249116, 0.00829645, 0.67298159, 0.95667939,\n",
       "       0.21917874, 0.51992667, 0.7743719 , 0.39934843, 0.41167493,\n",
       "       0.06845068, 0.36375961, 0.64086753, 0.57989107, 0.63668992,\n",
       "       0.88023487, 0.53151786, 0.80374609, 0.81116756, 0.0347849 ,\n",
       "       0.36293571, 0.43867506, 0.44939056, 0.96770084, 0.47190668])"
      ]
     },
     "execution_count": 136,
     "metadata": {},
     "output_type": "execute_result"
    }
   ],
   "source": [
    "data = rand(30)\n",
    "data"
   ]
  },
  {
   "cell_type": "code",
   "execution_count": 138,
   "metadata": {},
   "outputs": [
    {
     "data": {
      "text/plain": [
       "[0.9864907036807677,\n",
       " 0.8024911591054104,\n",
       " 0.008296448675409684,\n",
       " 0.9566793940460576,\n",
       " 0.2191787373477504,\n",
       " 0.774371902224043,\n",
       " 0.06845068081353134,\n",
       " 0.8802348728485525,\n",
       " 0.803746088733504,\n",
       " 0.8111675558965346,\n",
       " 0.034784900908186644,\n",
       " 0.9677008366904869]"
      ]
     },
     "execution_count": 138,
     "metadata": {},
     "output_type": "execute_result"
    }
   ],
   "source": [
    "[x for x in data if x>0.75 or x<.25]"
   ]
  },
  {
   "cell_type": "code",
   "execution_count": 139,
   "metadata": {},
   "outputs": [
    {
     "data": {
      "text/plain": [
       "[0.0,\n",
       " 0.8414709848078965,\n",
       " 0.9092974268256817,\n",
       " 0.1411200080598672,\n",
       " -0.7568024953079282,\n",
       " -0.9589242746631385,\n",
       " -0.27941549819892586,\n",
       " 0.6569865987187891,\n",
       " 0.9893582466233818,\n",
       " 0.4121184852417566]"
      ]
     },
     "execution_count": 139,
     "metadata": {},
     "output_type": "execute_result"
    }
   ],
   "source": [
    "map(sin, range(10)) # [sin(x) for x in range (10)]"
   ]
  },
  {
   "cell_type": "code",
   "execution_count": 144,
   "metadata": {},
   "outputs": [
    {
     "name": "stdout",
     "output_type": "stream",
     "text": [
      "5\n",
      "Equal to or below 5\n"
     ]
    }
   ],
   "source": [
    "x = float(raw_input())\n",
    "if x>10:\n",
    "    print 'above 10'\n",
    "elif x>5:\n",
    "    print 'Above but below 11'\n",
    "else: \n",
    "    print 'Equal to or below 5'"
   ]
  },
  {
   "cell_type": "code",
   "execution_count": 147,
   "metadata": {},
   "outputs": [
    {
     "name": "stdout",
     "output_type": "stream",
     "text": [
      "10 100\n",
      "-10 100\n",
      "2.3 5.29\n",
      "(1+2j) (-3+4j)\n"
     ]
    }
   ],
   "source": [
    "for i in [10,-10,2.3,1+2j]:\n",
    "    j = i**2\n",
    "    print i,j"
   ]
  },
  {
   "cell_type": "code",
   "execution_count": 218,
   "metadata": {},
   "outputs": [],
   "source": [
    "def experiment() : \n",
    "    x = []\n",
    "    for i in range(100):\n",
    "        r = -1\n",
    "        c = 0\n",
    "        while r !=6:\n",
    "            r = randint(1,7)\n",
    "            c = c+1\n",
    "        c\n",
    "        x.append(c)\n",
    "    y = sum(x)/len(x)\n",
    "    return y"
   ]
  },
  {
   "cell_type": "code",
   "execution_count": 220,
   "metadata": {},
   "outputs": [],
   "source": [
    "def experiment() : \n",
    "        r = -1\n",
    "        c = 0\n",
    "        while r !=6:\n",
    "            r = randint(1,7)\n",
    "            c = c+1\n",
    "        c\n",
    "        return c"
   ]
  },
  {
   "cell_type": "code",
   "execution_count": 227,
   "metadata": {},
   "outputs": [],
   "source": [
    "#seed()\n",
    "data = [experiment() for i in xrange(100000)]"
   ]
  },
  {
   "cell_type": "code",
   "execution_count": 226,
   "metadata": {},
   "outputs": [
    {
     "data": {
      "text/plain": [
       "6.016"
      ]
     },
     "execution_count": 226,
     "metadata": {},
     "output_type": "execute_result"
    }
   ],
   "source": [
    "mean(data)"
   ]
  },
  {
   "cell_type": "code",
   "execution_count": 230,
   "metadata": {},
   "outputs": [
    {
     "data": {
      "text/plain": [
       "(array([1.6914e+04, 1.3550e+04, 0.0000e+00, 1.1552e+04, 0.0000e+00,\n",
       "        9.6360e+03, 0.0000e+00, 8.0550e+03, 6.6710e+03, 0.0000e+00,\n",
       "        5.5350e+03, 0.0000e+00, 4.6970e+03, 0.0000e+00, 3.8770e+03,\n",
       "        0.0000e+00, 3.1770e+03, 2.6060e+03, 0.0000e+00, 2.3450e+03,\n",
       "        0.0000e+00, 1.9780e+03, 0.0000e+00, 1.5340e+03, 1.3130e+03,\n",
       "        0.0000e+00, 1.1040e+03, 0.0000e+00, 8.9400e+02, 0.0000e+00,\n",
       "        7.4700e+02, 0.0000e+00, 6.3000e+02, 5.3300e+02, 0.0000e+00,\n",
       "        4.5300e+02, 0.0000e+00, 3.6800e+02, 0.0000e+00, 2.7600e+02,\n",
       "        0.0000e+00, 2.5600e+02, 2.2200e+02, 0.0000e+00, 1.7500e+02,\n",
       "        0.0000e+00, 1.4400e+02, 0.0000e+00, 1.3100e+02, 1.1400e+02,\n",
       "        0.0000e+00, 1.0500e+02, 0.0000e+00, 7.6000e+01, 0.0000e+00,\n",
       "        6.4000e+01, 0.0000e+00, 5.0000e+01, 2.6000e+01, 0.0000e+00,\n",
       "        3.9000e+01, 0.0000e+00, 2.9000e+01, 0.0000e+00, 2.0000e+01,\n",
       "        0.0000e+00, 2.1000e+01, 1.1000e+01, 0.0000e+00, 1.6000e+01,\n",
       "        0.0000e+00, 9.0000e+00, 0.0000e+00, 9.0000e+00, 9.0000e+00,\n",
       "        0.0000e+00, 8.0000e+00, 0.0000e+00, 6.0000e+00, 0.0000e+00,\n",
       "        2.0000e+00, 0.0000e+00, 1.0000e+00, 2.0000e+00, 0.0000e+00,\n",
       "        4.0000e+00, 0.0000e+00, 0.0000e+00, 0.0000e+00, 0.0000e+00,\n",
       "        0.0000e+00, 1.0000e+00, 0.0000e+00, 0.0000e+00, 1.0000e+00,\n",
       "        0.0000e+00, 3.0000e+00, 0.0000e+00, 0.0000e+00, 1.0000e+00]),\n",
       " array([ 1.  ,  1.56,  2.12,  2.68,  3.24,  3.8 ,  4.36,  4.92,  5.48,\n",
       "         6.04,  6.6 ,  7.16,  7.72,  8.28,  8.84,  9.4 ,  9.96, 10.52,\n",
       "        11.08, 11.64, 12.2 , 12.76, 13.32, 13.88, 14.44, 15.  , 15.56,\n",
       "        16.12, 16.68, 17.24, 17.8 , 18.36, 18.92, 19.48, 20.04, 20.6 ,\n",
       "        21.16, 21.72, 22.28, 22.84, 23.4 , 23.96, 24.52, 25.08, 25.64,\n",
       "        26.2 , 26.76, 27.32, 27.88, 28.44, 29.  , 29.56, 30.12, 30.68,\n",
       "        31.24, 31.8 , 32.36, 32.92, 33.48, 34.04, 34.6 , 35.16, 35.72,\n",
       "        36.28, 36.84, 37.4 , 37.96, 38.52, 39.08, 39.64, 40.2 , 40.76,\n",
       "        41.32, 41.88, 42.44, 43.  , 43.56, 44.12, 44.68, 45.24, 45.8 ,\n",
       "        46.36, 46.92, 47.48, 48.04, 48.6 , 49.16, 49.72, 50.28, 50.84,\n",
       "        51.4 , 51.96, 52.52, 53.08, 53.64, 54.2 , 54.76, 55.32, 55.88,\n",
       "        56.44, 57.  ]),\n",
       " <a list of 100 Patch objects>)"
      ]
     },
     "execution_count": 230,
     "metadata": {},
     "output_type": "execute_result"
    },
    {
     "data": {
      "image/png": "[encoded data removed]",
      "text/plain": [
       "<Figure size 432x288 with 1 Axes>"
      ]
     },
     "metadata": {},
     "output_type": "display_data"
    }
   ],
   "source": [
    "hist(data, bins = 100)"
   ]
  },
  {
   "cell_type": "code",
   "execution_count": 245,
   "metadata": {},
   "outputs": [],
   "source": [
    "def f(base=10, exponent=2):\n",
    "    return base**exponent"
   ]
  },
  {
   "cell_type": "code",
   "execution_count": 246,
   "metadata": {},
   "outputs": [
    {
     "data": {
      "text/plain": [
       "8000"
      ]
     },
     "execution_count": 246,
     "metadata": {},
     "output_type": "execute_result"
    }
   ],
   "source": [
    "f(exponent=3, base= 20)"
   ]
  },
  {
   "cell_type": "code",
   "execution_count": 251,
   "metadata": {},
   "outputs": [
    {
     "data": {
      "text/plain": [
       "[<matplotlib.lines.Line2D at 0xbffb320>]"
      ]
     },
     "execution_count": 251,
     "metadata": {},
     "output_type": "execute_result"
    },
    {
     "data": {
      "image/png": "[encoded data removed]",
      "text/plain": [
       "<Figure size 432x288 with 1 Axes>"
      ]
     },
     "metadata": {},
     "output_type": "display_data"
    }
   ],
   "source": [
    "plot(rand(100), color='b', marker = 'o')"
   ]
  },
  {
   "cell_type": "code",
   "execution_count": 252,
   "metadata": {},
   "outputs": [
    {
     "name": "stdout",
     "output_type": "stream",
     "text": [
      "Using matplotlib backend: Qt5Agg\n"
     ]
    },
    {
     "data": {
      "text/plain": [
       "[<matplotlib.lines.Line2D at 0xc445898>]"
      ]
     },
     "execution_count": 252,
     "metadata": {},
     "output_type": "execute_result"
    }
   ],
   "source": [
    "% matplotlib\n",
    "plot(rand(100), color='b', marker = 'o')"
   ]
  },
  {
   "cell_type": "code",
   "execution_count": null,
   "metadata": {},
   "outputs": [],
   "source": []
  }
 ],
 "metadata": {
  "kernelspec": {
   "display_name": "Python 2",
   "language": "python",
   "name": "python2"
  },
  "language_info": {
   "codemirror_mode": {
    "name": "ipython",
    "version": 2
   },
   "file_extension": ".py",
   "mimetype": "text/x-python",
   "name": "python",
   "nbconvert_exporter": "python",
   "pygments_lexer": "ipython2",
   "version": "2.7.15"
  }
 },
 "nbformat": 4,
 "nbformat_minor": 2
}
