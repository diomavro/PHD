{
 "cells": [
  {
   "cell_type": "code",
   "execution_count": 1,
   "metadata": {},
   "outputs": [
    {
     "ename": "WindowsError",
     "evalue": "[Error 3] Le chemin d’accès spécifié est introuvable: 'Terremoto/*.*'",
     "output_type": "error",
     "traceback": [
      "\u001b[1;31m\u001b[0m",
      "\u001b[1;31mWindowsError\u001b[0mTraceback (most recent call last)",
      "\u001b[1;32m<ipython-input-1-e3142f1a61bb>\u001b[0m in \u001b[0;36m<module>\u001b[1;34m()\u001b[0m\n\u001b[0;32m     16\u001b[0m \u001b[0mpath\u001b[0m\u001b[1;33m=\u001b[0m\u001b[1;34m\"Terremoto/\"\u001b[0m\u001b[1;33m\u001b[0m\u001b[0m\n\u001b[0;32m     17\u001b[0m \u001b[0mts\u001b[0m\u001b[1;33m=\u001b[0m\u001b[0mdict\u001b[0m\u001b[1;33m(\u001b[0m\u001b[1;33m)\u001b[0m\u001b[1;33m\u001b[0m\u001b[0m\n\u001b[1;32m---> 18\u001b[1;33m \u001b[1;32mfor\u001b[0m \u001b[0mfname\u001b[0m \u001b[1;32min\u001b[0m \u001b[0mos\u001b[0m\u001b[1;33m.\u001b[0m\u001b[0mlistdir\u001b[0m\u001b[1;33m(\u001b[0m\u001b[0mpath\u001b[0m\u001b[1;33m)\u001b[0m\u001b[1;33m:\u001b[0m\u001b[1;33m\u001b[0m\u001b[0m\n\u001b[0m\u001b[0;32m     19\u001b[0m         \u001b[1;32mprint\u001b[0m \u001b[0mfname\u001b[0m\u001b[1;33m\u001b[0m\u001b[0m\n\u001b[0;32m     20\u001b[0m         \u001b[1;32mif\u001b[0m \u001b[1;34m\"geo\"\u001b[0m \u001b[1;32mnot\u001b[0m \u001b[1;32min\u001b[0m \u001b[0mfname\u001b[0m\u001b[1;33m:\u001b[0m\u001b[1;33m\u001b[0m\u001b[0m\n",
      "\u001b[1;31mWindowsError\u001b[0m: [Error 3] Le chemin d’accès spécifié est introuvable: 'Terremoto/*.*'"
     ]
    }
   ],
   "source": [
    "import os\n",
    "import datetime\n",
    "import matplotlib.pyplot as pl\n",
    "import json\n",
    "import pandas as pd\n",
    "\n",
    "def GetChileanEarthquakes():\n",
    "\tchilean_earthquakes=pd.read_csv('chilean_earthquakes.csv')\n",
    "\tchilean_earthquakes_dict=dict()\n",
    "\tfor i in range(len(chilean_earthquakes['date'])):\n",
    "\t\td=chilean_earthquakes['date'][i]\n",
    "\t\tm=chilean_earthquakes['magnitude'][i]\n",
    "\t\tchilean_earthquakes_dict[datetime.datetime.strptime(d,\"%m/%d/%Y %I:%M:%S %p\")]=m\n",
    "\treturn chilean_earthquakes_dict\n",
    "\n",
    "path=\"Terremoto/\"\n",
    "ts=dict()\n",
    "for fname in os.listdir(path):\n",
    "\tprint fname\n",
    "\tif \"geo\" not in fname:\n",
    "\t\tcontinue\n",
    "\tf=open(path+fname,\"r\")\n",
    "\ttweets = json.loads(f.read())\n",
    "\tfor tweet in tweets:\n",
    "\t\tcreated_at = datetime.datetime.strptime(tweet['created_at'][4:],\"%b %d %H:%M:%S +0000 %Y\")\n",
    "\t\tcreated_at = created_at + datetime.timedelta(hours=-4)\n",
    "\t\tcreated_at = datetime.datetime(created_at.year,created_at.month,created_at.day,created_at.hour)\n",
    "\t\tif created_at not in ts:\n",
    "\t\t\tts[created_at]=0\n",
    "\t\tts[created_at]+=1\n",
    "datesplot,ts_values=zip(*sorted(ts.items()))\n",
    "print datesplot,ts_values\n",
    "\n",
    "pl.figure(figsize=(12,10))\n",
    "magnitudes=GetChileanEarthquakes().values()\n",
    "for date, mag in GetChileanEarthquakes().items():\n",
    "\tpl.axvline(x=date-datetime.timedelta(minutes=date.minute)-datetime.timedelta(seconds=date.second),color=pl.cm.gray(0.7),\n",
    "\tlinewidth= 2*(mag-min(magnitudes))/(max(magnitudes)-min(magnitudes)))#(mag-min(magnitudes)/(max(magnitudes)-min(magnitudes))))\n",
    "\n",
    "pl.plot(datesplot,ts_values,lw=3)\n",
    "pl.show()\n",
    "\n"
   ]
  },
  {
   "cell_type": "code",
   "execution_count": null,
   "metadata": {},
   "outputs": [],
   "source": []
  }
 ],
 "metadata": {
  "kernelspec": {
   "display_name": "Python 2",
   "language": "python",
   "name": "python2"
  }
 },
 "nbformat": 4,
 "nbformat_minor": 2
}
