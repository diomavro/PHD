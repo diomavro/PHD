{
 "cells": [
  {
   "cell_type": "code",
   "execution_count": 11,
   "metadata": {},
   "outputs": [
    {
     "name": "stdout",
     "output_type": "stream",
     "text": [
      "Using matplotlib backend: Qt5Agg\n"
     ]
    }
   ],
   "source": [
    "% matplotlib\n",
    "\n",
    "from pylab import *\n",
    "from matplotlib.animation import FuncAnimation\n",
    "\n",
    "class human:\n",
    "    def _init_(self):\n",
    "        self.name = ''\n",
    "        self.age = 0\n",
    "        self.energy = 100\n",
    "    def get_old(self):\n",
    "        self.age += 1\n",
    "    def eat(self):\n",
    "        self.energy += 10\n",
    "    def study(self):\n",
    "        self.energy -= 30\n",
    "    #name\n",
    "    #age\n",
    "    #height\n",
    "    #eat\n",
    "    \n",
    "dt = 1\n",
    "class animal:\n",
    "    def __init__(self):\n",
    "        self.x = array([normal(0,1),normal(0,1)])\n",
    "        self.v = array([normal(0,1),normal(0,1)])\n",
    "        self.type = coice([0,1])\n",
    "    def accelerate(self):\n",
    "        '''\n",
    "        if random () <  0.2:\n",
    "            self.v = array([normal(0.,0.01),normal(0.,0.01)])\n",
    "        else:\n",
    "            self.v *= 1.01\n",
    "        '''\n",
    "        neighbors = [b for b in agents\\\n",
    "                     if b != self and b.type == self.type and norm(self.x - b.x)\n",
    "        for b in neighbors:\n",
    "            d =  b.x - self.x\n",
    "            self.v += 0.0001*d/ (norm(d))\n",
    "        enemies =   neighbhors = [b for b in agents if b != self and norm(self.x - b.x) < 0.01 and b.species != self.species]\n",
    "        for b in enemies:\n",
    "            d =  self.x - b.x \n",
    "            self.v += 0.0001*d/ (norm(d))\n",
    "    \n",
    "        \n",
    "    def move(self):\n",
    "        self.x += self.v * dt\n",
    "        \n",
    "\n",
    "def init():\n",
    "    global agents\n",
    "    agents = [animal() for i in range(100)]\n",
    "    \n",
    "def update():\n",
    "    for a in agents:\n",
    "        a.accelerate()\n",
    "    for a in agents:\n",
    "        a.move()\n",
    "\n",
    "def init_fig():\n",
    "    global fig, viz1, viz2\n",
    "    fig = figure()\n",
    "    viz0 = plot([a.x[0]  for a in agents if a.type == 0], [a.x[1] for a in agents if a.type == 0], 'bo')[0]\n",
    "    viz1 = plot([a.x[0]  for a in agents if a.type == 1], [a.x[1] for a in agents if a.type == 1], 'ro')[0]                 \n",
    "\n",
    "def observe():\n",
    "    viz0.set_data([a.x[0] for a in agents if a.type == 0], [a.x[1] for a in agents if a.type == 0])\n",
    "    viz1.set_data([a.x[0] for a in agents if a.type == 0], [a.x[1] for a in agents if a.type == 0])\n",
    "\n",
    "########################################\n",
    "init()\n",
    "init_fig()\n",
    "def step(t):\n",
    "    update()\n",
    "    observe()\n",
    "    return [viz]\n",
    "ani = FuncAnimation(fig, step, interval=0, blit=True)\n",
    "show()\n"
   ]
  },
  {
   "cell_type": "code",
   "execution_count": null,
   "metadata": {},
   "outputs": [],
   "source": []
  },
  {
   "cell_type": "code",
   "execution_count": null,
   "metadata": {},
   "outputs": [],
   "source": []
  }
 ],
 "metadata": {
  "kernelspec": {
   "display_name": "Python 2",
   "language": "python",
   "name": "python2"
  },
  "language_info": {
   "codemirror_mode": {
    "name": "ipython",
    "version": 2
   },
   "file_extension": ".py",
   "mimetype": "text/x-python",
   "name": "python",
   "nbconvert_exporter": "python",
   "pygments_lexer": "ipython2",
   "version": "2.7.15"
  }
 },
 "nbformat": 4,
 "nbformat_minor": 2
}
