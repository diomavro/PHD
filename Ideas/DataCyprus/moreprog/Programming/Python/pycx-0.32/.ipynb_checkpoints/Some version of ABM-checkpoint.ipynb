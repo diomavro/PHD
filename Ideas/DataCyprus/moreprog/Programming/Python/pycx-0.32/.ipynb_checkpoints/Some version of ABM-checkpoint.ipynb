{
 "cells": [
  {
   "cell_type": "code",
   "execution_count": 23,
   "metadata": {},
   "outputs": [],
   "source": [
    "from pylab import *"
   ]
  },
  {
   "cell_type": "code",
   "execution_count": 31,
   "metadata": {},
   "outputs": [],
   "source": [
    "class human:\n",
    "    def _init_(self):\n",
    "        self.name = ''\n",
    "        self.age = 0\n",
    "        self.energy = 100\n",
    "    def get_old(self):\n",
    "        self.age += 1\n",
    "    def eat(self):\n",
    "        self.energy += 10\n",
    "    def study(self):\n",
    "        self.energy -= 30\n",
    "    #name\n",
    "    #age\n",
    "    #height\n",
    "    #eat\n",
    "class animal:\n",
    "    def __init__(self):\n",
    "        self.x = array([normal(0,1),normal(0,1)])\n",
    "        self.v = array([normal(0,1),normal(0,1)])\n",
    "    def accelerate(self):\n",
    "        if random () <  0.2:\n",
    "            self.v = array([normal(0.,0.01),normal(0.,0.01)])\n",
    "        else:\n",
    "            self.v *= 1.01\n",
    "    def move(self):\n",
    "        self.x += self.v * dt"
   ]
  },
  {
   "cell_type": "code",
   "execution_count": 32,
   "metadata": {},
   "outputs": [],
   "source": [
    "def init():\n",
    "    global agents\n",
    "    agents = [animal() for i in range(1000)]\n",
    "def update():\n",
    "    for a in agents:\n",
    "        a.accelerate()\n",
    "    for a in agents:\n",
    "        a.move\n",
    "def observe():\n",
    "    plot([a.x[0] for a in agents], [a.x[1] for a in agents],'bo')"
   ]
  },
  {
   "cell_type": "code",
   "execution_count": 34,
   "metadata": {},
   "outputs": [
    {
     "data": {
      "image/png": "[encoded data removed]",
      "text/plain": [
       "<Figure size 432x288 with 1 Axes>"
      ]
     },
     "metadata": {},
     "output_type": "display_data"
    }
   ],
   "source": [
    "init()\n",
    "for t in range(10):\n",
    "    update()\n",
    "observe()\n",
    "show()"
   ]
  },
  {
   "cell_type": "code",
   "execution_count": 21,
   "metadata": {},
   "outputs": [],
   "source": [
    "a = human()"
   ]
  },
  {
   "cell_type": "code",
   "execution_count": 17,
   "metadata": {},
   "outputs": [],
   "source": [
    "a.name = 'John'\n",
    "a.age = 0"
   ]
  },
  {
   "cell_type": "code",
   "execution_count": 18,
   "metadata": {},
   "outputs": [],
   "source": [
    "a.get_old()"
   ]
  },
  {
   "cell_type": "code",
   "execution_count": 19,
   "metadata": {},
   "outputs": [
    {
     "data": {
      "text/plain": [
       "1"
      ]
     },
     "execution_count": 19,
     "metadata": {},
     "output_type": "execute_result"
    }
   ],
   "source": [
    "a.age"
   ]
  },
  {
   "cell_type": "code",
   "execution_count": null,
   "metadata": {},
   "outputs": [],
   "source": []
  }
 ],
 "metadata": {
  "kernelspec": {
   "display_name": "Python 2",
   "language": "python",
   "name": "python2"
  },
  "language_info": {
   "codemirror_mode": {
    "name": "ipython",
    "version": 2
   },
   "file_extension": ".py",
   "mimetype": "text/x-python",
   "name": "python",
   "nbconvert_exporter": "python",
   "pygments_lexer": "ipython2",
   "version": "2.7.15"
  }
 },
 "nbformat": 4,
 "nbformat_minor": 2
}
