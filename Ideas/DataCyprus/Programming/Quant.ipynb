{
 "cells": [
  {
   "cell_type": "code",
   "execution_count": 1,
   "metadata": {},
   "outputs": [],
   "source": [
    "import pandas as pd\n",
    "import os\n",
    "import shutil #for 2C\n",
    "from openpyxl import load_workbook #for 2C\n",
    "import statistics as stats\n",
    "from scipy.stats import mode"
   ]
  },
  {
   "cell_type": "code",
   "execution_count": 2,
   "metadata": {},
   "outputs": [
    {
     "data": {
      "text/plain": [
       "['20160914-tptversion4.xls',\n",
       " 'edited.xlsx',\n",
       " 'Programming Exercise.pdf',\n",
       " 'Programming Exercise.rar',\n",
       " 'Python Installation Guide.pdf',\n",
       " 'Sample TPT V3 Report.xlsx']"
      ]
     },
     "execution_count": 2,
     "metadata": {},
     "output_type": "execute_result"
    }
   ],
   "source": [
    "os.chdir('C:\\\\Users\\\\DavidEttinger02\\\\Desktop\\\\Programming\\\\main')\n",
    "os.getcwd()\n",
    "os.listdir('.')"
   ]
  },
  {
   "cell_type": "code",
   "execution_count": 5,
   "metadata": {},
   "outputs": [],
   "source": [
    "excel_file = 'Sample TPT V3 Report.xlsx'\n",
    "\n",
    "assignment = pd.read_excel(excel_file)\n",
    "sheet = pd.read_excel(excel_file, sheet_name=0)\n",
    "\n",
    "sheet.head()\n",
    "shape = sheet.shape\n",
    "totalrows = shape[0]"
   ]
  },
  {
   "cell_type": "code",
   "execution_count": 6,
   "metadata": {},
   "outputs": [
    {
     "name": "stdout",
     "output_type": "stream",
     "text": [
      "The total worth of the assets is: 100000000.0\n",
      "The total number of shares: 1335776.5642484326\n",
      "The value of the portofolio in CHF using the existing conversion rate is: 97421145.58230323\n"
     ]
    }
   ],
   "source": [
    "def cal_average(num):\n",
    "    sum_num = 0\n",
    "    for t in num:\n",
    "        sum_num = sum_num + t           \n",
    "\n",
    "    avg = sum_num / len(num)\n",
    "    return avg\n",
    "\n",
    "#Task 1 A\n",
    "totalnetassets = sheet['28_Position-Valuation-MarketExposurePC'].sum()\n",
    "shareprice = sheet['8_Portfolio-ShareClass-SharePrice'].mean()\n",
    "numberofshares = totalnetassets/shareprice\n",
    "\n",
    "print('The total worth of the assets is:', totalnetassets)\n",
    "print('The total number of shares:', numberofshares)\n",
    "\n",
    "#Task 1 B\n",
    "currencycolumn = sheet['21_Position-Valuation-QuotationCurrency']\n",
    "#create lists of currency rows for USD and CHF\n",
    "cellswithchf = 0\n",
    "cellswithusd = 0\n",
    "rowswithchf = []\n",
    "rowswithusd = []\n",
    "track = 0\n",
    "for x in currencycolumn:\n",
    "    track = track + 1\n",
    "    if x == 'CHF':\n",
    "        cellswithchf = cellswithchf + 1\n",
    "        rowswithchf.append(track+1)\n",
    "    elif x == 'USD':\n",
    "        cellswithusd = cellswithusd + 1\n",
    "        rowswithusd.append(track+1)        \n",
    "#create lists of currency rows for calculate the average conversion rate\n",
    "unconvertedcolumn = sheet['27_Position-Valuation-MarketExposureQC']\n",
    "convertedcolumn = sheet['28_Position-Valuation-MarketExposurePC']\n",
    "conversionratevector = []\n",
    "assetsinchf = 0\n",
    "for x in rowswithchf: \n",
    "    conversionratevector.append(unconvertedcolumn.loc[x-2]/convertedcolumn.loc[x-2])\n",
    "    assetsinchf = assetsinchf + convertedcolumn[x-2]     #this is going to be useful for task 2B\n",
    "conversionrate = cal_average(conversionratevector)\n",
    "#Now we need only multiply the sum of net assets by the average conversion rate\n",
    "totalnetassetschf = totalnetassets*conversionrate\n",
    "\n",
    "print('The value of the portofolio in CHF using the existing conversion rate is:', totalnetassetschf)"
   ]
  },
  {
   "cell_type": "code",
   "execution_count": 6,
   "metadata": {},
   "outputs": [],
   "source": [
    "#Task 2 A\n",
    "typecolumn = sheet['12_Position-InstrumentCIC']\n",
    "rowswithcash = []\n",
    "track = 0\n",
    "totalcash = 0\n",
    "for x in typecolumn:\n",
    "    track = track + 1\n",
    "    if x == 'XT71':\n",
    "        rowswithcash.append(track+1)\n",
    "for x in rowswithcash:\n",
    "    totalcash = totalcash + convertedcolumn[x-2]\n",
    "    \n",
    "print('The total cash held is:', totalcash)\n",
    "#Task 2 B\n",
    "#see line 37\n",
    "proportionindollars = 1- assetsinchf/totalnetassets\n",
    "\n",
    "print('The proportion of the portofolio which is in cash assets is:' ,proportionindollars)\n",
    "#Task 2 C\n",
    "secondfile ='edited.xlsx'\n",
    "shutil.copy(\"Sample TPT V3 Report.xlsx\", \"edited.xlsx\")\n",
    "\n",
    "edited = load_workbook(filename=\"edited.xlsx\")\n",
    "editedsheet = edited.active\n",
    "# write on the edited file\n",
    "for x in range(0,totalrows):\n",
    "    editedsheet[\"J\" + str(x+2)] = totalcash/totalnetassets\n",
    "\n",
    "# Save\n",
    "edited.save(filename=\"edited.xlsx\")"
   ]
  },
  {
   "cell_type": "code",
   "execution_count": 12,
   "metadata": {},
   "outputs": [
    {
     "name": "stdout",
     "output_type": "stream",
     "text": [
      "The code of the items which will expire the latest is ['US5323288452', 'XT8859198975', 'US7540757002', 'US4611944948', 'US9975567215', 'US1125942313', 'US9316268453', 'US9873766448', 'US7088118282', 'US9351876809']\n",
      "The code of the items which are sorted strange is:\n",
      "158    US7031008702\n",
      "105    US1669654478\n",
      "69     US9918217354\n",
      "58     US9378091375\n",
      "159    US7109224080\n",
      "53     US1815859666\n",
      "45     US6964683352\n",
      "98     US6152997718\n",
      "75     US1227077650\n",
      "107    US6230471524\n",
      "Name: 14_Position-InstrumentCode-Code, dtype: object\n"
     ]
    }
   ],
   "source": [
    "#Task 3 A\n",
    "\n",
    "sortedsheet =sheet.sort_values('39_Position-IntRateInst-Redemption-MaturityDate',ascending=False)\n",
    "codeofsorted = sortedsheet['14_Position-InstrumentCode-Code']\n",
    "first10 = []\n",
    "for x in range(0,10):\n",
    "    first10.append(codeofsorted[x])\n",
    "print('The code of the items which will expire the latest is', first10)    \n",
    "\n",
    "\n",
    "#Task 3 B\n",
    "sortedsheet = sortedsheet[(pd.notnull(sortedsheet['39_Position-IntRateInst-Redemption-MaturityDate']))]\n",
    "sortedsheet2=sortedsheet.assign(datenumber = lambda x: sortedsheet['39_Position-IntRateInst-Redemption-MaturityDate'] )\n",
    "\n",
    "for i, row in sortedsheet2.iterrows():\n",
    "    holder = row['39_Position-IntRateInst-Redemption-MaturityDate']\n",
    "    number = int(str(holder)[:4])*1000- int(str(holder)[5:7])*100 + int(str(holder)[8:10])\n",
    "    sortedsheet2.at[i,'datenumber'] = number\n",
    "sortedsheet3 = sortedsheet2.sort_values('datenumber',ascending=False)\n",
    "\n",
    "codeofsorted3 = sortedsheet3['14_Position-InstrumentCode-Code']\n",
    "print('The code of the 10 items which are sorted strange is:') #different method than above\n",
    "print(codeofsorted3[:10])"
   ]
  },
  {
   "cell_type": "code",
   "execution_count": 107,
   "metadata": {},
   "outputs": [
    {
     "name": "stdout",
     "output_type": "stream",
     "text": [
      "The mean is: 29481.552414366484\n",
      "The stdev is: 36860.30840808937\n",
      "The mode is: ModeResult(mode=array([154.69082522]), count=array([1]))\n",
      "The 0.05, 0.1,0.25,.75,.90,.95 quantiles are, respectively: [1365.02587039482, 2772.10459906838, 6272.80809086041, 32029.5150354677, 76599.73263306642, 124426.53702987099]\n",
      "The mean is: -14260.880136830097\n",
      "The stdev is: 19932.921748143322\n",
      "The mode is: ModeResult(mode=array([-93613.59602982]), count=array([1]))\n",
      "The 0.05, 0.1,0.25,.75,.90,.95 quantiles are, respectively: [-70044.13662248512, -38684.265206618635, -13784.6062804529, -2716.788862088185, -1193.1075465940398, -596.6644580467873]\n"
     ]
    }
   ],
   "source": [
    "#Task 4 A\n",
    "\n",
    "up = sortedsheet['97_Position-ContributionToSCR-MktIntUp']\n",
    "down = sortedsheet['98_Position-ContributionToSCR-MktintDown']\n",
    "\n",
    "def comquant(vector):\n",
    "    quantiles = []\n",
    "    value = vector.quantile(0.05)\n",
    "    quantiles.append(value)\n",
    "    value = vector.quantile(0.1)\n",
    "    quantiles.append(value)\n",
    "    value = vector.quantile(0.25)\n",
    "    quantiles.append(value)\n",
    "    value = vector.quantile(0.75)\n",
    "    quantiles.append(value)\n",
    "    value = vector.quantile(0.90)\n",
    "    quantiles.append(value)\n",
    "    value = vector.quantile(0.95)\n",
    "    quantiles.append(value)\n",
    "    return quantiles\n",
    "\n",
    "def present(vector):\n",
    "    print('The mean is:' ,stats.mean(vector))\n",
    "    print('The stdev is:', stats.stdev(vector))\n",
    "    print('The mode is:', mode(vector) )\n",
    "    print('The 0.05, 0.1,0.25,.75,.90,.95 quantiles are, respectively:', comquant(vector))\n",
    "\n",
    "    \n",
    "present(up)\n",
    "present(down)\n",
    "\n"
   ]
  },
  {
   "cell_type": "code",
   "execution_count": 101,
   "metadata": {},
   "outputs": [],
   "source": [
    "#Task 5 \n",
    "\n",
    "for x in range(0,totalrows):\n",
    "    editedsheet[\"E\" + str(x+2)] = totalnetassets\n",
    "    editedsheet[\"I\" + str(x+2)] = numberofshares   \n",
    "    editedsheet[\"J\" + str(x+2)] = totalcash/totalnetassets\n",
    "\n",
    "# Save\n",
    "edited.save(filename=\"edited.xlsx\")"
   ]
  },
  {
   "cell_type": "code",
   "execution_count": 96,
   "metadata": {},
   "outputs": [],
   "source": []
  },
  {
   "cell_type": "code",
   "execution_count": null,
   "metadata": {},
   "outputs": [],
   "source": []
  }
 ],
 "metadata": {
  "kernelspec": {
   "display_name": "Python 3",
   "language": "python",
   "name": "python3"
  },
  "language_info": {
   "codemirror_mode": {
    "name": "ipython",
    "version": 3
   },
   "file_extension": ".py",
   "mimetype": "text/x-python",
   "name": "python",
   "nbconvert_exporter": "python",
   "pygments_lexer": "ipython3",
   "version": "3.8.8"
  }
 },
 "nbformat": 4,
 "nbformat_minor": 2
}
