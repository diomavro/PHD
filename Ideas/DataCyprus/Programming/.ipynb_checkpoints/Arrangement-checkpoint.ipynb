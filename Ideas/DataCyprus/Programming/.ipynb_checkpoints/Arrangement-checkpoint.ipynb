{
 "cells": [
  {
   "cell_type": "code",
   "execution_count": 60,
   "id": "24d23459",
   "metadata": {},
   "outputs": [
    {
     "name": "stdout",
     "output_type": "stream",
     "text": [
      "square\n",
      "triangle\n",
      "cross\n",
      "circle\n"
     ]
    }
   ],
   "source": [
    "\n",
    "# try block to handle the exception\n",
    "try:\n",
    "    mylist = []\n",
    "     \n",
    "    for x in range(4):\n",
    "        mylist.append(str(input()))\n",
    "         \n",
    "# if the input is not-integer, just print the list\n",
    "except:\n",
    "    print(my_list)\n",
    "\n",
    "def newinput(inputlist):\n",
    "    neworder = []\n",
    "    newlist = []\n",
    "    for x in range(4):\n",
    "        neworder.append(int(input()))\n",
    "    for x in neworder:\n",
    "        newlist.append(inputlist[x-1])\n",
    "    return newlist "
   ]
  },
  {
   "cell_type": "code",
   "execution_count": 62,
   "id": "2f1bcfa1",
   "metadata": {},
   "outputs": [
    {
     "name": "stdout",
     "output_type": "stream",
     "text": [
      "3\n",
      "2\n",
      "4\n",
      "1\n"
     ]
    },
    {
     "data": {
      "text/plain": [
       "['cross', 'triangle', 'circle', 'square']"
      ]
     },
     "execution_count": 62,
     "metadata": {},
     "output_type": "execute_result"
    }
   ],
   "source": [
    "mylist2 = newinput(mylist)\n",
    "mylist2"
   ]
  },
  {
   "cell_type": "code",
   "execution_count": null,
   "id": "bc63c612",
   "metadata": {},
   "outputs": [],
   "source": [
    "mylist3 = newinput(mylist2)\n",
    "mylist3"
   ]
  },
  {
   "cell_type": "code",
   "execution_count": null,
   "id": "1ba21b92",
   "metadata": {},
   "outputs": [],
   "source": [
    "mylist4 = newinput(mylist3)\n",
    "mylist4"
   ]
  },
  {
   "cell_type": "code",
   "execution_count": 50,
   "id": "20956bef",
   "metadata": {},
   "outputs": [
    {
     "data": {
      "text/plain": [
       "['square',\n",
       " 'triangle',\n",
       " 'cross',\n",
       " 'circle',\n",
       " 'square',\n",
       " 'triangle',\n",
       " 'cross',\n",
       " 'circle']"
      ]
     },
     "execution_count": 50,
     "metadata": {},
     "output_type": "execute_result"
    }
   ],
   "source": [
    "try:\n",
    "    outputlist = []\n",
    "     \n",
    "    for x in range(4):\n",
    "        outputlist.append(str(input()))\n",
    "         \n",
    "# if the input is not-integer, just print the list\n",
    "except:\n",
    "    print(my_list)\n",
    "    \n",
    "def findcode():\n",
    "    neworder = []\n",
    "    newlist = []\n",
    "    for x in range(4):\n",
    "        neworder.append(int(input()))\n",
    "    for x in neworder:\n",
    "        newlist.append(mylist[x-1])\n",
    "    return newlist "
   ]
  },
  {
   "cell_type": "code",
   "execution_count": 30,
   "id": "59bd3fcb",
   "metadata": {},
   "outputs": [
    {
     "name": "stdout",
     "output_type": "stream",
     "text": [
      "2\n",
      "3\n",
      "1\n",
      "4\n"
     ]
    },
    {
     "data": {
      "text/plain": [
       "['square', 'triangle', 'cross', 'circle']"
      ]
     },
     "execution_count": 30,
     "metadata": {},
     "output_type": "execute_result"
    }
   ],
   "source": [
    "# First number input\n",
    "try:\n",
    "    neworder = []\n",
    "     \n",
    "    for x in range(4):\n",
    "        neworder.append(int(input()))\n",
    "         \n",
    "# if the input is not-integer, just print the list\n",
    "except:\n",
    "    print(my_list)\n",
    "    \n",
    "newlist = []\n",
    "for x in neworder:\n",
    "    newlist.append(mylist[x-1])\n",
    "newlist"
   ]
  },
  {
   "cell_type": "code",
   "execution_count": 31,
   "id": "06e0a11e",
   "metadata": {},
   "outputs": [
    {
     "name": "stdout",
     "output_type": "stream",
     "text": [
      "2\n",
      "3\n",
      "4\n",
      "1\n"
     ]
    },
    {
     "data": {
      "text/plain": [
       "['triangle', 'cross', 'circle', 'square']"
      ]
     },
     "execution_count": 31,
     "metadata": {},
     "output_type": "execute_result"
    }
   ],
   "source": [
    "# Second number input\n",
    "try:\n",
    "    neworder2 = []\n",
    "     \n",
    "    for x in range(4):\n",
    "        neworder2.append(int(input()))\n",
    "         \n",
    "# if the input is not-integer, just print the list\n",
    "except:\n",
    "    print(my_list)\n",
    "    \n",
    "newlist2 = []\n",
    "for x in neworder2:\n",
    "    newlist2.append(newlist[x-1])\n",
    "newlist2"
   ]
  },
  {
   "cell_type": "code",
   "execution_count": 26,
   "id": "fe11342b",
   "metadata": {},
   "outputs": [
    {
     "data": {
      "text/plain": [
       "['square', 'triangle', 'cricle', 'cross']"
      ]
     },
     "execution_count": 26,
     "metadata": {},
     "output_type": "execute_result"
    }
   ],
   "source": [
    "# Third number input\n",
    "try:\n",
    "    neworder3 = []\n",
    "     \n",
    "    for x in range(4):\n",
    "        neworder3.append(int(input()))\n",
    "         \n",
    "# if the input is not-integer, just print the list\n",
    "except:\n",
    "    print(my_list)\n",
    "    \n",
    "newlist3 = []\n",
    "for x in neworder3:\n",
    "    newlist3.append(newlist2[x-1])\n",
    "newlist3"
   ]
  },
  {
   "cell_type": "code",
   "execution_count": 19,
   "id": "f8666342",
   "metadata": {},
   "outputs": [
    {
     "data": {
      "text/plain": [
       "[]"
      ]
     },
     "execution_count": 19,
     "metadata": {},
     "output_type": "execute_result"
    }
   ],
   "source": [
    "newlist2"
   ]
  },
  {
   "cell_type": "code",
   "execution_count": null,
   "id": "aeedc720",
   "metadata": {},
   "outputs": [],
   "source": []
  }
 ],
 "metadata": {
  "kernelspec": {
   "display_name": "Python 3",
   "language": "python",
   "name": "python3"
  },
  "language_info": {
   "codemirror_mode": {
    "name": "ipython",
    "version": 3
   },
   "file_extension": ".py",
   "mimetype": "text/x-python",
   "name": "python",
   "nbconvert_exporter": "python",
   "pygments_lexer": "ipython3",
   "version": "3.8.8"
  }
 },
 "nbformat": 4,
 "nbformat_minor": 5
}
