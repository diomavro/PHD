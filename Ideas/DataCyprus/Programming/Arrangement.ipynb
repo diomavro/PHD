{
 "cells": [
  {
   "cell_type": "code",
   "execution_count": 92,
   "id": "c6deda0a",
   "metadata": {},
   "outputs": [
    {
     "name": "stdout",
     "output_type": "stream",
     "text": [
      "circle\n",
      "square\n",
      "triangle\n",
      "cross\n"
     ]
    }
   ],
   "source": [
    "\n",
    "# try block to handle the exception\n",
    "try:\n",
    "    mylist = []\n",
    "     \n",
    "    for x in range(4):\n",
    "        mylist.append(str(input()))\n",
    "         \n",
    "# if the input is not-integer, just print the list\n",
    "except:\n",
    "    print(my_list)\n",
    "\n",
    "def newinput(inputlist):\n",
    "    neworder = []\n",
    "    newlist = []\n",
    "    for x in range(4):\n",
    "        neworder.append(int(input()))\n",
    "    for x in neworder:\n",
    "        newlist.append(inputlist[x-1])\n",
    "    return newlist "
   ]
  },
  {
   "cell_type": "code",
   "execution_count": 93,
   "id": "f8a94e5c",
   "metadata": {},
   "outputs": [
    {
     "name": "stdout",
     "output_type": "stream",
     "text": [
      "2\n",
      "1\n",
      "3\n",
      "4\n"
     ]
    },
    {
     "data": {
      "text/plain": [
       "['square', 'circle', 'triangle', 'cross']"
      ]
     },
     "execution_count": 93,
     "metadata": {},
     "output_type": "execute_result"
    }
   ],
   "source": [
    "mylist2 = newinput(mylist)\n",
    "mylist2"
   ]
  },
  {
   "cell_type": "code",
   "execution_count": 94,
   "id": "b1f5dd1d",
   "metadata": {},
   "outputs": [
    {
     "name": "stdout",
     "output_type": "stream",
     "text": [
      "1\n",
      "4\n",
      "3\n",
      "2\n"
     ]
    },
    {
     "data": {
      "text/plain": [
       "['square', 'cross', 'triangle', 'circle']"
      ]
     },
     "execution_count": 94,
     "metadata": {},
     "output_type": "execute_result"
    }
   ],
   "source": [
    "mylist3 = newinput(mylist2)\n",
    "mylist3"
   ]
  },
  {
   "cell_type": "code",
   "execution_count": 95,
   "id": "a8c312b6",
   "metadata": {},
   "outputs": [
    {
     "name": "stdout",
     "output_type": "stream",
     "text": [
      "1\n",
      "4\n",
      "3\n",
      "2\n"
     ]
    },
    {
     "data": {
      "text/plain": [
       "['square', 'circle', 'triangle', 'cross']"
      ]
     },
     "execution_count": 95,
     "metadata": {},
     "output_type": "execute_result"
    }
   ],
   "source": [
    "mylist4 = newinput(mylist3)\n",
    "mylist4"
   ]
  },
  {
   "cell_type": "code",
   "execution_count": 50,
   "id": "a64f539c",
   "metadata": {},
   "outputs": [
    {
     "data": {
      "text/plain": [
       "['square',\n",
       " 'triangle',\n",
       " 'cross',\n",
       " 'circle',\n",
       " 'square',\n",
       " 'triangle',\n",
       " 'cross',\n",
       " 'circle']"
      ]
     },
     "execution_count": 50,
     "metadata": {},
     "output_type": "execute_result"
    }
   ],
   "source": [
    "try:\n",
    "    outputlist = []\n",
    "     \n",
    "    for x in range(4):\n",
    "        outputlist.append(str(input()))\n",
    "         \n",
    "# if the input is not-integer, just print the list\n",
    "except:\n",
    "    print(my_list)\n",
    "    \n",
    "def findcode():\n",
    "    neworder = []\n",
    "    newlist = []\n",
    "    for x in range(4):\n",
    "        neworder.append(int(input()))\n",
    "    for x in neworder:\n",
    "        newlist.append(mylist[x-1])\n",
    "    return newlist "
   ]
  },
  {
   "cell_type": "code",
   "execution_count": 30,
   "id": "8d09eccb",
   "metadata": {},
   "outputs": [
    {
     "name": "stdout",
     "output_type": "stream",
     "text": [
      "2\n",
      "3\n",
      "1\n",
      "4\n"
     ]
    },
    {
     "data": {
      "text/plain": [
       "['square', 'triangle', 'cross', 'circle']"
      ]
     },
     "execution_count": 30,
     "metadata": {},
     "output_type": "execute_result"
    }
   ],
   "source": [
    "# First number input\n",
    "try:\n",
    "    neworder = []\n",
    "     \n",
    "    for x in range(4):\n",
    "        neworder.append(int(input()))\n",
    "         \n",
    "# if the input is not-integer, just print the list\n",
    "except:\n",
    "    print(my_list)\n",
    "    \n",
    "newlist = []\n",
    "for x in neworder:\n",
    "    newlist.append(mylist[x-1])\n",
    "newlist"
   ]
  },
  {
   "cell_type": "code",
   "execution_count": 31,
   "id": "6bd0247e",
   "metadata": {},
   "outputs": [
    {
     "name": "stdout",
     "output_type": "stream",
     "text": [
      "2\n",
      "3\n",
      "4\n",
      "1\n"
     ]
    },
    {
     "data": {
      "text/plain": [
       "['triangle', 'cross', 'circle', 'square']"
      ]
     },
     "execution_count": 31,
     "metadata": {},
     "output_type": "execute_result"
    }
   ],
   "source": [
    "# Second number input\n",
    "try:\n",
    "    neworder2 = []\n",
    "     \n",
    "    for x in range(4):\n",
    "        neworder2.append(int(input()))\n",
    "         \n",
    "# if the input is not-integer, just print the list\n",
    "except:\n",
    "    print(my_list)\n",
    "    \n",
    "newlist2 = []\n",
    "for x in neworder2:\n",
    "    newlist2.append(newlist[x-1])\n",
    "newlist2"
   ]
  },
  {
   "cell_type": "code",
   "execution_count": 26,
   "id": "2e990010",
   "metadata": {},
   "outputs": [
    {
     "data": {
      "text/plain": [
       "['square', 'triangle', 'cricle', 'cross']"
      ]
     },
     "execution_count": 26,
     "metadata": {},
     "output_type": "execute_result"
    }
   ],
   "source": [
    "# Third number input\n",
    "try:\n",
    "    neworder3 = []\n",
    "     \n",
    "    for x in range(4):\n",
    "        neworder3.append(int(input()))\n",
    "         \n",
    "# if the input is not-integer, just print the list\n",
    "except:\n",
    "    print(my_list)\n",
    "    \n",
    "newlist3 = []\n",
    "for x in neworder3:\n",
    "    newlist3.append(newlist2[x-1])\n",
    "newlist3"
   ]
  },
  {
   "cell_type": "code",
   "execution_count": 19,
   "id": "89e9eca2",
   "metadata": {},
   "outputs": [
    {
     "data": {
      "text/plain": [
       "[]"
      ]
     },
     "execution_count": 19,
     "metadata": {},
     "output_type": "execute_result"
    }
   ],
   "source": [
    "newlist2"
   ]
  },
  {
   "cell_type": "code",
   "execution_count": null,
   "id": "3b13a357",
   "metadata": {},
   "outputs": [],
   "source": []
  }
 ],
 "metadata": {
  "kernelspec": {
   "display_name": "Python 3",
   "language": "python",
   "name": "python3"
  },
  "language_info": {
   "codemirror_mode": {
    "name": "ipython",
    "version": 3
   },
   "file_extension": ".py",
   "mimetype": "text/x-python",
   "name": "python",
   "nbconvert_exporter": "python",
   "pygments_lexer": "ipython3",
   "version": "3.8.8"
  }
 },
 "nbformat": 4,
 "nbformat_minor": 5
}
