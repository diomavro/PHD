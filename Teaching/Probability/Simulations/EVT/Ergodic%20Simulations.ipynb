{
 "cells": [
  {
   "cell_type": "code",
   "execution_count": 7,
   "metadata": {},
   "outputs": [
    {
     "data": {
      "text/plain": [
       "[<matplotlib.lines.Line2D at 0x1aa0d572828>]"
      ]
     },
     "execution_count": 7,
     "metadata": {},
     "output_type": "execute_result"
    },
    {
     "data": {
      "image/png": "[encoded data removed]",
      "text/plain": [
       "<Figure size 432x288 with 1 Axes>"
      ]
     },
     "metadata": {
      "needs_background": "light"
     },
     "output_type": "display_data"
    }
   ],
   "source": [
    "import random\n",
    "import numpy as np\n",
    "import matplotlib.pyplot as plt\n",
    "\n",
    "time = 52\n",
    "ens = 1000\n",
    "x = 1\n",
    "b = [x]\n",
    "z = x\n",
    "n = [z]\n",
    "def mulupdate(x):\n",
    "    y = random.random()\n",
    "    if y >= 0.5:\n",
    "        x = x*1.5\n",
    "    else:\n",
    "        x = x*0.6\n",
    "    return x\n",
    "\n",
    "def ensemble(x,y):\n",
    "    ensemble = []\n",
    "    for i in range(y):\n",
    "        ensemble.append(mulupdate(x))\n",
    "    average = np.mean(ensemble)\n",
    "    return average\n",
    "\n",
    "for i in range(time):\n",
    "    x = mulupdate(x)\n",
    "    b.append(x)\n",
    "\n",
    "for i in range(time):\n",
    "    z = ensemble(z,ens)\n",
    "    n.append(z)\n",
    "\n",
    "plt.plot(b)\n",
    "plt.plot(n)"
   ]
  },
  {
   "cell_type": "code",
   "execution_count": null,
   "metadata": {},
   "outputs": [],
   "source": [
    "from sympy import *\n",
    "x, b, a, u, t, dt, dW, c = symbols('x b a u t dt dW c', positive=True)\n",
    "utility = Eq(log(x), u)\n",
    "invutility = solve(utility, x)\n",
    "invutility = invutility[0]\n",
    "dynamic = (diff(invutility, t)+a*diff(invutility, u)+(b**2)*(1/2)*diff(invutility, u))*dt+b*diff(invutility)*dW\n",
    "print(dynamic)"
   ]
  }
 ],
 "metadata": {
  "kernelspec": {
   "display_name": "Python 3",
   "language": "python",
   "name": "python3"
  },
  "language_info": {
   "codemirror_mode": {
    "name": "ipython",
    "version": 3
   },
   "file_extension": ".py",
   "mimetype": "text/x-python",
   "name": "python",
   "nbconvert_exporter": "python",
   "pygments_lexer": "ipython3",
   "version": "3.7.3"
  }
 },
 "nbformat": 4,
 "nbformat_minor": 2
}
