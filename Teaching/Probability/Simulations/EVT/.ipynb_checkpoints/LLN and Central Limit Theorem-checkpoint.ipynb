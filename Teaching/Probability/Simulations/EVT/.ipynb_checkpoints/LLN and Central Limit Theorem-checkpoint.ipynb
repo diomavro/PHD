{
 "cells": [
  {
   "cell_type": "code",
   "execution_count": 119,
   "metadata": {},
   "outputs": [],
   "source": [
    "import numpy as np\n",
    "import matplotlib.pyplot as plt\n",
    "import random\n",
    "%matplotlib qt\n",
    "#%matplotlib inline\n",
    "\n",
    "#https://www.javatpoint.com/numpy-random\n",
    "#https://stackoverflow.com/questions/6871201/plot-two-histograms-on-single-chart-with-matplotlib\n",
    "#https://towardsdatascience.com/bernoulli-and-binomial-random-variables-d0698288dd36\n",
    "#https://python.quantecon.org/ols.html"
   ]
  },
  {
   "cell_type": "code",
   "execution_count": 126,
   "metadata": {},
   "outputs": [
    {
     "name": "stdout",
     "output_type": "stream",
     "text": [
      "lower0\n",
      "The digit you have inputted is 0.0 and valid\n",
      "upper1\n",
      "The digit you have inputted is 1.0 and valid\n",
      "mean0\n",
      "The digit you have inputted is 0.0 and valid\n",
      "variance1\n",
      "The digit you have inputted is 1.0 and valid\n",
      "size1000\n",
      "The digit you have inputted is 1000 and valid\n"
     ]
    }
   ],
   "source": [
    "data = []\n",
    "data2 = []\n",
    "\n",
    "def inputfloat(string):\n",
    "    try:\n",
    "        flt = float(input(string))\n",
    "    except ValueError: \n",
    "        print (\"Must enter digits!\")\n",
    "    else:\n",
    "        print(\"The digit you have inputted is\",flt ,\"and valid\" )\n",
    "    return flt\n",
    "\n",
    "def inputint(string):\n",
    "    try:\n",
    "        integer = int(input(string))\n",
    "    except ValueError: \n",
    "        print (\"Must enter digits!\")\n",
    "    else:\n",
    "        print(\"The digit you have inputted is\",integer ,\"and valid\" )\n",
    "    return integer\n",
    "\n",
    "def addparetoobs(vector, size):\n",
    "    vector = np.append(vector, np.random.pareto(mu,sigma,size))\n",
    "    return vector\n",
    "\n",
    "def addbinomialobs(vector, size):\n",
    "    vector = np.append(vector, np.random.binomial(inputfloat(),inputfloat(),size))\n",
    "    return vector\n",
    "\n",
    "def addnormalobs(vector, size):\n",
    "    vector = np.append(vector, np.random.normal(mu,sigma,size))\n",
    "    return vector\n",
    "\n",
    "def adduniformobs(vector,  minimum, maximum, size):\n",
    "    vector = np.append(vector, np.random.uniform(minimum,maximum,size))\n",
    "    return vector\n",
    "\n",
    "def addtwouniformobs(vector, minimum, maximum, size):\n",
    "    for x in range(size):\n",
    "        value = np.random.uniform(minimum,maximum,1) + np.random.uniform(minimum,maximum,1)\n",
    "        vector = np.append(vector, value)\n",
    "    return vector\n",
    "\n",
    "def addweibullobs(vector, size):   \n",
    "    vector = np.append(vector, np.random.weibull(inputfloat(),size))\n",
    "    return vector\n",
    "\n",
    "def addpoissonobs(vector, size):\n",
    "    vector = np.append(vector, np.random.poisson(inputfloat(),size))\n",
    "    return vector\n",
    "\n",
    "def addintobs(vector, size):\n",
    "    vector = np.append(vector, np.random.randint(inputfloat() , inputfloat() ,size) )\n",
    "    return vector\n",
    "\n",
    "def createmovingmean(vector):\n",
    "    means = []\n",
    "    for i in range(len(vector)):\n",
    "        means = np.append(means, np.mean(vector[0:i+1])) \n",
    "    return means\n",
    "\n",
    "lower = inputfloat(\"lower\")\n",
    "upper = inputfloat(\"upper\")\n",
    "mu = inputfloat(\"mean\")\n",
    "sigma = inputfloat(\"variance\")\n",
    "n = inputint(\"size\")\n"
   ]
  },
  {
   "cell_type": "code",
   "execution_count": 144,
   "metadata": {},
   "outputs": [],
   "source": [
    "data = addnormalobs(data, n)\n",
    "label1 = \"Normal\"\n",
    "random.shuffle(data)\n",
    "\n",
    "data2 = addtwouniformobs(data2,lower,upper,n)\n",
    "label2 = \"Two Uniforms\"\n",
    "random.shuffle(data2)\n",
    "\n",
    "datawithconstant = data + 2\n",
    "datamultiplied = data*2\n",
    "datawithsecond = data + np.random.normal(mu,sigma,1)\n",
    "\n",
    "squared = np.square(data)\n",
    "\n",
    "meansv = createmovingmean(data)\n",
    "\n",
    "meansv2 = createmovingmean(data2)\n",
    "\n",
    "#meanssq = createmovingmean(squared)\n",
    "\n",
    "bins = np.linspace(min(data), max(data2), 20)\n",
    "\n",
    "figure, axis = plt.subplots(2, 2)\n",
    "\n",
    "plt.subplot(1, 2, 1)\n",
    "plt.style.use('seaborn-deep')\n",
    "plt.hist([data,data2],bins ,edgecolor = 'white', alpha=0.5 ,label=[label1,label2])\n",
    "#plt.hist(data2,bins ,edgecolor = 'white',  alpha=0.5 ,label='two uniform')\n",
    "plt.legend(loc='upper right')\n",
    "plt.title(\"Hist\")\n",
    "\n",
    "plt.subplot(1, 2, 2)\n",
    "plt.style.use('seaborn-deep')\n",
    "plt.plot(meansv,label=label1)\n",
    "plt.plot(meansv2,label=label2)\n",
    "plt.legend(loc='upper right')\n",
    "plt.title(\"Mean with sample\")\n",
    "\n",
    "plt.tight_layout()\n",
    "plt.show()"
   ]
  },
  {
   "cell_type": "markdown",
   "metadata": {},
   "source": [
    "$$ f_y(y) $$ is found by\n",
    "$$ y= g(x) $$\n",
    "$$ f_y(y) = \\frac{ f_x(x_1)}{|g'(x_1)|} ...+ \\frac{ f_x(x_n)}{|g'(x_n)|} $$\n",
    "$\\text{If linear function of some other variable}$\n",
    "$$  y = ax+b $$\n",
    "$$ \\rightarrow x = \\frac{y-b}{a}$$\n",
    "$$ \\frac{ \\partial g(x)}{\\partial x} = a $$\n",
    "$$ f_y(y) = \\frac{1}{|a|} f_x\\left(\\frac{y-b}{a} \\right) $$\n",
    "$$\\text{If x is uniformy distributed then} $$\n",
    "$$ f_x \\left(\\frac{y-b}{a} \\right) = \\frac{1}{x_2-x_1} \\text{for } x_1 <\\frac{y-b}{a}<x_2$$ \n",
    "$$\\rightarrow  f_y(y) = \\frac{1}{|a|} \\frac{1}{x_2-x_1} \\text{with } a x_1 + b< y < a x_2+b $$\n",
    "$$\\text{If hyperbolic function of some other variable}$$\n",
    "$$ y = \\frac{a}{x} $$\n",
    "$$ x = \\frac{a}{y}; \\frac{ \\partial g(x)}{\\partial x} =  \\frac{-a}{x^2} = \\frac{-y^2}{a} $$\n",
    "$$f_y(y) = \\frac{|a| }{y^2}  f_x\\left( \\frac{a}{y} \\right) $$"
   ]
  },
  {
   "cell_type": "code",
   "execution_count": 138,
   "metadata": {},
   "outputs": [
    {
     "data": {
      "text/plain": [
       "array([[1., 1.],\n",
       "       [1., 1.]])"
      ]
     },
     "execution_count": 138,
     "metadata": {},
     "output_type": "execute_result"
    }
   ],
   "source": [
    "np.corrcoef(data, datawithconstant)"
   ]
  },
  {
   "cell_type": "code",
   "execution_count": 145,
   "metadata": {},
   "outputs": [
    {
     "data": {
      "text/plain": [
       "array([[1., 1.],\n",
       "       [1., 1.]])"
      ]
     },
     "execution_count": 145,
     "metadata": {},
     "output_type": "execute_result"
    }
   ],
   "source": [
    "np.corrcoef(data, datawithsecond)"
   ]
  },
  {
   "cell_type": "code",
   "execution_count": 118,
   "metadata": {},
   "outputs": [
    {
     "data": {
      "text/plain": [
       "<scipy.stats._distn_infrastructure.rv_frozen at 0x276ff83b9e8>"
      ]
     },
     "execution_count": 118,
     "metadata": {},
     "output_type": "execute_result"
    }
   ],
   "source": [
    "continuous_uniform_distribution"
   ]
  },
  {
   "cell_type": "code",
   "execution_count": null,
   "metadata": {},
   "outputs": [],
   "source": []
  }
 ],
 "metadata": {
  "kernelspec": {
   "display_name": "Python 3",
   "language": "python",
   "name": "python3"
  },
  "language_info": {
   "codemirror_mode": {
    "name": "ipython",
    "version": 3
   },
   "file_extension": ".py",
   "mimetype": "text/x-python",
   "name": "python",
   "nbconvert_exporter": "python",
   "pygments_lexer": "ipython3",
   "version": "3.7.3"
  }
 },
 "nbformat": 4,
 "nbformat_minor": 2
}
