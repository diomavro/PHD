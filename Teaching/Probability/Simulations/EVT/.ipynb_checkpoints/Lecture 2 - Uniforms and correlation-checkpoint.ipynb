{
 "cells": [
  {
   "cell_type": "code",
   "execution_count": 1,
   "id": "1742e5dc",
   "metadata": {},
   "outputs": [],
   "source": [
    "import numpy as np\n",
    "import matplotlib.pyplot as plt\n",
    "import random\n",
    "\n",
    "def addnormalobs(vector, size):\n",
    "    vector = np.append(vector, np.random.normal(mu,sigma,size))\n",
    "    return vector\n",
    "\n",
    "def adduniformobs(vector,  minimum, maximum, size):\n",
    "    vector = np.append(vector, np.random.uniform(minimum,maximum,size))\n",
    "    return vector"
   ]
  },
  {
   "cell_type": "code",
   "execution_count": 5,
   "id": "96175e38",
   "metadata": {},
   "outputs": [
    {
     "data": {
      "image/png": "[encoded data removed]",
      "text/plain": [
       "<Figure size 432x288 with 1 Axes>"
      ]
     },
     "metadata": {
      "needs_background": "light"
     },
     "output_type": "display_data"
    }
   ],
   "source": [
    "data = []\n",
    "data2 = []\n",
    "data3 = []\n",
    "\n",
    "#We are looking only at uniforms, you can choose the range you like, by default it is in [0,10]\n",
    "lower = 0\n",
    "upper = 10\n",
    "\n",
    "\n",
    "#Try changing this to 10000 to see how the graph changes\n",
    "n = 100\n",
    "\n",
    "#We make a list of uniform random variables\n",
    "data = adduniformobs(data2,lower,upper,n)\n",
    "label1 = \"One uniform\"\n",
    "random.shuffle(data)\n",
    "\n",
    "#We add a second uniform random variable to each element\n",
    "label2 = \"Two Uniforms\"\n",
    "data2 = data + np.random.uniform(lower,upper,n) -5\n",
    "\n",
    "#We add a third uniform random variable to each element\n",
    "label3 = \"Three Uniforms\"\n",
    "data3 = data2 + np.random.uniform(lower,upper,n) -5\n",
    "\n",
    "#So that we can check correlation\n",
    "datawithconstant = data + 2\n",
    "datamultiplied = data*2\n",
    "datawithsecond = data + np.random.normal(0,1,1)\n",
    "\n",
    "bins = np.linspace(min(data), max(data3), 30)\n",
    "\n",
    "plt.style.use('seaborn-deep')\n",
    "plt.hist([data,data2,data3],bins ,edgecolor = 'white', alpha=0.5 ,label=[label1,label2,label3])\n",
    "plt.legend(loc='upper right')\n",
    "plt.title(\"Hist\")\n",
    "\n",
    "plt.tight_layout()\n",
    "plt.show()"
   ]
  },
  {
   "cell_type": "code",
   "execution_count": 35,
   "id": "f8f306e5",
   "metadata": {},
   "outputs": [
    {
     "data": {
      "text/plain": [
       "1.0"
      ]
     },
     "execution_count": 35,
     "metadata": {},
     "output_type": "execute_result"
    }
   ],
   "source": [
    "#As we saw in the lecture if you add a constant to a dataset, the new dataset will have a correlation of 1 with the old\n",
    "#The [1][1] is because the function returns an array\n",
    "np.corrcoef(data, datawithconstant)[1][1]"
   ]
  },
  {
   "cell_type": "code",
   "execution_count": 31,
   "id": "f62b585a",
   "metadata": {},
   "outputs": [
    {
     "data": {
      "text/plain": [
       "1.0"
      ]
     },
     "execution_count": 31,
     "metadata": {},
     "output_type": "execute_result"
    }
   ],
   "source": [
    "#Similar to the above but this time it is multiplied \n",
    "np.corrcoef(data, datamultiplied)[1][1]"
   ]
  },
  {
   "cell_type": "code",
   "execution_count": 28,
   "id": "3d2a57ae",
   "metadata": {},
   "outputs": [
    {
     "data": {
      "text/plain": [
       "array([[1.        , 0.71320872],\n",
       "       [0.71320872, 1.        ]])"
      ]
     },
     "execution_count": 28,
     "metadata": {},
     "output_type": "execute_result"
    }
   ],
   "source": [
    "np.corrcoef(data, data2)"
   ]
  },
  {
   "cell_type": "code",
   "execution_count": 37,
   "id": "c7cfa3a4",
   "metadata": {},
   "outputs": [
    {
     "data": {
      "text/plain": [
       "<matplotlib.collections.PathCollection at 0x1e7c6674850>"
      ]
     },
     "execution_count": 37,
     "metadata": {},
     "output_type": "execute_result"
    },
    {
     "data": {
      "image/png": "[encoded data removed]",
      "text/plain": [
       "<Figure size 432x288 with 1 Axes>"
      ]
     },
     "metadata": {
      "needs_background": "light"
     },
     "output_type": "display_data"
    }
   ],
   "source": [
    "#We can also plot the data points \n",
    "plt.scatter(data,data2)"
   ]
  },
  {
   "cell_type": "code",
   "execution_count": null,
   "id": "8a2a76c8",
   "metadata": {},
   "outputs": [],
   "source": []
  }
 ],
 "metadata": {
  "kernelspec": {
   "display_name": "Python 3",
   "language": "python",
   "name": "python3"
  },
  "language_info": {
   "codemirror_mode": {
    "name": "ipython",
    "version": 3
   },
   "file_extension": ".py",
   "mimetype": "text/x-python",
   "name": "python",
   "nbconvert_exporter": "python",
   "pygments_lexer": "ipython3",
   "version": "3.8.8"
  }
 },
 "nbformat": 4,
 "nbformat_minor": 5
}
