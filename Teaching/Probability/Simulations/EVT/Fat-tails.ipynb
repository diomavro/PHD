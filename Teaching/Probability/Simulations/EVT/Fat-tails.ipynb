{
 "cells": [
  {
   "cell_type": "markdown",
   "metadata": {},
   "source": [
    "$$f(x) = \\frac{\\alpha x_{m}^{\\alpha} }{x^{a+1}} ~~~~~~~x \\geq x_m $$ \n",
    "\n",
    "$$ \\overline{x} =\\frac{\\alpha x_{m}}{\\alpha-1} ~~~~ if~ \\alpha > 1  $$\n",
    "\n",
    "$$ \\overline{x} = \\infty ~~~~ if~ \\alpha \\leq 1$$"
   ]
  },
  {
   "cell_type": "markdown",
   "metadata": {},
   "source": [
    "# Show that the mean is unstable"
   ]
  },
  {
   "cell_type": "code",
   "execution_count": null,
   "metadata": {},
   "outputs": [],
   "source": [
    "import numpy as np\n",
    "import matplotlib.pyplot as plt"
   ]
  },
  {
   "cell_type": "code",
   "execution_count": 4,
   "metadata": {},
   "outputs": [],
   "source": [
    "mu = 0\n",
    "sigma = 1\n",
    "pareto = 0.5\n",
    "h = 0.01 #Probabilty of sampling out of a pareto distribution\n",
    "\n",
    "def addobservation(y):\n",
    "    x = np.random.random()\n",
    "    t = np.random.random()\n",
    "    global mu,sigma,h\n",
    "    if x>h:\n",
    "        y = np.append(y, np.random.normal(mu,1))\n",
    "    if x <= h:\n",
    "        if t>= 0.5:\n",
    "            y = np.append(y, np.random.pareto(pareto,1))\n",
    "        if t<0.5:\n",
    "            y = np.append(y, -np.random.pareto(pareto,1))\n",
    "    return y\n",
    "\n",
    "def calculatemean(vector):\n",
    "    x = np.mean(vector)\n",
    "    return x"
   ]
  },
  {
   "cell_type": "code",
   "execution_count": 7,
   "metadata": {},
   "outputs": [
    {
     "data": {
      "text/plain": [
       "[<matplotlib.lines.Line2D at 0x276aeb64940>]"
      ]
     },
     "execution_count": 7,
     "metadata": {},
     "output_type": "execute_result"
    },
    {
     "data": {
      "image/png": "[encoded data removed]",
      "text/plain": [
       "<Figure size 432x288 with 1 Axes>"
      ]
     },
     "metadata": {
      "needs_background": "light"
     },
     "output_type": "display_data"
    }
   ],
   "source": [
    "g = np.random.normal(0,1,1)\n",
    "means = g\n",
    "index = 1\n",
    "observations = index\n",
    "iterations = 100\n",
    "\n",
    "for i in range(iterations-1):\n",
    "    index = index +1\n",
    "    observations = np.append(observations, index)\n",
    "    g = addobservation(g)\n",
    "    means = np.append(means,calculatemean(g))\n",
    "\n",
    "plt.plot(observations, means)"
   ]
  },
  {
   "cell_type": "code",
   "execution_count": 11,
   "metadata": {},
   "outputs": [
    {
     "data": {
      "text/plain": [
       "array([-4.21372586e-01,  5.43302341e-01,  4.00209014e-01, -1.46686881e-01,\n",
       "       -4.67051357e-01, -3.41120933e-01, -1.12453064e-01, -1.26846022e-01,\n",
       "       -7.04030916e-02, -1.17365883e-01, -2.63693910e-01, -1.51335294e-01,\n",
       "       -2.17135653e-01, -1.28350077e-01, -1.36070837e-01, -1.11665985e-01,\n",
       "       -1.89679510e-01, -2.24013581e-01, -2.78387948e-01, -2.12377984e-01,\n",
       "       -1.49717487e-01, -1.66710122e-01, -1.72734081e-01, -1.86171454e-01,\n",
       "       -1.87959152e-01, -1.51404260e-01, -1.43814704e-01, -1.24290880e-01,\n",
       "       -1.02103743e-01, -8.76109765e-02, -5.10466101e-02, -3.74983455e-02,\n",
       "       -1.34604985e-02, -2.99525893e-02, -5.83024333e-02, -9.48205487e-02,\n",
       "       -8.98159425e-02, -1.34439357e-01, -6.50197889e-02, -4.44390617e-02,\n",
       "       -4.89482526e-02, -5.59356946e-02, -5.29692942e-02, -6.10501912e-02,\n",
       "       -6.86830669e-02, -5.67113679e-02, -3.90075132e-02, -3.11083767e-02,\n",
       "       -1.76400940e-02, -7.43144750e-02, -6.03754833e-02, -2.06273214e-02,\n",
       "        4.72881405e-04,  1.30896025e-03, -1.58440091e-02, -1.58617198e-02,\n",
       "       -2.08727376e-02, -3.30392143e-02, -1.76466303e-02,  3.40298708e-03,\n",
       "        9.55120300e-03,  4.38656536e-02,  6.39184940e-02,  6.54836731e-02,\n",
       "        6.76487594e-02,  7.59705920e-02,  8.31923261e-02,  9.66519378e-02,\n",
       "        9.71995452e-02,  1.04996393e-01,  9.45806253e-02,  9.64982883e-02,\n",
       "        9.06359519e-02,  5.69723894e-02,  4.78633047e-02,  2.16215008e-02,\n",
       "        1.52026204e-02,  2.11432494e-03, -1.52909139e-02, -2.92580231e-02,\n",
       "       -2.64363421e-02, -1.68799182e-02, -4.09147491e-02, -4.79656785e-02,\n",
       "       -3.78261532e-02, -5.83041668e-02, -5.40495009e-02, -5.24363642e-02,\n",
       "       -6.50173349e-02, -7.24023335e-02, -6.82871110e-02, -5.73246832e-02,\n",
       "       -5.54881009e-02, -7.65171827e-02, -7.29410406e-02, -6.86314076e-02,\n",
       "       -7.88688263e-02, -6.39528974e-02, -8.50077900e-02, -9.67658585e-02])"
      ]
     },
     "execution_count": 11,
     "metadata": {},
     "output_type": "execute_result"
    }
   ],
   "source": [
    "means"
   ]
  },
  {
   "cell_type": "markdown",
   "metadata": {},
   "source": [
    "# Loglog "
   ]
  },
  {
   "cell_type": "code",
   "execution_count": 6,
   "metadata": {},
   "outputs": [
    {
     "name": "stdout",
     "output_type": "stream",
     "text": [
      "12.063107128954108\n",
      "0.2992797874617744\n"
     ]
    }
   ],
   "source": [
    "g = np.random.normal(0,1,1)\n",
    "t = np.random.pareto(0.9,10000)\n",
    "y = np.concatenate((g,t))\n",
    "m = calculatemean(y)\n",
    "print(m)\n",
    "\n",
    "x= np.random.random()\n",
    "print(x)"
   ]
  },
  {
   "cell_type": "code",
   "execution_count": 7,
   "metadata": {},
   "outputs": [
    {
     "data": {
      "text/plain": [
       "[<matplotlib.lines.Line2D at 0x22ecd9e5080>]"
      ]
     },
     "execution_count": 7,
     "metadata": {},
     "output_type": "execute_result"
    },
    {
     "data": {
      "image/png": "[encoded data removed]",
      "text/plain": [
       "<Figure size 432x288 with 1 Axes>"
      ]
     },
     "metadata": {
      "needs_background": "light"
     },
     "output_type": "display_data"
    }
   ],
   "source": [
    "hist, edg = np.histogram(y,bins=100)\n",
    "edg = edg[:-1]\n",
    "plt.subplot(121)\n",
    "plt.plot(edg,hist)\n",
    "##plt.xlim(10**-1,10**4)"
   ]
  },
  {
   "cell_type": "code",
   "execution_count": 8,
   "metadata": {},
   "outputs": [
    {
     "data": {
      "text/plain": [
       "[<matplotlib.lines.Line2D at 0x22ecda0c978>]"
      ]
     },
     "execution_count": 8,
     "metadata": {},
     "output_type": "execute_result"
    },
    {
     "data": {
      "image/png": "[encoded data removed]",
      "text/plain": [
       "<Figure size 432x288 with 1 Axes>"
      ]
     },
     "metadata": {
      "needs_background": "light"
     },
     "output_type": "display_data"
    }
   ],
   "source": [
    "plt.loglog(edg,hist)\n",
    "# plt.xlim(10**-1,10**4)"
   ]
  },
  {
   "cell_type": "markdown",
   "metadata": {},
   "source": [
    "https://learndatasci.com/tutorials/python-finance-part-yahoo-finance-api-pandas-matplotlib/\n",
    "https://david-salazar.github.io/2020/07/05/tail-risk-of-diseases-in-r/\n",
    "https://twitter.com/Heinonmatti/status/1280542746353303554\n",
    "https://cran.r-project.org/web/packages/poweRlaw/vignettes/d_jss_paper.pdf\n",
    "https://seaborn.pydata.org/tutorial/distributions.html\n",
    "https://docs.scipy.org/doc/scipy/reference/generated/scipy.stats.kstest.html"
   ]
  },
  {
   "cell_type": "code",
   "execution_count": null,
   "metadata": {},
   "outputs": [],
   "source": []
  }
 ],
 "metadata": {
  "kernelspec": {
   "display_name": "Python 3",
   "language": "python",
   "name": "python3"
  },
  "language_info": {
   "codemirror_mode": {
    "name": "ipython",
    "version": 3
   },
   "file_extension": ".py",
   "mimetype": "text/x-python",
   "name": "python",
   "nbconvert_exporter": "python",
   "pygments_lexer": "ipython3",
   "version": "3.7.3"
  }
 },
 "nbformat": 4,
 "nbformat_minor": 2
}
