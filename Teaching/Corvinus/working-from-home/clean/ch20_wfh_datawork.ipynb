{
 "cells": [
  {
   "cell_type": "code",
   "execution_count": 5,
   "metadata": {},
   "outputs": [],
   "source": [
    "### SETTING UP DIRECTORIES\n",
    "\n",
    "# import packages\n",
    "import pandas as pd\n",
    "import os\n",
    "import numpy as np\n",
    "\n",
    "# set working directory for da_data_repo -- replace the\n",
    "os.chdir(\"/Users/.../da_data_repo\")\n",
    "\n",
    "# location folders\n",
    "data_in = \"working-from-home/raw/\"\n",
    "data_out = \"working-from-home/clean/\""
   ]
  },
  {
   "cell_type": "code",
   "execution_count": 6,
   "metadata": {},
   "outputs": [],
   "source": [
    "#load dta\n",
    "\n",
    "df1 = pd.read_stata(data_in+'quit_data.dta')"
   ]
  },
  {
   "cell_type": "code",
   "execution_count": 7,
   "metadata": {},
   "outputs": [],
   "source": [
    "df1.rename(\n",
    "    columns={\n",
    "        \"expgroup\": \"treatment\",\n",
    "        \"men\":\"male\"\n",
    "    },\n",
    "    inplace=True,\n",
    ")"
   ]
  },
  {
   "cell_type": "code",
   "execution_count": 8,
   "metadata": {},
   "outputs": [],
   "source": [
    "df1.drop(\n",
    "    columns=[\"perform10_expgroup\", \"perform11_expgroup\"],\n",
    "    inplace=True,\n",
    ")"
   ]
  },
  {
   "cell_type": "code",
   "execution_count": 9,
   "metadata": {},
   "outputs": [],
   "source": [
    "df2 = pd.read_stata(data_in+'tc_comparison.dta')"
   ]
  },
  {
   "cell_type": "code",
   "execution_count": 10,
   "metadata": {},
   "outputs": [],
   "source": [
    "df2.rename(\n",
    "    columns={\n",
    "        \"expgroup\": \"treatment\",\n",
    "        \"men\":\"male\"\n",
    "    },\n",
    "    inplace=True,\n",
    ")"
   ]
  },
  {
   "cell_type": "code",
   "execution_count": 11,
   "metadata": {},
   "outputs": [],
   "source": [
    "cols_to_use = df1.columns.difference(df2.columns).tolist()"
   ]
  },
  {
   "cell_type": "code",
   "execution_count": 12,
   "metadata": {},
   "outputs": [],
   "source": [
    "cols_to_use.append('personid')"
   ]
  },
  {
   "cell_type": "code",
   "execution_count": 14,
   "metadata": {},
   "outputs": [],
   "source": [
    "df_merged = pd.merge(df1[cols_to_use], df2, on=\"personid\", how=\"inner\")"
   ]
  },
  {
   "cell_type": "code",
   "execution_count": 15,
   "metadata": {},
   "outputs": [],
   "source": [
    "cols_to_order = ['personid','treatment','quitjob','perform10','perform11']"
   ]
  },
  {
   "cell_type": "code",
   "execution_count": 16,
   "metadata": {},
   "outputs": [],
   "source": [
    "new_columns = cols_to_order + (df_merged.columns.drop(cols_to_order).tolist())\n",
    "df_merged = df_merged[new_columns]"
   ]
  },
  {
   "cell_type": "code",
   "execution_count": 17,
   "metadata": {},
   "outputs": [],
   "source": [
    "#load dta\n",
    "\n",
    "df3 = pd.read_stata(data_in+'performance_during_exper.dta')"
   ]
  },
  {
   "cell_type": "code",
   "execution_count": 18,
   "metadata": {
    "scrolled": true
   },
   "outputs": [],
   "source": [
    "df3=df3.loc[(df3.expgroup == 0) |(df3.expgroup == 1)].reset_index()"
   ]
  },
  {
   "cell_type": "code",
   "execution_count": 19,
   "metadata": {},
   "outputs": [],
   "source": [
    "df3['experiment_time'] = df3.experiment_treatment + df3.experiment_control"
   ]
  },
  {
   "cell_type": "code",
   "execution_count": 20,
   "metadata": {},
   "outputs": [],
   "source": [
    "df3['phonecalls']=df3.phonecallraw/1000\n",
    "\n",
    "df3.drop(\n",
    "    columns=[\"phonecallraw\"],\n",
    "    inplace=True,\n",
    ")"
   ]
  },
  {
   "cell_type": "code",
   "execution_count": 21,
   "metadata": {},
   "outputs": [],
   "source": [
    "\n",
    "df3=df3[['personid', 'year_week', 'experiment_time', 'treatment', 'phonecalls']]"
   ]
  },
  {
   "cell_type": "code",
   "execution_count": 22,
   "metadata": {},
   "outputs": [],
   "source": [
    "df3.to_csv(data_out + \"wfh_tidy_personweek_p.csv\", index=False)"
   ]
  },
  {
   "cell_type": "code",
   "execution_count": 23,
   "metadata": {},
   "outputs": [],
   "source": [
    "df3=df3.groupby(['personid', 'experiment_time']).agg({'phonecalls':'sum', 'treatment':'mean'}).reset_index()"
   ]
  },
  {
   "cell_type": "code",
   "execution_count": 24,
   "metadata": {},
   "outputs": [],
   "source": [
    "\n",
    "df3= df3.pivot_table(\n",
    "    index=[\"personid\",'treatment'],\n",
    "    columns=\"experiment_time\",\n",
    "    values=\"phonecalls\",\n",
    ").add_prefix(\"phonecalls\")\n"
   ]
  },
  {
   "cell_type": "code",
   "execution_count": 25,
   "metadata": {},
   "outputs": [],
   "source": [
    "df3=df3.reset_index(level='treatment').rename_axis(None)"
   ]
  },
  {
   "cell_type": "code",
   "execution_count": 26,
   "metadata": {},
   "outputs": [],
   "source": [
    "df3.columns.name=None\n",
    "df3=df3.rename_axis('personid').reset_index()"
   ]
  },
  {
   "cell_type": "code",
   "execution_count": 27,
   "metadata": {},
   "outputs": [],
   "source": [
    "df3.rename(\n",
    "    columns={\n",
    "        \"phonecalls0.0\": \"phonecalls0\",\n",
    "        \"phonecalls1.0\":\"phonecalls1\"\n",
    "    },\n",
    "    inplace=True,\n",
    ")"
   ]
  },
  {
   "cell_type": "code",
   "execution_count": 29,
   "metadata": {},
   "outputs": [],
   "source": [
    "df_merged = pd.merge(\n",
    "    df3[[\"personid\", \"phonecalls0\", \"phonecalls1\"]],\n",
    "    df_merged,\n",
    "    on=\"personid\",\n",
    "    how=\"inner\",\n",
    ")"
   ]
  },
  {
   "cell_type": "code",
   "execution_count": 30,
   "metadata": {},
   "outputs": [],
   "source": [
    "df_merged['ordertaker']=[1 if x == 'phone call group' else 0 for x in df_merged.type]"
   ]
  },
  {
   "cell_type": "code",
   "execution_count": 31,
   "metadata": {},
   "outputs": [],
   "source": [
    "cols_to_order = [\"personid\", \"treatment\", \"ordertaker\", \"type\", \"quitjob\"]\n",
    "new_columns = cols_to_order + (df_merged.columns.drop(cols_to_order).tolist())\n",
    "df_merged = df_merged[new_columns]"
   ]
  },
  {
   "cell_type": "code",
   "execution_count": 32,
   "metadata": {},
   "outputs": [],
   "source": [
    "df_merged.to_csv(data_out + \"wfh_tidy_person_p.csv\", index=False)"
   ]
  },
  {
   "cell_type": "code",
   "execution_count": null,
   "metadata": {},
   "outputs": [],
   "source": []
  }
 ],
 "metadata": {
  "kernelspec": {
   "display_name": "Python 3",
   "language": "python",
   "name": "python3"
  },
  "language_info": {
   "codemirror_mode": {
    "name": "ipython",
    "version": 3
   },
   "file_extension": ".py",
   "mimetype": "text/x-python",
   "name": "python",
   "nbconvert_exporter": "python",
   "pygments_lexer": "ipython3",
   "version": "3.8.6"
  }
 },
 "nbformat": 4,
 "nbformat_minor": 4
}
