{
 "cells": [
  {
   "cell_type": "markdown",
   "id": "8f22c478",
   "metadata": {},
   "source": [
    "VAR answers this question — What is the minimum loss over the whole range of outcomes in the 1% tail?\n",
    "\n",
    "\n",
    "$ F(\\alpha) * \\sigma - \\mu  $\n",
    "\n",
    "ES answers this question — What is the average loss over the whole range of outcomes in the 1% tail?"
   ]
  },
  {
   "cell_type": "code",
   "execution_count": 5,
   "id": "bb0fd0f3",
   "metadata": {},
   "outputs": [],
   "source": [
    "#https://github.com/playgrdstar/expected_shortfall/blob/master/Expected%20Shortfall.ipynb\n",
    "\n",
    "\n",
    "\n",
    "import numpy as np\n",
    "from scipy.stats import norm\n",
    "import matplotlib.pyplot as plt"
   ]
  },
  {
   "cell_type": "code",
   "execution_count": 6,
   "id": "3af1642b",
   "metadata": {},
   "outputs": [
    {
     "name": "stdout",
     "output_type": "stream",
     "text": [
      "99% VaR is 3.9\n"
     ]
    }
   ],
   "source": [
    "h = 10. # horizon of 10 days\n",
    "mu_h = 0.1 # this is the mean of % returns over 10 days - 10%\n",
    "sig = 0.3 # this is the vol of returns over a year - 30%\n",
    "sig_h = 0.3 * np.sqrt(h/252) # this is the vol over the horizon\n",
    "alpha = 0.01\n",
    "\n",
    "VaR_n = norm.ppf(1-alpha)*sig_h - mu_h \n",
    "\n",
    "print(\"99% VaR is\", round(VaR_n*100,2))"
   ]
  },
  {
   "cell_type": "code",
   "execution_count": 7,
   "id": "563302a0",
   "metadata": {},
   "outputs": [
    {
     "name": "stdout",
     "output_type": "stream",
     "text": [
      "99% CVaR/ES is 5.93\n"
     ]
    }
   ],
   "source": [
    "# with the same parameters as above\n",
    "CVaR_n = alpha**-1 * norm.pdf(norm.ppf(alpha))*sig_h - mu_h\n",
    "\n",
    "print(\"99% CVaR/ES is\", round(CVaR_n*100,2))"
   ]
  },
  {
   "cell_type": "code",
   "execution_count": 9,
   "id": "4e054d11",
   "metadata": {},
   "outputs": [
    {
     "name": "stdout",
     "output_type": "stream",
     "text": [
      "99% VaR (Student-t with v=5) is 5.58\n",
      "99% CVaR (Student-t with v=5) is 13.35\n"
     ]
    }
   ],
   "source": [
    "from scipy.stats import t\n",
    "nu = 5 # degree of freedom, the larger, the closer to normal distribution\n",
    "xanu = t.ppf(alpha, nu)\n",
    "\n",
    "VaR_t = np.sqrt(h/252 * (nu-2)/nu) * t.ppf(1-alpha, nu)*sig - mu_h\n",
    "\n",
    "print(\"99% VaR (Student-t with v=5) is\", round(VaR_t*100,2))\n",
    "\n",
    "CVaR_t = -1/alpha * (1-nu)**(-1) * (nu-2+xanu**2) * t.pdf(xanu, nu)*sig_h - mu_h\n",
    "\n",
    "print(\"99% CVaR (Student-t with v=5) is\", round(CVaR_t*100,2))"
   ]
  },
  {
   "cell_type": "code",
   "execution_count": 10,
   "id": "ffa6189c",
   "metadata": {},
   "outputs": [
    {
     "name": "stdout",
     "output_type": "stream",
     "text": [
      "99% VaR (Student-t with with v->infinity) is 3.9\n",
      "99% CVaR (Student-t with with v->infinity) is 5.93\n"
     ]
    }
   ],
   "source": [
    "# to verify that the normal and Student-t VAR will be the same for big v\n",
    "nu = 10000000 # degree of freedom, the larger, the closer to normal distribution\n",
    "xanu = t.ppf(alpha, nu)\n",
    "\n",
    "VaR_t = np.sqrt(h/252 * (nu-2)/nu) * t.ppf(1-alpha, nu)*sig - mu_h\n",
    "print(\"99% VaR (Student-t with with v->infinity) is\", round(VaR_t*100,2))\n",
    "\n",
    "CVaR_t = -1/alpha * (1-nu)**(-1) * (nu-2+xanu**2) * t.pdf(xanu, nu)*sig_h - mu_h\n",
    "print(\"99% CVaR (Student-t with with v->infinity) is\", round(CVaR_t*100,2))\n"
   ]
  },
  {
   "cell_type": "code",
   "execution_count": 12,
   "id": "87b41061",
   "metadata": {},
   "outputs": [
    {
     "ename": "ModuleNotFoundError",
     "evalue": "No module named 'quandl'",
     "output_type": "error",
     "traceback": [
      "\u001b[1;31m---------------------------------------------------------------------------\u001b[0m",
      "\u001b[1;31mModuleNotFoundError\u001b[0m                       Traceback (most recent call last)",
      "Input \u001b[1;32mIn [12]\u001b[0m, in \u001b[0;36m<cell line: 1>\u001b[1;34m()\u001b[0m\n\u001b[1;32m----> 1\u001b[0m \u001b[38;5;28;01mimport\u001b[39;00m \u001b[38;5;21;01mquandl\u001b[39;00m\n\u001b[0;32m      2\u001b[0m \u001b[38;5;28;01mimport\u001b[39;00m \u001b[38;5;21;01mdatetime\u001b[39;00m\n\u001b[0;32m      3\u001b[0m quandl\u001b[38;5;241m.\u001b[39mApiConfig\u001b[38;5;241m.\u001b[39mapi_key \u001b[38;5;241m=\u001b[39m \u001b[38;5;124m\"\u001b[39m\u001b[38;5;124m\"\u001b[39m\n",
      "\u001b[1;31mModuleNotFoundError\u001b[0m: No module named 'quandl'"
     ]
    }
   ],
   "source": [
    "import quandl\n",
    "import datetime\n",
    "quandl.ApiConfig.api_key = \"\""
   ]
  },
  {
   "cell_type": "code",
   "execution_count": null,
   "id": "661f7ee3",
   "metadata": {},
   "outputs": [],
   "source": [
    "mu_norm, sig_norm = norm.fit(returns)\n",
    "nu, mu_t, sig_t = t.fit(returns)"
   ]
  },
  {
   "cell_type": "code",
   "execution_count": null,
   "id": "6bc35a56",
   "metadata": {},
   "outputs": [],
   "source": [
    "h = 1\n",
    "alpha = 0.01\n",
    "xanu = t.ppf(alpha, nu)\n",
    "\n",
    "CVaR_n = alpha**-1 * norm.pdf(norm.ppf(alpha))*sig_norm - mu_norm\n",
    "VaR_n = norm.ppf(1-alpha)*sig_norm - mu_norm\n",
    " \n",
    "VaR_t = np.sqrt((nu-2)/nu) * t.ppf(1-alpha, nu)*sig_norm  - h*mu_norm\n",
    "CVaR_t = -1/alpha * (1-nu)**(-1) * (nu-2+xanu**2) * t.pdf(xanu, nu)*sig_norm  - h*mu_norm"
   ]
  }
 ],
 "metadata": {
  "kernelspec": {
   "display_name": "Python 3 (ipykernel)",
   "language": "python",
   "name": "python3"
  },
  "language_info": {
   "codemirror_mode": {
    "name": "ipython",
    "version": 3
   },
   "file_extension": ".py",
   "mimetype": "text/x-python",
   "name": "python",
   "nbconvert_exporter": "python",
   "pygments_lexer": "ipython3",
   "version": "3.8.12"
  }
 },
 "nbformat": 4,
 "nbformat_minor": 5
}
