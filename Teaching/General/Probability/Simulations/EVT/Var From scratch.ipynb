{
 "cells": [
  {
   "cell_type": "code",
   "execution_count": 3,
   "id": "ecf2ff64",
   "metadata": {},
   "outputs": [],
   "source": [
    "import datetime as dt\n",
    "import matplotlib.pyplot as plt\n",
    "from matplotlib import style\n",
    "import pandas as pd\n",
    "import pandas_datareader.data as web\n",
    "\n",
    "import numpy as np\n",
    "from scipy.stats import norm\n",
    "from scipy.stats import t"
   ]
  },
  {
   "cell_type": "code",
   "execution_count": 4,
   "id": "a2a891f7",
   "metadata": {},
   "outputs": [],
   "source": [
    "style.use('ggplot')\n",
    "\n",
    "start = dt.datetime(2015, 1, 1)\n",
    "end = dt.datetime.now()"
   ]
  },
  {
   "cell_type": "code",
   "execution_count": 18,
   "id": "f4a30cba",
   "metadata": {},
   "outputs": [
    {
     "data": {
      "text/html": [
       "<div>\n",
       "<style scoped>\n",
       "    .dataframe tbody tr th:only-of-type {\n",
       "        vertical-align: middle;\n",
       "    }\n",
       "\n",
       "    .dataframe tbody tr th {\n",
       "        vertical-align: top;\n",
       "    }\n",
       "\n",
       "    .dataframe thead th {\n",
       "        text-align: right;\n",
       "    }\n",
       "</style>\n",
       "<table border=\"1\" class=\"dataframe\">\n",
       "  <thead>\n",
       "    <tr style=\"text-align: right;\">\n",
       "      <th></th>\n",
       "      <th>High</th>\n",
       "      <th>Low</th>\n",
       "      <th>Open</th>\n",
       "      <th>Close</th>\n",
       "      <th>Volume</th>\n",
       "      <th>Adj Close</th>\n",
       "    </tr>\n",
       "    <tr>\n",
       "      <th>Date</th>\n",
       "      <th></th>\n",
       "      <th></th>\n",
       "      <th></th>\n",
       "      <th></th>\n",
       "      <th></th>\n",
       "      <th></th>\n",
       "    </tr>\n",
       "  </thead>\n",
       "  <tbody>\n",
       "    <tr>\n",
       "      <th>2015-01-02</th>\n",
       "      <td>44.650002</td>\n",
       "      <td>42.652000</td>\n",
       "      <td>44.574001</td>\n",
       "      <td>43.862000</td>\n",
       "      <td>23822000.0</td>\n",
       "      <td>43.862000</td>\n",
       "    </tr>\n",
       "    <tr>\n",
       "      <th>2015-01-05</th>\n",
       "      <td>43.299999</td>\n",
       "      <td>41.431999</td>\n",
       "      <td>42.910000</td>\n",
       "      <td>42.018002</td>\n",
       "      <td>26842500.0</td>\n",
       "      <td>42.018002</td>\n",
       "    </tr>\n",
       "    <tr>\n",
       "      <th>2015-01-06</th>\n",
       "      <td>42.840000</td>\n",
       "      <td>40.841999</td>\n",
       "      <td>42.012001</td>\n",
       "      <td>42.256001</td>\n",
       "      <td>31309500.0</td>\n",
       "      <td>42.256001</td>\n",
       "    </tr>\n",
       "    <tr>\n",
       "      <th>2015-01-07</th>\n",
       "      <td>42.956001</td>\n",
       "      <td>41.956001</td>\n",
       "      <td>42.669998</td>\n",
       "      <td>42.189999</td>\n",
       "      <td>14842000.0</td>\n",
       "      <td>42.189999</td>\n",
       "    </tr>\n",
       "    <tr>\n",
       "      <th>2015-01-08</th>\n",
       "      <td>42.759998</td>\n",
       "      <td>42.001999</td>\n",
       "      <td>42.562000</td>\n",
       "      <td>42.124001</td>\n",
       "      <td>17212500.0</td>\n",
       "      <td>42.124001</td>\n",
       "    </tr>\n",
       "    <tr>\n",
       "      <th>...</th>\n",
       "      <td>...</td>\n",
       "      <td>...</td>\n",
       "      <td>...</td>\n",
       "      <td>...</td>\n",
       "      <td>...</td>\n",
       "      <td>...</td>\n",
       "    </tr>\n",
       "    <tr>\n",
       "      <th>2022-04-05</th>\n",
       "      <td>1152.869995</td>\n",
       "      <td>1087.300049</td>\n",
       "      <td>1136.300049</td>\n",
       "      <td>1091.260010</td>\n",
       "      <td>26691700.0</td>\n",
       "      <td>1091.260010</td>\n",
       "    </tr>\n",
       "    <tr>\n",
       "      <th>2022-04-06</th>\n",
       "      <td>1079.000000</td>\n",
       "      <td>1027.699951</td>\n",
       "      <td>1073.469971</td>\n",
       "      <td>1045.760010</td>\n",
       "      <td>29782800.0</td>\n",
       "      <td>1045.760010</td>\n",
       "    </tr>\n",
       "    <tr>\n",
       "      <th>2022-04-07</th>\n",
       "      <td>1076.589966</td>\n",
       "      <td>1021.539978</td>\n",
       "      <td>1052.390015</td>\n",
       "      <td>1057.260010</td>\n",
       "      <td>26482400.0</td>\n",
       "      <td>1057.260010</td>\n",
       "    </tr>\n",
       "    <tr>\n",
       "      <th>2022-04-08</th>\n",
       "      <td>1048.439941</td>\n",
       "      <td>1022.440002</td>\n",
       "      <td>1043.209961</td>\n",
       "      <td>1025.489990</td>\n",
       "      <td>18293300.0</td>\n",
       "      <td>1025.489990</td>\n",
       "    </tr>\n",
       "    <tr>\n",
       "      <th>2022-04-11</th>\n",
       "      <td>1008.469971</td>\n",
       "      <td>974.640015</td>\n",
       "      <td>980.400024</td>\n",
       "      <td>975.929993</td>\n",
       "      <td>19660500.0</td>\n",
       "      <td>975.929993</td>\n",
       "    </tr>\n",
       "  </tbody>\n",
       "</table>\n",
       "<p>1832 rows × 6 columns</p>\n",
       "</div>"
      ],
      "text/plain": [
       "                   High          Low         Open        Close      Volume  \\\n",
       "Date                                                                         \n",
       "2015-01-02    44.650002    42.652000    44.574001    43.862000  23822000.0   \n",
       "2015-01-05    43.299999    41.431999    42.910000    42.018002  26842500.0   \n",
       "2015-01-06    42.840000    40.841999    42.012001    42.256001  31309500.0   \n",
       "2015-01-07    42.956001    41.956001    42.669998    42.189999  14842000.0   \n",
       "2015-01-08    42.759998    42.001999    42.562000    42.124001  17212500.0   \n",
       "...                 ...          ...          ...          ...         ...   \n",
       "2022-04-05  1152.869995  1087.300049  1136.300049  1091.260010  26691700.0   \n",
       "2022-04-06  1079.000000  1027.699951  1073.469971  1045.760010  29782800.0   \n",
       "2022-04-07  1076.589966  1021.539978  1052.390015  1057.260010  26482400.0   \n",
       "2022-04-08  1048.439941  1022.440002  1043.209961  1025.489990  18293300.0   \n",
       "2022-04-11  1008.469971   974.640015   980.400024   975.929993  19660500.0   \n",
       "\n",
       "              Adj Close  \n",
       "Date                     \n",
       "2015-01-02    43.862000  \n",
       "2015-01-05    42.018002  \n",
       "2015-01-06    42.256001  \n",
       "2015-01-07    42.189999  \n",
       "2015-01-08    42.124001  \n",
       "...                 ...  \n",
       "2022-04-05  1091.260010  \n",
       "2022-04-06  1045.760010  \n",
       "2022-04-07  1057.260010  \n",
       "2022-04-08  1025.489990  \n",
       "2022-04-11   975.929993  \n",
       "\n",
       "[1832 rows x 6 columns]"
      ]
     },
     "execution_count": 18,
     "metadata": {},
     "output_type": "execute_result"
    }
   ],
   "source": [
    "df = web.DataReader(\"TSLA\", 'yahoo', start, end)\n",
    "df.dropna()"
   ]
  },
  {
   "cell_type": "code",
   "execution_count": 6,
   "id": "a0e3369b",
   "metadata": {},
   "outputs": [],
   "source": [
    "returns = (df['Close']/df['Close'].shift(1))-1\n",
    "# Take the array from 2nd (element 1) to end and divide it by the array less the last element\n",
    "# Basically tom - today for each element\n",
    "returns = returns.dropna().values"
   ]
  },
  {
   "cell_type": "code",
   "execution_count": 7,
   "id": "8a1fb3e8",
   "metadata": {},
   "outputs": [
    {
     "name": "stdout",
     "output_type": "stream",
     "text": [
      "Normal mean is 0.00101731, sigma is 0.01691382\n"
     ]
    }
   ],
   "source": [
    "mu_norm, sig_norm = norm.fit(returns) # extract the mean and sigma of the closest normal distribution fit\n",
    "print(\"Normal mean is {0:.8f}, sigma is {1:.8f}\".format(mu_norm, sig_norm))\n",
    "dx = 0.0001 # resolution of the distribution\n",
    "x = np.arange(-1, 1, dx)\n",
    "pdf_n = norm.pdf(x, mu_norm, sig_norm)"
   ]
  },
  {
   "cell_type": "code",
   "execution_count": 8,
   "id": "571c05b8",
   "metadata": {},
   "outputs": [
    {
     "name": "stdout",
     "output_type": "stream",
     "text": [
      "Student T mean is 0.00130696, sigma is 0.01025185, nu is 3.0\n"
     ]
    }
   ],
   "source": [
    "nu, mu_t, sig_t = t.fit(returns)\n",
    "nu = np.round(nu)\n",
    "print(\"Student T mean is {0:.8f}, sigma is {1:.8f}, nu is {2}\".format(mu_t, sig_t, nu))\n",
    "pdf_t = t.pdf(x, nu, mu_t, sig_t)"
   ]
  },
  {
   "cell_type": "code",
   "execution_count": 12,
   "id": "cc7c6f23",
   "metadata": {},
   "outputs": [],
   "source": [
    "h = 1\n",
    "alpha = 0.05\n",
    "xanu = t.ppf(alpha, nu)\n",
    "\n",
    "CVaR_n = alpha**-1 * norm.pdf(norm.ppf(alpha))*sig_norm - mu_norm\n",
    "VaR_n = norm.ppf(1-alpha)*sig_norm - mu_norm"
   ]
  },
  {
   "cell_type": "code",
   "execution_count": 13,
   "id": "0e670af9",
   "metadata": {},
   "outputs": [],
   "source": [
    "\n",
    "VaR_t = np.sqrt((nu-2)/nu) * t.ppf(1-alpha, nu)*sig_norm  - h*mu_norm\n",
    "\n",
    "CVaR_t = -1/alpha * (1-nu)**(-1) * (nu-2+xanu**2) * t.pdf(xanu, nu)*sig_norm  - h*mu_norm"
   ]
  },
  {
   "cell_type": "code",
   "execution_count": 14,
   "id": "b3cc0566",
   "metadata": {},
   "outputs": [
    {
     "name": "stdout",
     "output_type": "stream",
     "text": [
      "The 99% VaR (Normal) is 2.68%\n",
      "The 99% CVaR (Normal) is 3.39%\n",
      "The 99% VaR (Student-t) is 2.20%\n",
      "The 99% CVaR (Student-t) is 4.92%\n"
     ]
    }
   ],
   "source": [
    "print(\"The 99% VaR (Normal) is {0:.2f}%\".format(VaR_n*100))\n",
    "print(\"The 99% CVaR (Normal) is {0:.2f}%\".format(CVaR_n*100))\n",
    "print(\"The 99% VaR (Student-t) is {0:.2f}%\".format(VaR_t*100))\n",
    "print(\"The 99% CVaR (Student-t) is {0:.2f}%\".format(CVaR_t*100))"
   ]
  },
  {
   "cell_type": "code",
   "execution_count": 15,
   "id": "ba6500b2",
   "metadata": {},
   "outputs": [
    {
     "data": {
      "image/png": "[encoded data removed]",
      "text/plain": [
       "<Figure size 792x432 with 2 Axes>"
      ]
     },
     "metadata": {},
     "output_type": "display_data"
    }
   ],
   "source": [
    "import seaborn as sns\n",
    "plt.figure(num=1, figsize=(11, 6))\n",
    "# main figure\n",
    "plt.hist(returns, bins=100, density=True, color='pink', edgecolor='white')\n",
    "plt.axis(\"tight\")\n",
    "plt.plot(x, pdf_n, 'steelblue', label=\"Normal PDF fit\")\n",
    "plt.axis(\"tight\")\n",
    "plt.plot(x, pdf_t, 'red', label=\"Student t PDF fit\")\n",
    "plt.xlim([min(returns)/2, max(returns)])\n",
    "plt.ylim([0, 50])\n",
    "plt.legend(loc=\"best\")\n",
    "plt.xlabel(\"Daily Returns of Stock(Source:Yahoo)\")\n",
    "plt.ylabel(\"Return Distribution\")\n",
    "# inset\n",
    "a = plt.axes([.22, .35, .3, .4])\n",
    "plt.hist(returns, bins=100, density=True, color='pink', edgecolor='white')\n",
    "plt.plot(x, pdf_n, 'steelblue')\n",
    "plt.plot(x, pdf_t, 'red')\n",
    "# Student VaR line\n",
    "plt.plot([-CVaR_t, -CVaR_t], [0, 1.2], c='red')\n",
    "# Normal VaR line\n",
    "plt.plot([-CVaR_n, -CVaR_n], [0, 1.6], c='steelblue')\n",
    "plt.text(-CVaR_n-0.015, 1.6, \"Norm CVaR\", color='steelblue')\n",
    "plt.text(-CVaR_t-0.0171, 1.2, \"Student t CVaR\", color='red')\n",
    "plt.xlim([-0.2, -0.02])\n",
    "plt.ylim([0, 2])\n",
    "plt.show()"
   ]
  },
  {
   "cell_type": "code",
   "execution_count": null,
   "id": "2ec8d184",
   "metadata": {},
   "outputs": [],
   "source": []
  }
 ],
 "metadata": {
  "kernelspec": {
   "display_name": "Python 3 (ipykernel)",
   "language": "python",
   "name": "python3"
  },
  "language_info": {
   "codemirror_mode": {
    "name": "ipython",
    "version": 3
   },
   "file_extension": ".py",
   "mimetype": "text/x-python",
   "name": "python",
   "nbconvert_exporter": "python",
   "pygments_lexer": "ipython3",
   "version": "3.8.12"
  }
 },
 "nbformat": 4,
 "nbformat_minor": 5
}
