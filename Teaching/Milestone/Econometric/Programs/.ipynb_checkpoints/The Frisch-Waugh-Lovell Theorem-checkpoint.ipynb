{
 "cells": [
  {
   "cell_type": "markdown",
   "id": "e5ea70f9",
   "metadata": {},
   "source": [
    "https://towardsdatascience.com/the-fwl-theorem-or-how-to-make-all-regressions-intuitive-59f801eb3299"
   ]
  },
  {
   "cell_type": "code",
   "execution_count": 2,
   "id": "6abfb1a5",
   "metadata": {},
   "outputs": [],
   "source": [
    "import numpy as np\n",
    "import matplotlib.pyplot as plt\n",
    "import random\n",
    "import pandas as pd\n",
    "import seaborn as sns\n",
    "import statsmodels.formula.api as smf"
   ]
  },
  {
   "cell_type": "code",
   "execution_count": 8,
   "id": "ec390378",
   "metadata": {},
   "outputs": [],
   "source": [
    "n = 100\n",
    "df = pd\n",
    "\n",
    "df = pd.DataFrame()\n",
    "\n",
    "#We make a list of incomes \n",
    "income = np.random.normal(1000,100,n)\n",
    "label1 = \"Income\"\n",
    "df[label1] = income.tolist()\n",
    "\n",
    "#We compute the spending of households\n",
    "spending = income*0.5 + np.random.normal(500,100,n)\n",
    "label2 = \"Spending\"\n",
    "df[label2] = spending.tolist()\n",
    "\n",
    "#We compute the spending of households\n",
    "popularity = income*0.6 + spending*0.7\n",
    "label3 = \"Popularity\"\n",
    "df[label3] = popularity.tolist()\n",
    "\n",
    "df['Lpopularity'] = np.log(popularity)\n",
    "df['Lincome'] = np.log(income)\n",
    "\n",
    "#We the minimum and maximum of variables so that it is easier to plot\n",
    "minimum = min([min(income),min(spending)])\n",
    "maximum = max([max(income),max(spending)])\n",
    "#This creates equal spaces between the minimum and maximum\n",
    "bins = np.linspace(minimum, maximum , 30)"
   ]
  },
  {
   "cell_type": "code",
   "execution_count": 9,
   "id": "a5c88c9a",
   "metadata": {},
   "outputs": [
    {
     "data": {
      "text/html": [
       "<div>\n",
       "<style scoped>\n",
       "    .dataframe tbody tr th:only-of-type {\n",
       "        vertical-align: middle;\n",
       "    }\n",
       "\n",
       "    .dataframe tbody tr th {\n",
       "        vertical-align: top;\n",
       "    }\n",
       "\n",
       "    .dataframe thead th {\n",
       "        text-align: right;\n",
       "    }\n",
       "</style>\n",
       "<table border=\"1\" class=\"dataframe\">\n",
       "  <thead>\n",
       "    <tr style=\"text-align: right;\">\n",
       "      <th></th>\n",
       "      <th>Income</th>\n",
       "      <th>Spending</th>\n",
       "      <th>Popularity</th>\n",
       "      <th>Lpopularity</th>\n",
       "      <th>Lincome</th>\n",
       "    </tr>\n",
       "  </thead>\n",
       "  <tbody>\n",
       "    <tr>\n",
       "      <th>0</th>\n",
       "      <td>985.626616</td>\n",
       "      <td>984.500588</td>\n",
       "      <td>591.375970</td>\n",
       "      <td>6.382452</td>\n",
       "      <td>6.893278</td>\n",
       "    </tr>\n",
       "    <tr>\n",
       "      <th>1</th>\n",
       "      <td>901.280922</td>\n",
       "      <td>831.779942</td>\n",
       "      <td>540.768553</td>\n",
       "      <td>6.292991</td>\n",
       "      <td>6.803817</td>\n",
       "    </tr>\n",
       "    <tr>\n",
       "      <th>2</th>\n",
       "      <td>1035.990754</td>\n",
       "      <td>1112.470599</td>\n",
       "      <td>621.594453</td>\n",
       "      <td>6.432288</td>\n",
       "      <td>6.943113</td>\n",
       "    </tr>\n",
       "    <tr>\n",
       "      <th>3</th>\n",
       "      <td>1034.520357</td>\n",
       "      <td>1037.927372</td>\n",
       "      <td>620.712214</td>\n",
       "      <td>6.430868</td>\n",
       "      <td>6.941693</td>\n",
       "    </tr>\n",
       "    <tr>\n",
       "      <th>4</th>\n",
       "      <td>1081.556799</td>\n",
       "      <td>1162.390539</td>\n",
       "      <td>648.934079</td>\n",
       "      <td>6.475331</td>\n",
       "      <td>6.986157</td>\n",
       "    </tr>\n",
       "    <tr>\n",
       "      <th>...</th>\n",
       "      <td>...</td>\n",
       "      <td>...</td>\n",
       "      <td>...</td>\n",
       "      <td>...</td>\n",
       "      <td>...</td>\n",
       "    </tr>\n",
       "    <tr>\n",
       "      <th>95</th>\n",
       "      <td>992.411398</td>\n",
       "      <td>804.099675</td>\n",
       "      <td>595.446839</td>\n",
       "      <td>6.389312</td>\n",
       "      <td>6.900138</td>\n",
       "    </tr>\n",
       "    <tr>\n",
       "      <th>96</th>\n",
       "      <td>1017.393126</td>\n",
       "      <td>929.566406</td>\n",
       "      <td>610.435876</td>\n",
       "      <td>6.414173</td>\n",
       "      <td>6.924999</td>\n",
       "    </tr>\n",
       "    <tr>\n",
       "      <th>97</th>\n",
       "      <td>1038.243368</td>\n",
       "      <td>955.480236</td>\n",
       "      <td>622.946021</td>\n",
       "      <td>6.434460</td>\n",
       "      <td>6.945285</td>\n",
       "    </tr>\n",
       "    <tr>\n",
       "      <th>98</th>\n",
       "      <td>1187.130645</td>\n",
       "      <td>1075.416599</td>\n",
       "      <td>712.278387</td>\n",
       "      <td>6.568469</td>\n",
       "      <td>7.079294</td>\n",
       "    </tr>\n",
       "    <tr>\n",
       "      <th>99</th>\n",
       "      <td>814.579169</td>\n",
       "      <td>964.214822</td>\n",
       "      <td>488.747501</td>\n",
       "      <td>6.191846</td>\n",
       "      <td>6.702672</td>\n",
       "    </tr>\n",
       "  </tbody>\n",
       "</table>\n",
       "<p>100 rows × 5 columns</p>\n",
       "</div>"
      ],
      "text/plain": [
       "         Income     Spending  Popularity  Lpopularity   Lincome\n",
       "0    985.626616   984.500588  591.375970     6.382452  6.893278\n",
       "1    901.280922   831.779942  540.768553     6.292991  6.803817\n",
       "2   1035.990754  1112.470599  621.594453     6.432288  6.943113\n",
       "3   1034.520357  1037.927372  620.712214     6.430868  6.941693\n",
       "4   1081.556799  1162.390539  648.934079     6.475331  6.986157\n",
       "..          ...          ...         ...          ...       ...\n",
       "95   992.411398   804.099675  595.446839     6.389312  6.900138\n",
       "96  1017.393126   929.566406  610.435876     6.414173  6.924999\n",
       "97  1038.243368   955.480236  622.946021     6.434460  6.945285\n",
       "98  1187.130645  1075.416599  712.278387     6.568469  7.079294\n",
       "99   814.579169   964.214822  488.747501     6.191846  6.702672\n",
       "\n",
       "[100 rows x 5 columns]"
      ]
     },
     "execution_count": 9,
     "metadata": {},
     "output_type": "execute_result"
    }
   ],
   "source": [
    "df"
   ]
  },
  {
   "cell_type": "code",
   "execution_count": 10,
   "id": "26192704",
   "metadata": {},
   "outputs": [
    {
     "data": {
      "text/plain": [
       "Text(0.5, 1.0, 'Income and spending')"
      ]
     },
     "execution_count": 10,
     "metadata": {},
     "output_type": "execute_result"
    },
    {
     "data": {
      "image/png": "[encoded data removed]",
      "text/plain": [
       "<Figure size 432x288 with 1 Axes>"
      ]
     },
     "metadata": {
      "needs_background": "light"
     },
     "output_type": "display_data"
    }
   ],
   "source": [
    "sns.regplot(x=\"Income\", y=\"Spending\", data = df, ci=False, line_kws={'color':'r', 'label':'linear fit'})\n",
    "plt.legend()\n",
    "plt.title(\"Income and spending\")"
   ]
  },
  {
   "cell_type": "code",
   "execution_count": 11,
   "id": "af57be90",
   "metadata": {},
   "outputs": [
    {
     "data": {
      "text/html": [
       "<table class=\"simpletable\">\n",
       "<tr>\n",
       "      <td></td>         <th>coef</th>     <th>std err</th>      <th>t</th>      <th>P>|t|</th>  <th>[0.025</th>    <th>0.975]</th>  \n",
       "</tr>\n",
       "<tr>\n",
       "  <th>Intercept</th> <td>   -0.5108</td> <td> 2.74e-13</td> <td>-1.86e+12</td> <td> 0.000</td> <td>   -0.511</td> <td>   -0.511</td>\n",
       "</tr>\n",
       "<tr>\n",
       "  <th>spending</th>  <td>-2.255e-17</td> <td> 3.28e-17</td> <td>   -0.687</td> <td> 0.494</td> <td>-8.77e-17</td> <td> 4.26e-17</td>\n",
       "</tr>\n",
       "<tr>\n",
       "  <th>Lincome</th>   <td>    1.0000</td> <td> 4.14e-14</td> <td> 2.42e+13</td> <td> 0.000</td> <td>    1.000</td> <td>    1.000</td>\n",
       "</tr>\n",
       "</table>"
      ],
      "text/plain": [
       "<class 'statsmodels.iolib.table.SimpleTable'>"
      ]
     },
     "execution_count": 11,
     "metadata": {},
     "output_type": "execute_result"
    }
   ],
   "source": [
    "#Normal two variable estimation\n",
    "smf.ols('Lpopularity ~ spending + Lincome', df).fit().summary().tables[1]\n"
   ]
  },
  {
   "cell_type": "code",
   "execution_count": 20,
   "id": "978c44f9",
   "metadata": {},
   "outputs": [
    {
     "data": {
      "text/html": [
       "<table class=\"simpletable\">\n",
       "<tr>\n",
       "      <td></td>         <th>coef</th>     <th>std err</th>      <th>t</th>      <th>P>|t|</th>  <th>[0.025</th>    <th>0.975]</th>  \n",
       "</tr>\n",
       "<tr>\n",
       "  <th>Intercept</th> <td>  311.6058</td> <td>  101.576</td> <td>    3.068</td> <td> 0.003</td> <td>  110.031</td> <td>  513.180</td>\n",
       "</tr>\n",
       "<tr>\n",
       "  <th>income</th>    <td>    0.6901</td> <td>    0.102</td> <td>    6.750</td> <td> 0.000</td> <td>    0.487</td> <td>    0.893</td>\n",
       "</tr>\n",
       "</table>"
      ],
      "text/plain": [
       "<class 'statsmodels.iolib.table.SimpleTable'>"
      ]
     },
     "execution_count": 20,
     "metadata": {},
     "output_type": "execute_result"
    }
   ],
   "source": [
    "#Regress spending on income\n",
    "smf.ols('spending ~ income', df).fit().summary().tables[1]"
   ]
  },
  {
   "cell_type": "code",
   "execution_count": 22,
   "id": "cba54fcd",
   "metadata": {},
   "outputs": [
    {
     "data": {
      "text/html": [
       "<table class=\"simpletable\">\n",
       "<tr>\n",
       "         <td></td>           <th>coef</th>     <th>std err</th>      <th>t</th>      <th>P>|t|</th>  <th>[0.025</th>    <th>0.975]</th>  \n",
       "</tr>\n",
       "<tr>\n",
       "  <th>Intercept</th>      <td> 1289.4555</td> <td>   10.274</td> <td>  125.510</td> <td> 0.000</td> <td> 1269.068</td> <td> 1309.843</td>\n",
       "</tr>\n",
       "<tr>\n",
       "  <th>spending_tilde</th> <td>    0.7000</td> <td>    0.108</td> <td>    6.475</td> <td> 0.000</td> <td>    0.485</td> <td>    0.915</td>\n",
       "</tr>\n",
       "</table>"
      ],
      "text/plain": [
       "<class 'statsmodels.iolib.table.SimpleTable'>"
      ]
     },
     "execution_count": 22,
     "metadata": {},
     "output_type": "execute_result"
    }
   ],
   "source": [
    "#Use the spending on income regression to construct the u hat\n",
    "df['spending_tilde'] = smf.ols('spending ~ income', df).fit().resid\n",
    "\n",
    "#Use the u hat to get the regression\n",
    "smf.ols('Popularity ~ spending_tilde ', df).fit().summary().tables[1]"
   ]
  },
  {
   "cell_type": "code",
   "execution_count": 25,
   "id": "3955c77d",
   "metadata": {},
   "outputs": [
    {
     "data": {
      "text/html": [
       "<table class=\"simpletable\">\n",
       "<tr>\n",
       "         <td></td>           <th>coef</th>     <th>std err</th>      <th>t</th>      <th>P>|t|</th>  <th>[0.025</th>    <th>0.975]</th>  \n",
       "</tr>\n",
       "<tr>\n",
       "  <th>Intercept</th>      <td>-1.528e-13</td> <td> 1.34e-14</td> <td>  -11.424</td> <td> 0.000</td> <td>-1.79e-13</td> <td>-1.26e-13</td>\n",
       "</tr>\n",
       "<tr>\n",
       "  <th>spending_tilde</th> <td>    0.7000</td> <td> 1.41e-16</td> <td> 4.97e+15</td> <td> 0.000</td> <td>    0.700</td> <td>    0.700</td>\n",
       "</tr>\n",
       "</table>"
      ],
      "text/plain": [
       "<class 'statsmodels.iolib.table.SimpleTable'>"
      ]
     },
     "execution_count": 25,
     "metadata": {},
     "output_type": "execute_result"
    }
   ],
   "source": [
    "#Lets try the opposite way\n",
    "df['popularity_tilde'] = smf.ols('popularity ~ income', df).fit().resid\n",
    "smf.ols('popularity_tilde ~ spending_tilde ', df).fit().summary().tables[1]\n"
   ]
  },
  {
   "cell_type": "code",
   "execution_count": 31,
   "id": "08a2f2d9",
   "metadata": {},
   "outputs": [
    {
     "data": {
      "image/png": "[encoded data removed]",
      "text/plain": [
       "<Figure size 432x288 with 1 Axes>"
      ]
     },
     "metadata": {
      "needs_background": "light"
     },
     "output_type": "display_data"
    }
   ],
   "source": [
    "\n",
    "df[\"popularity_tilde\"] = smf.ols('popularity ~ income', df).fit().predict()\n",
    "\n",
    "ax = sns.regplot(x=\"Income\", y=\"Popularity\", data=df, ci=False, line_kws={'color':'r', 'label':'linear fit'})\n",
    "\n",
    "ax.vlines(df[\"Income\"], \n",
    "   np.minimum(df[\"Popularity\"], df[\"popularity_tilde\"]), \n",
    "   np.maximum(df[\"Popularity\"], df[\"popularity_tilde\"]), \n",
    "   linestyle='--', color='k', alpha=0.5, linewidth=1, label=\"residuals\")\n",
    "\n",
    "plt.legend()\n",
    "plt.title(f\"Coupons usage, income and residuals\");"
   ]
  },
  {
   "cell_type": "code",
   "execution_count": null,
   "id": "3fe38c54",
   "metadata": {},
   "outputs": [],
   "source": []
  }
 ],
 "metadata": {
  "kernelspec": {
   "display_name": "Python 3 (ipykernel)",
   "language": "python",
   "name": "python3"
  },
  "language_info": {
   "codemirror_mode": {
    "name": "ipython",
    "version": 3
   },
   "file_extension": ".py",
   "mimetype": "text/x-python",
   "name": "python",
   "nbconvert_exporter": "python",
   "pygments_lexer": "ipython3",
   "version": "3.8.12"
  }
 },
 "nbformat": 4,
 "nbformat_minor": 5
}
