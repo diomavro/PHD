{
 "cells": [
  {
   "cell_type": "code",
   "execution_count": 1,
   "metadata": {},
   "outputs": [
    {
     "name": "stdout",
     "output_type": "stream",
     "text": [
      "   Interest Rate  Loan Term  Default Rate  Default Probability\n",
      "0           0.05          5          0.03                  0.0\n",
      "1           0.06         10          0.05                  1.0\n",
      "2           0.07         15          0.08                  0.0\n",
      "3           0.08         20          0.10                  0.0\n",
      "4           0.09         25          0.11                  1.0\n",
      "5           0.10         30          0.12                  0.0\n",
      "6           0.11         35          0.16                  1.0\n"
     ]
    }
   ],
   "source": [
    "import numpy as np\n",
    "import pandas as pd\n",
    "\n",
    "def vasicek_irb(r, a, b, sigma, t, n=12):\n",
    "    \"\"\"\n",
    "    Function to simulate default probabilities using the Vasicek IRB model\n",
    "    \"\"\"\n",
    "    dt = t/n\n",
    "    r_sim  = np.zeros(n+1)\n",
    "    r_sim [0] = r\n",
    "    for i in range(1, n+1):\n",
    "        r_sim [i] = r_sim[i-1] + a*(b-r_sim[i-1])*dt + sigma*np.sqrt(dt)*np.random.normal()\n",
    "    return r_sim\n",
    "\n",
    "# Read loan data from CSV file\n",
    "loan_data = pd.read_csv(\"loan_data.csv\")\n",
    "\n",
    "# Assign parameter values for the Vasicek IRB model\n",
    "a = 0.1\n",
    "b = 0.04\n",
    "sigma = 0.02\n",
    "\n",
    "# Calculate default probabilities for each loan\n",
    "default_probs = []\n",
    "for index, row in loan_data.iterrows():\n",
    "    r = row[\"Interest Rate\"]\n",
    "    t = row[\"Loan Term\"]\n",
    "    r_sim = vasicek_irb(r, a, b, sigma, t)\n",
    "    default_prob = np.mean(r_sim[-1] < r)\n",
    "    default_probs.append(default_prob)\n",
    "\n",
    "# Add default probabilities to loan data\n",
    "loan_data[\"Default Probability\"] = default_probs\n",
    "\n",
    "# Print results\n",
    "print(loan_data)\n"
   ]
  },
  {
   "cell_type": "code",
   "execution_count": 2,
   "metadata": {},
   "outputs": [
    {
     "name": "stdout",
     "output_type": "stream",
     "text": [
      "   Interest Rate  Loan Term  Default Rate  Default Probability\n",
      "0           0.05          5          0.03                  1.0\n",
      "1           0.06         10          0.05                  1.0\n",
      "2           0.07         15          0.08                  0.0\n",
      "3           0.08         20          0.10                  0.0\n",
      "4           0.09         25          0.11                  1.0\n",
      "5           0.10         30          0.12                  1.0\n",
      "6           0.11         35          0.16                  1.0\n"
     ]
    }
   ],
   "source": [
    "from scipy.optimize import minimize\n",
    "\n",
    "# Define a function to calculate the error between simulated and actual default rates\n",
    "def calc_error(params, loan_data):\n",
    "    a, b, sigma = params\n",
    "    default_probs = []\n",
    "    for index, row in loan_data.iterrows():\n",
    "        r = row[\"Interest Rate\"]\n",
    "        t = row[\"Loan Term\"]\n",
    "        r_sim = vasicek_irb(r, a, b, sigma, t)\n",
    "        default_prob = np.mean(r_sim[-1] < r)\n",
    "        default_probs.append(default_prob)\n",
    "    error = np.mean((default_probs - loan_data[\"Default Rate\"])**2)\n",
    "    return error\n",
    "\n",
    "# Initial guess for parameters\n",
    "params_init = [0.1, 0.04, 0.02]\n",
    "\n",
    "# Optimize parameters\n",
    "params_opt = minimize(calc_error, params_init, args=(loan_data,), method='BFGS')\n",
    "\n",
    "# Extract optimized parameter values\n",
    "a_opt, b_opt, sigma_opt = params_opt.x\n",
    "\n",
    "# Use the optimized parameters to calculate default probabilities\n",
    "default_probs = []\n",
    "for index, row in loan_data.iterrows():\n",
    "    r = row[\"Interest Rate\"]\n",
    "    t = row[\"Loan Term\"]\n",
    "    r_sim = vasicek_irb(r, a_opt, b_opt, sigma_opt, t)\n",
    "    default_prob = np.mean(r_sim[-1] < r)\n",
    "    default_probs.append(default_prob)\n",
    "\n",
    "# Add default probabilities to loan data\n",
    "loan_data[\"Default Probability\"] = default_probs\n",
    "\n",
    "# Print results\n",
    "print(loan_data)\n"
   ]
  }
 ],
 "metadata": {
  "kernelspec": {
   "display_name": "Python 3",
   "language": "python",
   "name": "python3"
  },
  "language_info": {
   "codemirror_mode": {
    "name": "ipython",
    "version": 3
   },
   "file_extension": ".py",
   "mimetype": "text/x-python",
   "name": "python",
   "nbconvert_exporter": "python",
   "pygments_lexer": "ipython3",
   "version": "3.11.1"
  },
  "orig_nbformat": 4,
  "vscode": {
   "interpreter": {
    "hash": "88c7dfc1309ce0f5bf9d7c6e7b9193a9c521273000b555bb9999f8300dc317d0"
   }
  }
 },
 "nbformat": 4,
 "nbformat_minor": 2
}
