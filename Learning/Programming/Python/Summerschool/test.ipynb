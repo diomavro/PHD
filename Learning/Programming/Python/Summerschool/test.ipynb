{
 "cells": [
  {
   "cell_type": "code",
   "execution_count": 42,
   "metadata": {},
   "outputs": [
    {
     "data": {
      "text/plain": [
       "array([[[0., 0., 0., 0., 0., 0., 0.],\n",
       "        [0., 0., 0., 0., 0., 0., 0.],\n",
       "        [0., 0., 0., 0., 0., 0., 0.],\n",
       "        [0., 0., 0., 0., 0., 0., 0.],\n",
       "        [0., 0., 0., 0., 0., 0., 0.]],\n",
       "\n",
       "       [[0., 0., 0., 0., 0., 0., 0.],\n",
       "        [0., 0., 0., 0., 0., 0., 0.],\n",
       "        [0., 0., 0., 0., 0., 0., 0.],\n",
       "        [0., 0., 0., 0., 0., 0., 0.],\n",
       "        [0., 0., 0., 0., 0., 0., 0.]],\n",
       "\n",
       "       [[0., 0., 0., 0., 0., 0., 0.],\n",
       "        [0., 0., 0., 0., 0., 0., 0.],\n",
       "        [0., 0., 0., 0., 0., 0., 0.],\n",
       "        [0., 0., 0., 0., 0., 0., 0.],\n",
       "        [0., 0., 0., 0., 0., 0., 0.]]])"
      ]
     },
     "execution_count": 42,
     "metadata": {},
     "output_type": "execute_result"
    }
   ],
   "source": [
    "from pylab import *\n",
    "from numpy import *\n",
    "a = zeros((3,4))\n",
    "ocean = zeros((3,5,7))\n",
    "ocean"
   ]
  },
  {
   "cell_type": "code",
   "execution_count": 24,
   "metadata": {},
   "outputs": [
    {
     "data": {
      "text/plain": [
       "[1, 2]"
      ]
     },
     "execution_count": 24,
     "metadata": {},
     "output_type": "execute_result"
    }
   ],
   "source": [
    "range(1,3)"
   ]
  },
  {
   "cell_type": "code",
   "execution_count": 45,
   "metadata": {},
   "outputs": [],
   "source": [
    "import collections\n",
    "\n",
    "# Function bfs(,)\n",
    "# input = grid, starting position, end position\n",
    "# output = list of cells visited in shortest path\n",
    "\n",
    "def bfs(grid, start): #start = (col, row)\n",
    "    queue = collections.deque([[start]]) # deque: Build an ordered collection with optimized access from its endpoints.\n",
    "    seen = set([start])\n",
    "    while queue:\n",
    "        path = queue.popleft() # Remove and return the leftmost element\n",
    "        x, y = path[-1]\n",
    "        if grid[y][x] == goal:\n",
    "            return path\n",
    "        for x2, y2 in ((x+1,y), (x-1,y), (x,y+1), (x,y-1)):\n",
    "            if 0 <= x2 < width and 0 <= y2 < height and grid[y2][x2] != wall and (x2, y2) not in seen:\n",
    "                queue.append(path + [(x2, y2)])\n",
    "                seen.add((x2, y2))"
   ]
  },
  {
   "cell_type": "code",
   "execution_count": 47,
   "metadata": {},
   "outputs": [],
   "source": [
    "# nb of cells left to visit\n",
    "# initially:\n",
    "#nb_left_to_col = sqnum - 2\n",
    "\n",
    "# Define our inputs\n",
    "wall, clear, goal = \"#\", \".\", \"*\"\n",
    "#width, height = base, base\n",
    "width, height = 10, 5\n",
    "initpos = (5, 2)\n",
    "'''\n",
    "grid = [\"..........\",\n",
    "        \"..*#...##.\",\n",
    "        \"..##...#*.\",\n",
    "        \".....###..\",\n",
    "        \"......*...\"]\n",
    "'''\n",
    "ocean = zeros((3,base,base))  # (z = depth, x = rows, y = cols)\n",
    "for each x in ocean: \n",
    "    \n",
    "\n",
    "grid = [\"....*.*...\",\n",
    "        \"..*#...##.\",\n",
    "        \"..##...#*.\",\n",
    "        \".....###..\",\n",
    "        \"......*...\"]\n"
   ]
  },
  {
   "cell_type": "code",
   "execution_count": null,
   "metadata": {},
   "outputs": [],
   "source": [
    "# Compute shortest path\n",
    "path = bfs(grid, start = initpos) # type(path) --> \"list\"\n",
    "# Length\n",
    "length_path = len(path) - 2\n",
    "\n",
    "\n",
    "\n",
    "while nb_left_to_col > 0:\n",
    "\n",
    "if length_path == nb_left_to_col:\n",
    "    final_path.append(path)\n",
    "    # and path over\n",
    "    \n",
    "    \n",
    "elif length_path < nb_left_to_col:\n",
    "    # must diverge from shortest path\n",
    "    \n",
    "elif length_path > nb_left_to_col:\n",
    "    # must take as hortcut: make next footstep a diagonal in direction of exit"
   ]
  },
  {
   "cell_type": "code",
   "execution_count": 50,
   "metadata": {},
   "outputs": [
    {
     "data": {
      "text/plain": [
       "[(5, 2), (6, 2), (6, 1), (6, 0)]"
      ]
     },
     "execution_count": 50,
     "metadata": {},
     "output_type": "execute_result"
    }
   ],
   "source": [
    "path = bfs(grid, start = initpos)\n",
    "path"
   ]
  },
  {
   "cell_type": "code",
   "execution_count": null,
   "metadata": {},
   "outputs": [],
   "source": []
  },
  {
   "cell_type": "code",
   "execution_count": null,
   "metadata": {},
   "outputs": [],
   "source": []
  },
  {
   "cell_type": "code",
   "execution_count": null,
   "metadata": {},
   "outputs": [],
   "source": []
  }
 ],
 "metadata": {
  "kernelspec": {
   "display_name": "Python 2",
   "language": "python",
   "name": "python2"
  },
  "language_info": {
   "codemirror_mode": {
    "name": "ipython",
    "version": 2
   },
   "file_extension": ".py",
   "mimetype": "text/x-python",
   "name": "python",
   "nbconvert_exporter": "python",
   "pygments_lexer": "ipython2",
   "version": "2.7.15"
  }
 },
 "nbformat": 4,
 "nbformat_minor": 2
}
