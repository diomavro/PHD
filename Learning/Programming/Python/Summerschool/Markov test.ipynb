{
 "cells": [
  {
   "cell_type": "code",
   "execution_count": null,
   "metadata": {},
   "outputs": [],
   "source": [
    "states = [\"One\",\"Two\",\"Three\"]"
   ]
  },
  {
   "cell_type": "code",
   "execution_count": 5,
   "metadata": {},
   "outputs": [
    {
     "name": "stdout",
     "output_type": "stream",
     "text": [
      "[[0. 2. 1.]\n",
      " [1. 2. 1.]\n",
      " [2. 0. 0.]]\n"
     ]
    },
    {
     "data": {
      "text/plain": [
       "array([[0., 2., 1.],\n",
       "       [1., 2., 1.],\n",
       "       [2., 0., 0.]])"
      ]
     },
     "execution_count": 5,
     "metadata": {},
     "output_type": "execute_result"
    }
   ],
   "source": [
    "import numpy as np\n",
    "from collections import Counter\n",
    "a = [2, 1, 3, 1, 2, 3, 1, 2, 2, 2]\n",
    "b = np.zeros((3,3))\n",
    "for (x,y), c in Counter(zip(a, a[1:])).iteritems():\n",
    "    b[x-1,y-1] = c\n",
    "print b\n",
    "np.array([[ 0.,  2.,  1.],\n",
    "       [ 1.,  2.,  1.],\n",
    "       [ 2.,  0.,  0.]])"
   ]
  },
  {
   "cell_type": "code",
   "execution_count": 23,
   "metadata": {},
   "outputs": [],
   "source": [
    "import numpy as np\n",
    "import csv\n",
    "import pylab "
   ]
  },
  {
   "cell_type": "code",
   "execution_count": 13,
   "metadata": {},
   "outputs": [],
   "source": [
    "f = open('C:\\Users\\DavidEttinger02\\Downloads\\\\Book1 (1).csv','r')\n",
    "fcsv = csv.reader(f)\n",
    "data = [row for row in fcsv]\n",
    "f.close()"
   ]
  },
  {
   "cell_type": "code",
   "execution_count": 19,
   "metadata": {},
   "outputs": [],
   "source": [
    "b = np.random.randint(4, size=(5, 10))"
   ]
  },
  {
   "cell_type": "code",
   "execution_count": null,
   "metadata": {},
   "outputs": [],
   "source": [
    "b = np.random.randint(4, size=(5, 1))"
   ]
  },
  {
   "cell_type": "code",
   "execution_count": null,
   "metadata": {},
   "outputs": [],
   "source": []
  },
  {
   "cell_type": "code",
   "execution_count": 11,
   "metadata": {},
   "outputs": [],
   "source": [
    "b = [0,1,3,2,1,2,2,1,2]\n",
    "c = [0,2,3,1,1,2,2,3,3]\n",
    "d = [0,2,3,1,1,1,2,3,2]"
   ]
  },
  {
   "cell_type": "code",
   "execution_count": 20,
   "metadata": {},
   "outputs": [],
   "source": [
    "def get_transitions_from_star_list(a):\n",
    "\n",
    "    b = [(a[i], a[i+1]) for i in range(len(a)-1)]\n",
    "\n",
    "    m = np.zeros((4,4))\n",
    "\n",
    "    for tup in b:\n",
    "\n",
    "        i, j = tup\n",
    "\n",
    "        i, j = int(i), int(j)\n",
    "\n",
    "        m[i, j] = m[i,j] + 1\n",
    "\n",
    "    return m\n",
    "\n",
    "\n",
    "m = np.zeros((4,4))\n",
    "\n",
    "\n",
    "for row in b:\n",
    "\n",
    "    m = m + get_transitions_from_star_list(row)\n",
    "\n",
    "\n",
    "for i in range(m.shape[0]):\n",
    "\n",
    "    m[i] = m[i]/(sum(m[i]))"
   ]
  },
  {
   "cell_type": "code",
   "execution_count": 21,
   "metadata": {},
   "outputs": [
    {
     "data": {
      "text/plain": [
       "array([[0.26666667, 0.26666667, 0.2       , 0.26666667],\n",
       "       [0.3       , 0.2       , 0.2       , 0.3       ],\n",
       "       [0.71428571, 0.        , 0.        , 0.28571429],\n",
       "       [0.15384615, 0.38461538, 0.15384615, 0.30769231]])"
      ]
     },
     "execution_count": 21,
     "metadata": {},
     "output_type": "execute_result"
    }
   ],
   "source": [
    "m"
   ]
  },
  {
   "cell_type": "code",
   "execution_count": 25,
   "metadata": {},
   "outputs": [
    {
     "data": {
      "text/plain": [
       "(array([ 1.        ,  0.07585881, -0.17340958, -0.12809026]),\n",
       " array([[ 0.60627069,  0.79103705, -0.72910405,  0.66723301],\n",
       "        [ 0.47290279, -0.45723481,  0.64226089, -0.72218992],\n",
       "        [ 0.30249471,  0.06706976,  0.20487957, -0.09848124],\n",
       "        [ 0.56329012, -0.400872  , -0.11803642,  0.15343815]]))"
      ]
     },
     "execution_count": 25,
     "metadata": {},
     "output_type": "execute_result"
    }
   ],
   "source": [
    "pylab.eig(m.T)"
   ]
  },
  {
   "cell_type": "code",
   "execution_count": null,
   "metadata": {},
   "outputs": [],
   "source": []
  }
 ],
 "metadata": {
  "kernelspec": {
   "display_name": "Python 2",
   "language": "python",
   "name": "python2"
  },
  "language_info": {
   "codemirror_mode": {
    "name": "ipython",
    "version": 2
   },
   "file_extension": ".py",
   "mimetype": "text/x-python",
   "name": "python",
   "nbconvert_exporter": "python",
   "pygments_lexer": "ipython2",
   "version": "2.7.15"
  }
 },
 "nbformat": 4,
 "nbformat_minor": 2
}
