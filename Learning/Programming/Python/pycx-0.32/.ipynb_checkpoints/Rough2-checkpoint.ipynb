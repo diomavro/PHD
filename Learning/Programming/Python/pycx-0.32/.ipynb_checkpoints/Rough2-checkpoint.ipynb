{
 "cells": [
  {
   "cell_type": "markdown",
   "metadata": {},
   "source": [
    "## Scalar choice"
   ]
  },
  {
   "cell_type": "code",
   "execution_count": 2,
   "metadata": {},
   "outputs": [],
   "source": [
    "% matplotlib inline\n",
    "from pylab import *"
   ]
  },
  {
   "cell_type": "code",
   "execution_count": null,
   "metadata": {},
   "outputs": [],
   "source": [
    "boom = rand(5,5)\n",
    "sum"
   ]
  },
  {
   "cell_type": "code",
   "execution_count": null,
   "metadata": {},
   "outputs": [],
   "source": [
    "z"
   ]
  },
  {
   "cell_type": "code",
   "execution_count": 28,
   "metadata": {},
   "outputs": [
    {
     "ename": "IndentationError",
     "evalue": "unexpected indent (<ipython-input-28-9c135b3ebd6b>, line 31)",
     "output_type": "error",
     "traceback": [
      "\u001b[1;36m  File \u001b[1;32m\"<ipython-input-28-9c135b3ebd6b>\"\u001b[1;36m, line \u001b[1;32m31\u001b[0m\n\u001b[1;33m    for t in xrange(50):\u001b[0m\n\u001b[1;37m    ^\u001b[0m\n\u001b[1;31mIndentationError\u001b[0m\u001b[1;31m:\u001b[0m unexpected indent\n"
     ]
    }
   ],
   "source": [
    "n = 160\n",
    "i = 0\n",
    "p = [i]\n",
    "m = [0]\n",
    "\n",
    "def init(p):\n",
    "    global config, nextconfig\n",
    "    config = zeros([n,n]) ## matrix n by n of zeroes\n",
    "    nextconfig = zeros([n,n])\n",
    "    for x in xrange(n):\n",
    "        for y in xrange(n):\n",
    "            config[x,y] = 1 if random () < p else 0\n",
    "\n",
    "def update():\n",
    "    global config, nextconfig\n",
    "    for x in xrange(n):\n",
    "        for y in xrange(n):\n",
    "            c= sum(config[(x+dx)%n,(y+dy)%n] for dx in [-1,0,1] for dy in [-1,0,1]) \n",
    "            # use c and config[x,y]\n",
    "            nextconfig[x,y]= 1 if c > 3 else 0\n",
    "            # Calculate values in next config\n",
    "    config, nextconfig = nextconfig, config\n",
    "            \n",
    "            #for dx in range(-1, 1+1)\n",
    "             #   for dy in range(-1,1+1)\n",
    "\n",
    "def observe():\n",
    "    imshow(config)\n",
    "\n",
    "init(0.25)\n",
    "for t in xrange(50):\n",
    "    update()\n",
    "    if t % 10 ==0:\n",
    "        observe()\n",
    "        show()\n",
    "\n",
    "ps = []\n",
    "ds = []\n",
    "for p in arange(0,1,0.1):\n",
    "    print p,\n",
    "    init(p)\n",
    "    for t in xrange(30):\n",
    "        update()\n",
    "    ps.append(p)\n",
    "    ds.append(mean(config))\n",
    "\n",
    "plot(ps,ds)\n",
    "\n",
    "# observe()"
   ]
  },
  {
   "cell_type": "markdown",
   "metadata": {},
   "source": [
    "init(i)\n",
    "for g in xrange(20):\n",
    "    global config, nextconfig\n",
    "    m.append(mean(config)) \n",
    "    for t in xrange(10):\n",
    "        update()\n",
    "    i=i+0.05\n",
    "    p.append(i)\n"
   ]
  }
 ],
 "metadata": {
  "kernelspec": {
   "display_name": "Python 2",
   "language": "python",
   "name": "python2"
  },
  "language_info": {
   "codemirror_mode": {
    "name": "ipython",
    "version": 2
   },
   "file_extension": ".py",
   "mimetype": "text/x-python",
   "name": "python",
   "nbconvert_exporter": "python",
   "pygments_lexer": "ipython2",
   "version": "2.7.15"
  }
 },
 "nbformat": 4,
 "nbformat_minor": 2
}
