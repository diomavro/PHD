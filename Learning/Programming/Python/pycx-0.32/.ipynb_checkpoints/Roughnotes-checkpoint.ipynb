{
 "cells": [
  {
   "cell_type": "markdown",
   "metadata": {},
   "source": []
  },
  {
   "cell_type": "code",
   "execution_count": 2,
   "metadata": {},
   "outputs": [],
   "source": [
    "%matplotlib inline\n",
    "from pylab import *"
   ]
  },
  {
   "cell_type": "code",
   "execution_count": 6,
   "metadata": {},
   "outputs": [],
   "source": [
    "#x_t+1 = a x_t (1-x_t)\n",
    "a = 3.1\n",
    "data = [x]\n",
    "\n",
    "def init():\n",
    "    global x\n",
    "    x = 0.1\n",
    "\n",
    "def update():\n",
    "    global x\n",
    "    x = a*x*(1-x)\n",
    "\n",
    "init()\n",
    "for t in xrange(100):\n",
    "    update()\n",
    "\n",
    "\n",
    "#def observe():"
   ]
  },
  {
   "cell_type": "code",
   "execution_count": null,
   "metadata": {},
   "outputs": [],
   "source": []
  }
 ],
 "metadata": {
  "kernelspec": {
   "display_name": "Python 2",
   "language": "python",
   "name": "python2"
  },
  "language_info": {
   "codemirror_mode": {
    "name": "ipython",
    "version": 2
   },
   "file_extension": ".py",
   "mimetype": "text/x-python",
   "name": "python",
   "nbconvert_exporter": "python",
   "pygments_lexer": "ipython2",
   "version": "2.7.15"
  }
 },
 "nbformat": 4,
 "nbformat_minor": 2
}
