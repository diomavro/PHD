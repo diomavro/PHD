{
 "cells": [
  {
   "cell_type": "code",
   "execution_count": null,
   "metadata": {},
   "outputs": [],
   "source": [
    "%matplotlib\n",
    "\n",
    "from pylab import *\n",
    "from matplotlib.animation import FuncAnimation\n",
    "import networkx as nx\n",
    "\n",
    "def init():\n",
    "    global g\n",
    "    g = nx.read_gml('lesmis.gml')\n",
    "    for n in g.nodes:\n",
    "        g.nodes[n]['state'] = 0\n",
    "        g.nodes['next'] = 0\n",
    "    g.nodes['Valjean']['state'] = 1\n",
    "    positions =  nx.spring_layout(g)\n",
    "\n",
    "def update():\n",
    "    pass \n",
    "\n",
    "def init_fig():\n",
    "    global fig, viz\n",
    "    fig = figure()\n",
    "    viz = nx.draw(g, with_label = True, \\\n",
    "                  node_color = ['g' if g.nodes[n]['state'] == 0 \\\n",
    "                                else 'r' for n in g.nodes])\n",
    "\n",
    "def observe():\n",
    "    \n",
    "    viz= nx.draw(g, with_label = True, \\\n",
    "                  node_color = ['g' if g.nodes[n]['state'] == 0 \\\n",
    "                                else 'r' for n in g.nodes])\n",
    "\n",
    "################################\n",
    "init()\n",
    "init_fig()\n",
    "def step(t):\n",
    "    update()\n",
    "    observe()\n",
    "    return [viz0, viz1]\n",
    "ani = FuncAnimation(fig, step, interval=0, blit=false)\n",
    "show()"
   ]
  },
  {
   "cell_type": "code",
   "execution_count": null,
   "metadata": {},
   "outputs": [],
   "source": []
  }
 ],
 "metadata": {
  "kernelspec": {
   "display_name": "Python 2",
   "language": "python",
   "name": "python2"
  },
  "language_info": {
   "codemirror_mode": {
    "name": "ipython",
    "version": 2
   },
   "file_extension": ".py",
   "mimetype": "text/x-python",
   "name": "python",
   "nbconvert_exporter": "python",
   "pygments_lexer": "ipython2",
   "version": "2.7.15"
  }
 },
 "nbformat": 4,
 "nbformat_minor": 2
}
