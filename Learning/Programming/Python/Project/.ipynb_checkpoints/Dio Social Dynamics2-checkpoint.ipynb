{
 "cells": [
  {
   "cell_type": "markdown",
   "metadata": {},
   "source": []
  },
  {
   "cell_type": "code",
   "execution_count": 19,
   "metadata": {},
   "outputs": [],
   "source": [
    "import matplotlib\n",
    "matplotlib.use('Qt5Agg')\n",
    "\n",
    "from pylab import *\n",
    "from matplotlib.animation import FuncAnimation\n",
    "import networkx as nx\n",
    "import random as rd"
   ]
  },
  {
   "cell_type": "code",
   "execution_count": 28,
   "metadata": {},
   "outputs": [],
   "source": [
    "def init():\n",
    "    global g, positions, s\n",
    "    g = nx.karate_club_graph()\n",
    "    for i in g:\n",
    "        g.node[i]['state'] = 1 if random() < .5 else 0\n",
    "        if g.node[i]['state']=1: #### Changes!\n",
    "            g.node[i]['bias'] = -1 #### Changes!\n",
    "        else: #### Changes!\n",
    "            g.node[i]['bias'] = 1#### Changes!\n",
    "    s=rd.choice(list(g.node())) #### Changes! THis is the stubborn guy\n",
    "    positions = nx.spring_layout(g)\n",
    "    \n",
    "def update():\n",
    "    global g\n",
    "    listener = rd.choice(list(g.nodes()))\n",
    "    speaker = rd.choice(list(g.neighbors(listener)))\n",
    "    if listener != s:#### Changes!\n",
    "        if g.node[listener]['bias'] = 0\n",
    "            g.node[listener]['state'] = g.node[speaker]['state']\n",
    "            if g.node[speaker]['state'] = 1:\n",
    "                g.node[speaker]['bias'] = g.node[speaker]['bias']+1\n",
    "            else:\n",
    "                g.node[speaker]['bias'] = g.node[speaker]['bias']-1             \n",
    "        elif :\n",
    "    \n",
    "def init_fig():\n",
    "    global fig, viz\n",
    "    fig = figure()\n",
    "    viz = nx.draw(g, with_labels=True, pos = positions,\n",
    "                 node_color = [choose_color(g.nodes[n]['state'], n) for n in g.nodes])\n",
    "\n",
    "def choose_color(state, node_num):\n",
    "    if state == 0 and node_num != s:\n",
    "        return 'g'\n",
    "    elif state == 1 and node_num != s:\n",
    "        return 'r'\n",
    "    else:\n",
    "        return 'b'\n",
    "    \n",
    "def observe():\n",
    "    global g\n",
    "    #cla()\n",
    "    nx.draw(g, cmap = cm.binary, vmin = 0, vmax = 1,\n",
    "        node_color = [choose_color(g.nodes[n]['state'], n)\n",
    "                               for n in g.nodes],\n",
    "            pos = positions)\n",
    "\n",
    "    \n",
    "########################################\n",
    "init()\n",
    "init_fig()\n",
    "def step(t):\n",
    "    update()\n",
    "    observe()\n",
    "    return [viz]\n",
    "ani = FuncAnimation(fig, step, interval=0)\n",
    "show()"
   ]
  },
  {
   "cell_type": "code",
   "execution_count": null,
   "metadata": {},
   "outputs": [],
   "source": []
  }
 ],
 "metadata": {
  "kernelspec": {
   "display_name": "Python 2",
   "language": "python",
   "name": "python2"
  },
  "language_info": {
   "codemirror_mode": {
    "name": "ipython",
    "version": 2
   },
   "file_extension": ".py",
   "mimetype": "text/x-python",
   "name": "python",
   "nbconvert_exporter": "python",
   "pygments_lexer": "ipython2",
   "version": "2.7.15"
  }
 },
 "nbformat": 4,
 "nbformat_minor": 2
}
