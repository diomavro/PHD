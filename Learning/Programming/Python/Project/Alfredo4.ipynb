{
 "cells": [
  {
   "cell_type": "code",
   "execution_count": 33,
   "metadata": {},
   "outputs": [],
   "source": [
    "import json\n",
    "from collections import Counter\n",
    "import numpy as np\n",
    "import matplotlib.pyplot as pl\n",
    "import networkx as nx"
   ]
  },
  {
   "cell_type": "code",
   "execution_count": 2,
   "metadata": {},
   "outputs": [
    {
     "data": {
      "text/plain": [
       "<function close>"
      ]
     },
     "execution_count": 2,
     "metadata": {},
     "output_type": "execute_result"
    }
   ],
   "source": [
    "f = open(\"dataset_20180613122533.json\",'r')\n",
    "tweets = json.load(f)\n",
    "f.close"
   ]
  },
  {
   "cell_type": "code",
   "execution_count": 3,
   "metadata": {},
   "outputs": [
    {
     "name": "stdout",
     "output_type": "stream",
     "text": [
      "151\n"
     ]
    }
   ],
   "source": [
    "print len(tweets)\n",
    "#print tweets"
   ]
  },
  {
   "cell_type": "code",
   "execution_count": 42,
   "metadata": {},
   "outputs": [],
   "source": [
    "def AnalyzeUserActivity():    \n",
    "    user_activity = Counter()\n",
    "    for tweet in tweets:\n",
    "        #print tweet.keys()\n",
    "        #print tweet['text'] #The tweet\n",
    "        #print tweet['place'] #Which city\n",
    "        #print tweet['geo'] #Where they are\n",
    "        user_activity.update([tweet['user']['screen_name']]) #Authors of each tweet\n",
    "    print user_activity.most_common()\n",
    "    print sum(user_activity.values())\n",
    "    print np.mean(user_activity.values())\n",
    "    y,x = np.histogram(user_activity.values(),bins=7)\n",
    "    x = x[:-1]\n",
    "    y = 1.*y/sum(y)\n",
    "    y=1-np.add.accumulate(y)\n",
    "    pl.plot(x,y,'.-')\n",
    "    pl.show\n",
    "\n",
    "def BuildGraph():\n",
    "    G = nx.Graph()\n",
    "    for tweet in tweets:\n",
    "        from_user = tweet['user']['screen_name']\n",
    "        # print tweet.keys()\n",
    "        mentions = tweet['entities']['user_mentions'] #for every tweet print all your mentions\n",
    "        for mentioned_user in mentions:\n",
    "            #if G.has_edge(from_user,mentioned_user['screen_name']) #adding weights to a graph\n",
    "            # print from_user, mentioned_user['screen_name'] #prints the sender and receiver\n",
    "            G.add_edge(from_user, mentioned_user['screen_name']) #pairs of user\n",
    "    nx.write_gml(G,'graph.gml') #GML is a language that not everybody likes, it creates a file with nodes and edges\n",
    "    #G.edges() \n",
    "    #print G.degree()\n",
    "BuildGraph()\n",
    "    "
   ]
  },
  {
   "cell_type": "code",
   "execution_count": null,
   "metadata": {},
   "outputs": [],
   "source": [
    "AnalyzeUserActivity()"
   ]
  },
  {
   "cell_type": "code",
   "execution_count": null,
   "metadata": {},
   "outputs": [],
   "source": []
  }
 ],
 "metadata": {
  "kernelspec": {
   "display_name": "Python 2",
   "language": "python",
   "name": "python2"
  },
  "language_info": {
   "codemirror_mode": {
    "name": "ipython",
    "version": 2
   },
   "file_extension": ".py",
   "mimetype": "text/x-python",
   "name": "python",
   "nbconvert_exporter": "python",
   "pygments_lexer": "ipython2",
   "version": "2.7.15"
  }
 },
 "nbformat": 4,
 "nbformat_minor": 2
}
