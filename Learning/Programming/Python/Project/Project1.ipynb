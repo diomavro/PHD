{
 "cells": [
  {
   "cell_type": "code",
   "execution_count": null,
   "metadata": {
    "collapsed": true
   },
   "outputs": [],
   "source": [
    "import matplotlib\n",
    "matplotlib.use('Qt5Agg')\n",
    "\n",
    "from pylab import *\n",
    "from matplotlib.animation import FuncAnimation\n",
    "import networkx as nx\n",
    "import random as rd"
   ]
  },
  {
   "cell_type": "code",
   "execution_count": 15,
   "metadata": {},
   "outputs": [
    {
     "ename": "SyntaxError",
     "evalue": "invalid syntax (<ipython-input-15-5c5b835e275d>, line 21)",
     "output_type": "error",
     "traceback": [
      "\u001b[1;36m  File \u001b[1;32m\"<ipython-input-15-5c5b835e275d>\"\u001b[1;36m, line \u001b[1;32m21\u001b[0m\n\u001b[1;33m    if g.nodes[n]['state'] == 0 and g.nodes[n] != s:\u001b[0m\n\u001b[1;37m     ^\u001b[0m\n\u001b[1;31mSyntaxError\u001b[0m\u001b[1;31m:\u001b[0m invalid syntax\n"
     ]
    }
   ],
   "source": [
    "def init():\n",
    "    global g, positions\n",
    "    g = nx.karate_club_graph()\n",
    "    for i in g:\n",
    "        g.node[i]['state'] = 1 if random() < .5 else 0\n",
    "    s=rd.choice(list(g.node())) #### Changes! THis is the stubborn guy\n",
    "    positions = nx.spring_layout(g)\n",
    "    \n",
    "def update():\n",
    "    global g\n",
    "    listener = rd.choice(list(g.nodes()))\n",
    "    speaker = rd.choice(list(g.neighbors(listener)))\n",
    "    if listener != s:#### Changes!\n",
    "        g.node[listener]['state'] = g.node[speaker]['state']\n",
    "    \n",
    "def init_fig():\n",
    "    global fig, viz\n",
    "    fig = figure()\n",
    "    viz = nx.draw(g, with_labels=True, pos = positions,\n",
    "                 node_color = [\n",
    "                                   if g.nodes[n]['state'] == 0 and g.nodes[n] != s: #### HERE!\n",
    "                                       'g'  #### HERE!\n",
    "                                   elif g.nodes[n]['state'] == 1 and g.nodes[n] != s:#### HERE!\n",
    "                                       'r'\n",
    "                                   else:#### HERE!\n",
    "                                       'b'#### HERE!\n",
    "                                 for n in g.nodes #### HERE!\n",
    "                               ])\n",
    "    \n",
    "def observe():\n",
    "    global g\n",
    "    #cla()\n",
    "    nx.draw(g, cmap = cm.binary, vmin = 0, vmax = 1,\n",
    "        node_color = ['g' if g.nodes[n]['state'] == 0 else 'r'\n",
    "                               for n in g.nodes],\n",
    "            pos = positions)\n",
    "\n",
    "    \n",
    "########################################\n",
    "init()\n",
    "init_fig()\n",
    "def step(t):\n",
    "    update()\n",
    "    observe()\n",
    "    return [viz]\n",
    "ani = FuncAnimation(fig, step, interval=0)\n",
    "show()"
   ]
  },
  {
   "cell_type": "code",
   "execution_count": null,
   "metadata": {
    "collapsed": true
   },
   "outputs": [],
   "source": []
  }
 ],
 "metadata": {
  "kernelspec": {
   "display_name": "Python 2",
   "language": "python",
   "name": "python2"
  },
  "language_info": {
   "codemirror_mode": {
    "name": "ipython",
    "version": 2
   },
   "file_extension": ".py",
   "mimetype": "text/x-python",
   "name": "python",
   "nbconvert_exporter": "python",
   "pygments_lexer": "ipython2",
   "version": "2.7.15"
  }
 },
 "nbformat": 4,
 "nbformat_minor": 2
}
