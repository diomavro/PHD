{
 "cells": [
  {
   "cell_type": "code",
   "execution_count": null,
   "metadata": {},
   "outputs": [],
   "source": [
    "states = [\"One\",\"Two\",\"Three\"]"
   ]
  },
  {
   "cell_type": "code",
   "execution_count": 5,
   "metadata": {},
   "outputs": [
    {
     "name": "stdout",
     "output_type": "stream",
     "text": [
      "[[0. 2. 1.]\n",
      " [1. 2. 1.]\n",
      " [2. 0. 0.]]\n"
     ]
    },
    {
     "data": {
      "text/plain": [
       "array([[0., 2., 1.],\n",
       "       [1., 2., 1.],\n",
       "       [2., 0., 0.]])"
      ]
     },
     "execution_count": 5,
     "metadata": {},
     "output_type": "execute_result"
    }
   ],
   "source": [
    "import numpy as np\n",
    "from collections import Counter\n",
    "a = [2, 1, 3, 1, 2, 3, 1, 2, 2, 2]\n",
    "b = np.zeros((3,3))\n",
    "for (x,y), c in Counter(zip(a, a[1:])).iteritems():\n",
    "    b[x-1,y-1] = c\n",
    "print b\n",
    "np.array([[ 0.,  2.,  1.],\n",
    "       [ 1.,  2.,  1.],\n",
    "       [ 2.,  0.,  0.]])"
   ]
  },
  {
   "cell_type": "code",
   "execution_count": 8,
   "metadata": {},
   "outputs": [],
   "source": [
    "import numpy as np\n",
    "import csv\n",
    "import pylab "
   ]
  },
  {
   "cell_type": "code",
   "execution_count": 13,
   "metadata": {},
   "outputs": [],
   "source": [
    "f = open('C:\\Users\\DavidEttinger02\\Downloads\\\\Book1 (1).csv','r')\n",
    "fcsv = csv.reader(f)\n",
    "data = [row for row in fcsv]\n",
    "f.close()"
   ]
  },
  {
   "cell_type": "code",
   "execution_count": 17,
   "metadata": {},
   "outputs": [
    {
     "data": {
      "text/plain": [
       "array([[0, 1, 0, 2, 1, 3, 0, 2, 1, 0],\n",
       "       [1, 3, 0, 3, 1, 1, 3, 0, 3, 0],\n",
       "       [0, 1, 1, 3, 1, 1, 3, 2, 2, 0],\n",
       "       [0, 0, 2, 3, 0, 0, 3, 3, 0, 1],\n",
       "       [1, 3, 1, 2, 1, 2, 3, 3, 1, 3]])"
      ]
     },
     "execution_count": 17,
     "metadata": {},
     "output_type": "execute_result"
    }
   ],
   "source": [
    "b = np.random.randint(4, size=(5, 10))"
   ]
  },
  {
   "cell_type": "code",
   "execution_count": 11,
   "metadata": {},
   "outputs": [],
   "source": [
    "b = [0,1,3,2,1,2,2,1,2]\n",
    "c = [0,2,3,1,1,2,2,3,3]\n",
    "d = [0,2,3,1,1,1,2,3,2]"
   ]
  },
  {
   "cell_type": "code",
   "execution_count": 14,
   "metadata": {},
   "outputs": [
    {
     "name": "stdout",
     "output_type": "stream",
     "text": [
      "[[0. 0. 0. 0.]\n",
      " [0. 0. 2. 1.]\n",
      " [0. 1. 2. 1.]\n",
      " [0. 2. 0. 0.]]\n"
     ]
    },
    {
     "ename": "NameError",
     "evalue": "name 'all_rows' is not defined",
     "output_type": "error",
     "traceback": [
      "\u001b[1;31m\u001b[0m",
      "\u001b[1;31mNameError\u001b[0mTraceback (most recent call last)",
      "\u001b[1;32m<ipython-input-14-d58a912cdbe3>\u001b[0m in \u001b[0;36m<module>\u001b[1;34m()\u001b[0m\n\u001b[0;32m     27\u001b[0m \u001b[1;33m\u001b[0m\u001b[0m\n\u001b[0;32m     28\u001b[0m \u001b[1;33m\u001b[0m\u001b[0m\n\u001b[1;32m---> 29\u001b[1;33m \u001b[1;32mfor\u001b[0m \u001b[0mrow\u001b[0m \u001b[1;32min\u001b[0m \u001b[0mall_rows\u001b[0m\u001b[1;33m:\u001b[0m\u001b[1;33m\u001b[0m\u001b[0m\n\u001b[0m\u001b[0;32m     30\u001b[0m \u001b[1;33m\u001b[0m\u001b[0m\n\u001b[0;32m     31\u001b[0m     \u001b[0mm\u001b[0m \u001b[1;33m=\u001b[0m \u001b[0mm\u001b[0m \u001b[1;33m+\u001b[0m \u001b[0mget_transitions_from_star_list\u001b[0m\u001b[1;33m(\u001b[0m\u001b[0mrow\u001b[0m\u001b[1;33m)\u001b[0m\u001b[1;33m\u001b[0m\u001b[0m\n",
      "\u001b[1;31mNameError\u001b[0m: name 'all_rows' is not defined"
     ]
    }
   ],
   "source": [
    "b = data\n",
    "\n",
    "def get_transitions_from_star_list(a):\n",
    "\n",
    "    b = [(a[i], a[i+1]) for i in range(len(a)-1)]\n",
    "\n",
    "    m = np.zeros((4,4))\n",
    "\n",
    "    for tup in b:\n",
    "\n",
    "        i, j = tup\n",
    "\n",
    "        i, j = int(i), int(j)\n",
    "\n",
    "        m[i, j] = m[i,j] + 1\n",
    "\n",
    "    return m\n",
    "\n",
    "\n",
    "print(get_transitions_from_star_list(a))\n",
    "\n",
    "m = np.zeros((4,4))\n",
    "\n",
    "\n",
    "for row in all_rows:\n",
    "\n",
    "    m = m + get_transitions_from_star_list(row)\n",
    "\n",
    "\n",
    "for i in range(m.shape[0]):\n",
    "\n",
    "    m[i] = m[i]/(sum(m[i]) or 1)"
   ]
  },
  {
   "cell_type": "code",
   "execution_count": null,
   "metadata": {},
   "outputs": [],
   "source": []
  }
 ],
 "metadata": {
  "kernelspec": {
   "display_name": "Python 2",
   "language": "python",
   "name": "python2"
  },
  "language_info": {
   "codemirror_mode": {
    "name": "ipython",
    "version": 2
   },
   "file_extension": ".py",
   "mimetype": "text/x-python",
   "name": "python",
   "nbconvert_exporter": "python",
   "pygments_lexer": "ipython2",
   "version": "2.7.15"
  }
 },
 "nbformat": 4,
 "nbformat_minor": 2
}
