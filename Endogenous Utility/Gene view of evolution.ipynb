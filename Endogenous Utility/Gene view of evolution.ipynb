{
 "cells": [
  {
   "cell_type": "markdown",
   "metadata": {},
   "source": [
    "$$ rB>C $$\n",
    "$$\\delta v = rB-C $$\n",
    "n organisms\n",
    "q of them share an altruistic allele\n",
    "Altruistic action is distributed to population, so \n",
    "$$\\frac{B}{n-1}$$\n",
    "Including the $q-1$ altruists, and the n-q non altruists\n",
    "The benefit to the altruistic individual is then:\n",
    "$$ \\delta v_1 = [\\frac{(q-1)}{n-1}]B-C$$\n",
    "$$ \\delta v_0 = [\\frac{q}{n-1}]B$$\n",
    "The total number who receive the first benefit are q, and the toal number who receive second in n-q\n",
    "So the aggregation, the number of offsprings of each organism is:\n",
    "$$ \\delta \\mu_1 = q[[\\frac{(q-1)}{n-1}]B-C]$$\n",
    "$$ \\delta \\mu_0 = (n-q)[[\\frac{q}{n-1}]B]$$\n",
    "The difference between these two is then:\n",
    "$$\\delta \\mu = q[[\\frac{(q-1)}{n-1}]B-C]-(n-q)[[\\frac{q}{n-1}]B]$$\n",
    "$$=[\\frac{(2q^2-q-nq)}{n-1}]B-qC $$\n",
    "The relative growth of non-altruists is:\n",
    "$$ v_1-v_0 = -\\frac{B}{n-1}-C$$"
   ]
  },
  {
   "cell_type": "code",
   "execution_count": null,
   "metadata": {},
   "outputs": [],
   "source": []
  }
 ],
 "metadata": {
  "kernelspec": {
   "display_name": "Python 3",
   "language": "python",
   "name": "python3"
  },
  "language_info": {
   "codemirror_mode": {
    "name": "ipython",
    "version": 3
   },
   "file_extension": ".py",
   "mimetype": "text/x-python",
   "name": "python",
   "nbconvert_exporter": "python",
   "pygments_lexer": "ipython3",
   "version": "3.7.3"
  }
 },
 "nbformat": 4,
 "nbformat_minor": 2
}
