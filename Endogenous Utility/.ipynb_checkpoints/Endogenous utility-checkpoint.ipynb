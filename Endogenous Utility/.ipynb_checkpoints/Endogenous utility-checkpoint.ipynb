{
 "cells": [
  {
   "cell_type": "markdown",
   "metadata": {},
   "source": [
    "Example 1: \n",
    "Choose A or B, both randomly take value high or low. Each  choice has some probability of being below some threshold, c,  $P(A>c)$ \n",
    "If both choices are low or high the choice is made randomly. \n",
    "We are looking for the optimal c.\n",
    "The probability of error is $\\frac{1}{2}P(A,B \\leq c)+\\frac{1}{2}P(A,B \\geq c)=\\frac{1}{2}(F(c))^2+\\frac{1}{2}(1-F(c))^2$. This is clearly minimized for probability $\\frac{1}{2}$.\n",
    "\n",
    "Suppose more generally that the organism can chose N threshold values. $c_1<c_2<...<c_3$. The probability of error is now: $\\frac{1}{2}(F(c_1))^2+\\frac{1}{2}(F(c_2)-F(c_1))^2...+\\frac{1}{2}(F(c_N)-F(c_{N-1}))^2+\\frac{1}{2}(1-F(c_N))^2$. The optimal values of $c_1$ satisfy $F(c_i)= \\frac{i}{N+1}, i = 1,...N$\n",
    "\n",
    "Suppose each threshold value you use actually costs something, as the cost goes to 0, you will have no error. \n",
    "\n",
    "\n",
    "Example 2:\n",
    "Expected offspring if age is d is $m_d>0, d = 1,2,3$. If the age structured population vector at date t $n_t = (n^1_t,n^2_t,n^3_t)$. The evolution of this will be: $n_{t+1}=n_{t}L$ where L is the leslie Matrix \n",
    "\n",
    "$L = \\begin{bmatrix} \n",
    "m_1 & 1 & 0 \\\\\n",
    "m_2 & 0 & 1 \\\\\n",
    "m_3 & 0 & 0\n",
    "\\end{bmatrix}$\n",
    "\n",
    "Hence $n_t = n_0 L^t$, the growth rate of population converges to dominant eigen value. Characteristic equation of L is: $1 = \\frac{m_1}{\\lambda}+\\frac{m_2}{\\lambda^2}+\\frac{m_3}{\\lambda^3}$\n",
    "\n",
    "Suppose there is some profile that has $(m_1^*,m_2^*,m_3^*)$, with Eigen value $\\lambda*$\n",
    "\n",
    "Since the RHS of the characteristic equation is decreasing in Lambba. \n",
    "\n",
    "$1 = \\frac{m_1^*}{\\lambda^*}+\\frac{m_2^*}{\\lambda^{*2}}+\\frac{m_3^*}{\\lambda^{*3}}=\\frac{m_1}{\\lambda}+\\frac{m_2}{\\lambda^2}+\\frac{m_3}{\\lambda^3}>\\frac{m_1}{\\lambda^*}+\\frac{m_2}{\\lambda^{*2}}+\\frac{m_3}{\\lambda^{*3}}$\n"
   ]
  },
  {
   "cell_type": "markdown",
   "metadata": {},
   "source": [
    "Example 3: \n",
    "Suppose there is a type i, who will receive bundle $x_k^i$ with probability $q_k^i$. If these gambles are independent over all individuals, the consumption bundle x induxes expected offspring given by $\\Psi(x)$ for all types. The type i then selected that maximizes overall expected offspring: $\\sum_k q_k^i \\Psi(x^i_k)$, so VNM is biological in origin. \n",
    "\n",
    "If there is both idiosncratic and aggregate risk $\\xi$, with realization $\\xi^s$ with probability $\\pi^s$. In each environment, each type of individual faces idiosyntatic risk, $q_k^{i,s}$ bundle, $x_k^{i,s}$ is attained in environment $\\xi^s$ by type i. Any commodity bundle induces the same expected offspring, $\\phi(x)$, so conditional on environment s,  $\\sum_k q_k^{i,s} \\Psi(x_k^{i,s}) $. This leads to the following economic criterion, $\\sum \\pi^s ln(\\sum q_k^{i,s} \\Psi(x_k^{i,s}))$"
   ]
  },
  {
   "cell_type": "markdown",
   "metadata": {},
   "source": [
    "Example 4: Squirrels\n",
    "a: long winter\n",
    "1-a: Short winter\n",
    "S and L squirrels. L die with prob 1/2 gathering nuts, whilst S die with prob 1/4. S will die for sure in the long winter. It stores enough for a short winter with  with probability 1-$\\pi $ and enough for a long winter with probability $\\pi$. The growth rate of this type is then:\n",
    "aln(\\frac{\\pi}{2})+(1-a)ln(\\frac{\\pi}{2}+\\frac{3/4}{1-\\pi}), the choice that maximizes this rate is 3a. \n",
    "\n",
    "Example 5: \n",
    "Choice 1: 2\n",
    "Choice 2: Equi probablye, 4 to 0. Suppose 2 is stored in memory as the uniform distribution [1,3]. 0 is recmembered accurately and 4 is remembered as uniform [2,6]. The draw is then more likely to be "
   ]
  },
  {
   "cell_type": "code",
   "execution_count": null,
   "metadata": {},
   "outputs": [],
   "source": []
  }
 ],
 "metadata": {
  "kernelspec": {
   "display_name": "Python 3",
   "language": "python",
   "name": "python3"
  },
  "language_info": {
   "codemirror_mode": {
    "name": "ipython",
    "version": 3
   },
   "file_extension": ".py",
   "mimetype": "text/x-python",
   "name": "python",
   "nbconvert_exporter": "python",
   "pygments_lexer": "ipython3",
   "version": "3.7.3"
  }
 },
 "nbformat": 4,
 "nbformat_minor": 2
}
